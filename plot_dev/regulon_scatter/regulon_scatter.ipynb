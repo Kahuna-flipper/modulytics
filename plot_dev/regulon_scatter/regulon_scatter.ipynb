{
 "cells": [
  {
   "cell_type": "markdown",
   "metadata": {},
   "source": [
    "# All Regulon Scatter Plots\n",
    "\n",
    "This generates the data for all regulon scatter plots for i-modulons in PRECISE 1.0 so that they can be plotted in the ModulomeVis site."
   ]
  },
  {
   "cell_type": "code",
   "execution_count": 24,
   "metadata": {},
   "outputs": [],
   "source": [
    "import sys\n",
    "# be sure that this points to a clone of github.com/SBRG/ICA\n",
    "sys.path.append('../../../ica/') \n",
    "from icaviz.plotting import *\n",
    "DATA_DIR = '../../../ica/data/precise_data/'\n",
    "GENE_DIR = '../../../ica/data/annotation/'\n",
    "enrich = pd.read_csv(DATA_DIR+'curated_enrichments.csv', index_col = 0)\n",
    "names = enrich['name'].tolist()\n",
    "ica_data = load_data(X=DATA_DIR+'log_tpm.csv',\n",
    "                     S=DATA_DIR+'S.csv',\n",
    "                     A=DATA_DIR+'A.csv',\n",
    "                     metadata=DATA_DIR+'metadata.csv',\n",
    "                     annotation=GENE_DIR+'gene_info.csv',\n",
    "                     trn=GENE_DIR+'TRN.csv',\n",
    "                     fasta=GENE_DIR+'NC_000913.3.fasta',\n",
    "                     cutoff = 550,\n",
    "                     organism='ecoli')\n",
    "pd.set_option('display.max_rows', None)"
   ]
  },
  {
   "cell_type": "code",
   "execution_count": 3,
   "metadata": {},
   "outputs": [],
   "source": [
    "from regulon_scatter import * #replace py file name"
   ]
  },
  {
   "cell_type": "markdown",
   "metadata": {},
   "source": [
    "## Anand's functions"
   ]
  },
  {
   "cell_type": "code",
   "execution_count": 55,
   "metadata": {},
   "outputs": [],
   "source": [
    "from scipy.optimize import curve_fit\n",
    "from sklearn.metrics import r2_score\n",
    "\n",
    "def broken_line(x, A, B, C): # this is your 'straight line' y=f(x)\n",
    "    y = np.zeros(len(x),dtype=np.float)\n",
    "    y += (A*x+B) * (x >= C)\n",
    "    y += (A*C + B) * (x < C)\n",
    "    return y\n",
    "\n",
    "def solid_line(x,A,B):\n",
    "    y = (A*x+B)\n",
    "    return y\n",
    "\n",
    "def get_fit(x,y):\n",
    "    \n",
    "    def adj_r2(f,x,y,params):\n",
    "        n = len(x)\n",
    "        k = len(params)-1\n",
    "        r2 = r2_score(y,f(x,*params))\n",
    "        return 1 - np.true_divide((1-r2)*(n-1),(n-k-1))\n",
    "\n",
    "    all_params = []\n",
    "    for c in [min(x),np.mean(x),max(x)]:\n",
    "        try:\n",
    "            all_params.append(curve_fit(broken_line, x, y,p0=[1,1,c])[0])\n",
    "        except:\n",
    "            pass\n",
    "        \n",
    "    all_params.append(curve_fit(solid_line,x,y)[0])\n",
    "\n",
    "    best_r2 = -np.inf\n",
    "    for params in all_params:\n",
    "        if len(params) == 2:\n",
    "            r2 = adj_r2(solid_line,x,y,params)\n",
    "        else:\n",
    "            r2 = adj_r2(broken_line,x,y,params)\n",
    "            \n",
    "        if r2 > best_r2:\n",
    "            best_r2 = r2\n",
    "            best_params = params\n",
    "            \n",
    "    if best_r2 < 0:\n",
    "        return [0,np.mean(y)],0\n",
    "\n",
    "    return best_params,best_r2"
   ]
  },
  {
   "cell_type": "markdown",
   "metadata": {},
   "source": [
    "## Working Here"
   ]
  },
  {
   "cell_type": "code",
   "execution_count": 76,
   "metadata": {},
   "outputs": [],
   "source": [
    "import re\n",
    "\n",
    "def get_tfs_to_scatter(tf_string):\n",
    "    \n",
    "    rename_tfs = {'csqR':'yihW', 'hprR':'yedW'}\n",
    "    res = []\n",
    "    if type(tf_string) == str:\n",
    "        tfs = re.split('\\+|\\/', tf_string)\n",
    "        \n",
    "        for tf in tfs:\n",
    "            if tf in rename_tfs.keys():\n",
    "                tf = rename_tfs[tf]\n",
    "            \n",
    "            if tf in ica_data.name2num.keys():\n",
    "                b_num = ica_data.name2num[tf]\n",
    "                if b_num in ica_data.X.index:\n",
    "                    res += [tf]\n",
    "    return res"
   ]
  },
  {
   "cell_type": "code",
   "execution_count": 109,
   "metadata": {},
   "outputs": [],
   "source": [
    "def regulon_scatter_df(ica_data, k, row):\n",
    "    tfs = get_tfs_to_scatter(row.TF)\n",
    "\n",
    "    if len(tfs) == 0:\n",
    "        return None\n",
    "\n",
    "    # coordinates for points\n",
    "    coord = pd.DataFrame(columns = ['A']+tfs, index = ica_data.A.columns)\n",
    "    coord['A'] = ica_data.A.loc[k]\n",
    "    ylim = np.array([coord['A'].min(),coord['A'].max()])\n",
    "    \n",
    "    # params for fit line\n",
    "    param_df = pd.DataFrame(columns = ['A']+tfs, index = ['R2', 'xmin', 'xmid', 'xmax', 'ystart', 'yend'])\n",
    "    \n",
    "    # fill in dfs\n",
    "    for tf in tfs:\n",
    "\n",
    "        # coordinates\n",
    "        coord[tf] = ica_data.X.loc[ica_data.name2num[tf]]\n",
    "        xlim = np.array([coord[tf].min(), coord[tf].max()])\n",
    "        # fit line\n",
    "        params, r2 = get_fit(coord[tf], coord['A'])\n",
    "        if len(params) == 2: # unbroken\n",
    "            y = solid_line(xlim,*params)\n",
    "            out = [xlim[0], np.nan, xlim[1], y[0], y[1]] \n",
    "        else: # broken\n",
    "            xvals = np.array([xlim[0],params[2],xlim[1]])\n",
    "            y = broken_line(xvals,*params)\n",
    "            out = [xlim[0], params[2], xlim[1], y[0], y[2]]\n",
    "\n",
    "        param_df[tf] = [r2]+out \n",
    "\n",
    "    res = pd.concat([param_df, coord], axis = 0)\n",
    "    res = res.sort_values('R2', axis = 1, ascending=False)\n",
    "    res = res[pd.Index(['A']).append(res.columns.drop('A'))]\n",
    "    \n",
    "    return res"
   ]
  },
  {
   "cell_type": "markdown",
   "metadata": {},
   "source": [
    "## Generate all CSVs"
   ]
  },
  {
   "cell_type": "code",
   "execution_count": 111,
   "metadata": {
    "scrolled": true
   },
   "outputs": [
    {
     "name": "stderr",
     "output_type": "stream",
     "text": [
      "/home/kevin/anaconda3/lib/python3.7/site-packages/scipy/optimize/minpack.py:795 \u001b[1;31mOptimizeWarning\u001b[0m: Covariance of the parameters could not be estimated\n",
      "/home/kevin/anaconda3/lib/python3.7/site-packages/scipy/optimize/minpack.py:795 \u001b[1;31mOptimizeWarning\u001b[0m: Covariance of the parameters could not be estimated\n",
      "/home/kevin/anaconda3/lib/python3.7/site-packages/scipy/optimize/minpack.py:795 \u001b[1;31mOptimizeWarning\u001b[0m: Covariance of the parameters could not be estimated\n",
      "/home/kevin/anaconda3/lib/python3.7/site-packages/scipy/optimize/minpack.py:795 \u001b[1;31mOptimizeWarning\u001b[0m: Covariance of the parameters could not be estimated\n",
      "/home/kevin/anaconda3/lib/python3.7/site-packages/scipy/optimize/minpack.py:795 \u001b[1;31mOptimizeWarning\u001b[0m: Covariance of the parameters could not be estimated\n",
      "/home/kevin/anaconda3/lib/python3.7/site-packages/scipy/optimize/minpack.py:795 \u001b[1;31mOptimizeWarning\u001b[0m: Covariance of the parameters could not be estimated\n",
      "/home/kevin/anaconda3/lib/python3.7/site-packages/scipy/optimize/minpack.py:795 \u001b[1;31mOptimizeWarning\u001b[0m: Covariance of the parameters could not be estimated\n",
      "/home/kevin/anaconda3/lib/python3.7/site-packages/scipy/optimize/minpack.py:795 \u001b[1;31mOptimizeWarning\u001b[0m: Covariance of the parameters could not be estimated\n",
      "/home/kevin/anaconda3/lib/python3.7/site-packages/scipy/optimize/minpack.py:795 \u001b[1;31mOptimizeWarning\u001b[0m: Covariance of the parameters could not be estimated\n",
      "/home/kevin/anaconda3/lib/python3.7/site-packages/scipy/optimize/minpack.py:795 \u001b[1;31mOptimizeWarning\u001b[0m: Covariance of the parameters could not be estimated\n",
      "/home/kevin/anaconda3/lib/python3.7/site-packages/scipy/optimize/minpack.py:795 \u001b[1;31mOptimizeWarning\u001b[0m: Covariance of the parameters could not be estimated\n",
      "/home/kevin/anaconda3/lib/python3.7/site-packages/scipy/optimize/minpack.py:795 \u001b[1;31mOptimizeWarning\u001b[0m: Covariance of the parameters could not be estimated\n",
      "/home/kevin/anaconda3/lib/python3.7/site-packages/scipy/optimize/minpack.py:795 \u001b[1;31mOptimizeWarning\u001b[0m: Covariance of the parameters could not be estimated\n",
      "/home/kevin/anaconda3/lib/python3.7/site-packages/scipy/optimize/minpack.py:795 \u001b[1;31mOptimizeWarning\u001b[0m: Covariance of the parameters could not be estimated\n",
      "/home/kevin/anaconda3/lib/python3.7/site-packages/scipy/optimize/minpack.py:795 \u001b[1;31mOptimizeWarning\u001b[0m: Covariance of the parameters could not be estimated\n",
      "/home/kevin/anaconda3/lib/python3.7/site-packages/scipy/optimize/minpack.py:795 \u001b[1;31mOptimizeWarning\u001b[0m: Covariance of the parameters could not be estimated\n",
      "/home/kevin/anaconda3/lib/python3.7/site-packages/scipy/optimize/minpack.py:795 \u001b[1;31mOptimizeWarning\u001b[0m: Covariance of the parameters could not be estimated\n",
      "/home/kevin/anaconda3/lib/python3.7/site-packages/scipy/optimize/minpack.py:795 \u001b[1;31mOptimizeWarning\u001b[0m: Covariance of the parameters could not be estimated\n",
      "/home/kevin/anaconda3/lib/python3.7/site-packages/scipy/optimize/minpack.py:795 \u001b[1;31mOptimizeWarning\u001b[0m: Covariance of the parameters could not be estimated\n",
      "/home/kevin/anaconda3/lib/python3.7/site-packages/scipy/optimize/minpack.py:795 \u001b[1;31mOptimizeWarning\u001b[0m: Covariance of the parameters could not be estimated\n",
      "/home/kevin/anaconda3/lib/python3.7/site-packages/scipy/optimize/minpack.py:795 \u001b[1;31mOptimizeWarning\u001b[0m: Covariance of the parameters could not be estimated\n",
      "/home/kevin/anaconda3/lib/python3.7/site-packages/scipy/optimize/minpack.py:795 \u001b[1;31mOptimizeWarning\u001b[0m: Covariance of the parameters could not be estimated\n",
      "/home/kevin/anaconda3/lib/python3.7/site-packages/scipy/optimize/minpack.py:795 \u001b[1;31mOptimizeWarning\u001b[0m: Covariance of the parameters could not be estimated\n",
      "/home/kevin/anaconda3/lib/python3.7/site-packages/scipy/optimize/minpack.py:795 \u001b[1;31mOptimizeWarning\u001b[0m: Covariance of the parameters could not be estimated\n",
      "/home/kevin/anaconda3/lib/python3.7/site-packages/scipy/optimize/minpack.py:795 \u001b[1;31mOptimizeWarning\u001b[0m: Covariance of the parameters could not be estimated\n",
      "/home/kevin/anaconda3/lib/python3.7/site-packages/scipy/optimize/minpack.py:795 \u001b[1;31mOptimizeWarning\u001b[0m: Covariance of the parameters could not be estimated\n",
      "/home/kevin/anaconda3/lib/python3.7/site-packages/scipy/optimize/minpack.py:795 \u001b[1;31mOptimizeWarning\u001b[0m: Covariance of the parameters could not be estimated\n",
      "/home/kevin/anaconda3/lib/python3.7/site-packages/scipy/optimize/minpack.py:795 \u001b[1;31mOptimizeWarning\u001b[0m: Covariance of the parameters could not be estimated\n",
      "/home/kevin/anaconda3/lib/python3.7/site-packages/scipy/optimize/minpack.py:795 \u001b[1;31mOptimizeWarning\u001b[0m: Covariance of the parameters could not be estimated\n",
      "/home/kevin/anaconda3/lib/python3.7/site-packages/scipy/optimize/minpack.py:795 \u001b[1;31mOptimizeWarning\u001b[0m: Covariance of the parameters could not be estimated\n",
      "/home/kevin/anaconda3/lib/python3.7/site-packages/scipy/optimize/minpack.py:795 \u001b[1;31mOptimizeWarning\u001b[0m: Covariance of the parameters could not be estimated\n",
      "/home/kevin/anaconda3/lib/python3.7/site-packages/scipy/optimize/minpack.py:795 \u001b[1;31mOptimizeWarning\u001b[0m: Covariance of the parameters could not be estimated\n",
      "/home/kevin/anaconda3/lib/python3.7/site-packages/scipy/optimize/minpack.py:795 \u001b[1;31mOptimizeWarning\u001b[0m: Covariance of the parameters could not be estimated\n",
      "/home/kevin/anaconda3/lib/python3.7/site-packages/scipy/optimize/minpack.py:795 \u001b[1;31mOptimizeWarning\u001b[0m: Covariance of the parameters could not be estimated\n",
      "/home/kevin/anaconda3/lib/python3.7/site-packages/scipy/optimize/minpack.py:795 \u001b[1;31mOptimizeWarning\u001b[0m: Covariance of the parameters could not be estimated\n",
      "/home/kevin/anaconda3/lib/python3.7/site-packages/scipy/optimize/minpack.py:795 \u001b[1;31mOptimizeWarning\u001b[0m: Covariance of the parameters could not be estimated\n",
      "/home/kevin/anaconda3/lib/python3.7/site-packages/scipy/optimize/minpack.py:795 \u001b[1;31mOptimizeWarning\u001b[0m: Covariance of the parameters could not be estimated\n",
      "/home/kevin/anaconda3/lib/python3.7/site-packages/scipy/optimize/minpack.py:795 \u001b[1;31mOptimizeWarning\u001b[0m: Covariance of the parameters could not be estimated\n",
      "/home/kevin/anaconda3/lib/python3.7/site-packages/scipy/optimize/minpack.py:795 \u001b[1;31mOptimizeWarning\u001b[0m: Covariance of the parameters could not be estimated\n",
      "/home/kevin/anaconda3/lib/python3.7/site-packages/scipy/optimize/minpack.py:795 \u001b[1;31mOptimizeWarning\u001b[0m: Covariance of the parameters could not be estimated\n",
      "/home/kevin/anaconda3/lib/python3.7/site-packages/scipy/optimize/minpack.py:795 \u001b[1;31mOptimizeWarning\u001b[0m: Covariance of the parameters could not be estimated\n",
      "/home/kevin/anaconda3/lib/python3.7/site-packages/scipy/optimize/minpack.py:795 \u001b[1;31mOptimizeWarning\u001b[0m: Covariance of the parameters could not be estimated\n",
      "/home/kevin/anaconda3/lib/python3.7/site-packages/scipy/optimize/minpack.py:795 \u001b[1;31mOptimizeWarning\u001b[0m: Covariance of the parameters could not be estimated\n",
      "/home/kevin/anaconda3/lib/python3.7/site-packages/scipy/optimize/minpack.py:795 \u001b[1;31mOptimizeWarning\u001b[0m: Covariance of the parameters could not be estimated\n",
      "/home/kevin/anaconda3/lib/python3.7/site-packages/scipy/optimize/minpack.py:795 \u001b[1;31mOptimizeWarning\u001b[0m: Covariance of the parameters could not be estimated\n",
      "/home/kevin/anaconda3/lib/python3.7/site-packages/scipy/optimize/minpack.py:795 \u001b[1;31mOptimizeWarning\u001b[0m: Covariance of the parameters could not be estimated\n",
      "/home/kevin/anaconda3/lib/python3.7/site-packages/scipy/optimize/minpack.py:795 \u001b[1;31mOptimizeWarning\u001b[0m: Covariance of the parameters could not be estimated\n",
      "/home/kevin/anaconda3/lib/python3.7/site-packages/scipy/optimize/minpack.py:795 \u001b[1;31mOptimizeWarning\u001b[0m: Covariance of the parameters could not be estimated\n",
      "/home/kevin/anaconda3/lib/python3.7/site-packages/scipy/optimize/minpack.py:795 \u001b[1;31mOptimizeWarning\u001b[0m: Covariance of the parameters could not be estimated\n"
     ]
    }
   ],
   "source": [
    "data_folder = 'data/'\n",
    "for k, row in enrich.iterrows():\n",
    "    this_fig = regulon_scatter_df(ica_data, k, row) #replace function name\n",
    "    if not(this_fig is None):\n",
    "        this_fig.to_csv(data_folder + '%i_regulon_scatter.csv'%(k)) #replace file suffix\n",
    "    "
   ]
  }
 ],
 "metadata": {
  "kernelspec": {
   "display_name": "Python 3",
   "language": "python",
   "name": "python3"
  },
  "language_info": {
   "codemirror_mode": {
    "name": "ipython",
    "version": 3
   },
   "file_extension": ".py",
   "mimetype": "text/x-python",
   "name": "python",
   "nbconvert_exporter": "python",
   "pygments_lexer": "ipython3",
   "version": "3.7.4"
  }
 },
 "nbformat": 4,
 "nbformat_minor": 2
}
