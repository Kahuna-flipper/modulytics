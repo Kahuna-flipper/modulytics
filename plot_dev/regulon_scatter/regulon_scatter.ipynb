{
 "cells": [
  {
   "cell_type": "markdown",
   "metadata": {},
   "source": [
    "# All Regulon Scatter Plots\n",
    "\n",
    "This generates the data for all regulon scatter plots for i-modulons in PRECISE 1.0 so that they can be plotted in the ModulomeVis site."
   ]
  },
  {
   "cell_type": "code",
   "execution_count": 1,
   "metadata": {},
   "outputs": [
    {
     "name": "stderr",
     "output_type": "stream",
     "text": [
      "/home/kevin/anaconda3/lib/python3.7/site-packages/cobra/solvers/__init__.py:63: UserWarning: No LP solvers found\n",
      "  warn(\"No LP solvers found\")\n"
     ]
    }
   ],
   "source": [
    "import sys\n",
    "# be sure that this points to a clone of github.com/SBRG/ICA\n",
    "sys.path.append('../../../ica/') \n",
    "from icaviz.plotting import *\n",
    "DATA_DIR = '../../../ica/data/precise_data/'\n",
    "GENE_DIR = '../../../ica/data/annotation/'\n",
    "enrich = pd.read_csv(DATA_DIR+'curated_enrichments.csv', index_col = 0)\n",
    "names = enrich['name'].tolist()\n",
    "ica_data = load_data(X=DATA_DIR+'log_tpm.csv',\n",
    "                     S=DATA_DIR+'S.csv',\n",
    "                     A=DATA_DIR+'A.csv',\n",
    "                     metadata=DATA_DIR+'metadata.csv',\n",
    "                     annotation=GENE_DIR+'gene_info.csv',\n",
    "                     trn=GENE_DIR+'TRN.csv',\n",
    "                     fasta=GENE_DIR+'NC_000913.3.fasta',\n",
    "                     cutoff = 550,\n",
    "                     organism='ecoli')\n",
    "pd.set_option('display.max_rows', None)"
   ]
  },
  {
   "cell_type": "code",
   "execution_count": 2,
   "metadata": {},
   "outputs": [],
   "source": [
    "from regulon_scatter import * "
   ]
  },
  {
   "cell_type": "markdown",
   "metadata": {},
   "source": [
    "## Generate all CSVs"
   ]
  },
  {
   "cell_type": "code",
   "execution_count": 3,
   "metadata": {
    "scrolled": true
   },
   "outputs": [
    {
     "name": "stderr",
     "output_type": "stream",
     "text": [
      "/home/kevin/anaconda3/lib/python3.7/site-packages/scipy/optimize/minpack.py:795 \u001b[1;31mOptimizeWarning\u001b[0m: Covariance of the parameters could not be estimated\n",
      "/home/kevin/anaconda3/lib/python3.7/site-packages/scipy/optimize/minpack.py:795 \u001b[1;31mOptimizeWarning\u001b[0m: Covariance of the parameters could not be estimated\n",
      "/home/kevin/anaconda3/lib/python3.7/site-packages/scipy/optimize/minpack.py:795 \u001b[1;31mOptimizeWarning\u001b[0m: Covariance of the parameters could not be estimated\n",
      "/home/kevin/anaconda3/lib/python3.7/site-packages/scipy/optimize/minpack.py:795 \u001b[1;31mOptimizeWarning\u001b[0m: Covariance of the parameters could not be estimated\n",
      "/home/kevin/anaconda3/lib/python3.7/site-packages/scipy/optimize/minpack.py:795 \u001b[1;31mOptimizeWarning\u001b[0m: Covariance of the parameters could not be estimated\n",
      "/home/kevin/anaconda3/lib/python3.7/site-packages/scipy/optimize/minpack.py:795 \u001b[1;31mOptimizeWarning\u001b[0m: Covariance of the parameters could not be estimated\n",
      "/home/kevin/anaconda3/lib/python3.7/site-packages/scipy/optimize/minpack.py:795 \u001b[1;31mOptimizeWarning\u001b[0m: Covariance of the parameters could not be estimated\n",
      "/home/kevin/anaconda3/lib/python3.7/site-packages/scipy/optimize/minpack.py:795 \u001b[1;31mOptimizeWarning\u001b[0m: Covariance of the parameters could not be estimated\n",
      "/home/kevin/anaconda3/lib/python3.7/site-packages/scipy/optimize/minpack.py:795 \u001b[1;31mOptimizeWarning\u001b[0m: Covariance of the parameters could not be estimated\n",
      "/home/kevin/anaconda3/lib/python3.7/site-packages/scipy/optimize/minpack.py:795 \u001b[1;31mOptimizeWarning\u001b[0m: Covariance of the parameters could not be estimated\n",
      "/home/kevin/anaconda3/lib/python3.7/site-packages/scipy/optimize/minpack.py:795 \u001b[1;31mOptimizeWarning\u001b[0m: Covariance of the parameters could not be estimated\n",
      "/home/kevin/anaconda3/lib/python3.7/site-packages/scipy/optimize/minpack.py:795 \u001b[1;31mOptimizeWarning\u001b[0m: Covariance of the parameters could not be estimated\n",
      "/home/kevin/anaconda3/lib/python3.7/site-packages/scipy/optimize/minpack.py:795 \u001b[1;31mOptimizeWarning\u001b[0m: Covariance of the parameters could not be estimated\n",
      "/home/kevin/anaconda3/lib/python3.7/site-packages/scipy/optimize/minpack.py:795 \u001b[1;31mOptimizeWarning\u001b[0m: Covariance of the parameters could not be estimated\n",
      "/home/kevin/anaconda3/lib/python3.7/site-packages/scipy/optimize/minpack.py:795 \u001b[1;31mOptimizeWarning\u001b[0m: Covariance of the parameters could not be estimated\n",
      "/home/kevin/anaconda3/lib/python3.7/site-packages/scipy/optimize/minpack.py:795 \u001b[1;31mOptimizeWarning\u001b[0m: Covariance of the parameters could not be estimated\n",
      "/home/kevin/anaconda3/lib/python3.7/site-packages/scipy/optimize/minpack.py:795 \u001b[1;31mOptimizeWarning\u001b[0m: Covariance of the parameters could not be estimated\n",
      "/home/kevin/anaconda3/lib/python3.7/site-packages/scipy/optimize/minpack.py:795 \u001b[1;31mOptimizeWarning\u001b[0m: Covariance of the parameters could not be estimated\n",
      "/home/kevin/anaconda3/lib/python3.7/site-packages/scipy/optimize/minpack.py:795 \u001b[1;31mOptimizeWarning\u001b[0m: Covariance of the parameters could not be estimated\n",
      "/home/kevin/anaconda3/lib/python3.7/site-packages/scipy/optimize/minpack.py:795 \u001b[1;31mOptimizeWarning\u001b[0m: Covariance of the parameters could not be estimated\n",
      "/home/kevin/anaconda3/lib/python3.7/site-packages/scipy/optimize/minpack.py:795 \u001b[1;31mOptimizeWarning\u001b[0m: Covariance of the parameters could not be estimated\n",
      "/home/kevin/anaconda3/lib/python3.7/site-packages/scipy/optimize/minpack.py:795 \u001b[1;31mOptimizeWarning\u001b[0m: Covariance of the parameters could not be estimated\n",
      "/home/kevin/anaconda3/lib/python3.7/site-packages/scipy/optimize/minpack.py:795 \u001b[1;31mOptimizeWarning\u001b[0m: Covariance of the parameters could not be estimated\n",
      "/home/kevin/anaconda3/lib/python3.7/site-packages/scipy/optimize/minpack.py:795 \u001b[1;31mOptimizeWarning\u001b[0m: Covariance of the parameters could not be estimated\n",
      "/home/kevin/anaconda3/lib/python3.7/site-packages/scipy/optimize/minpack.py:795 \u001b[1;31mOptimizeWarning\u001b[0m: Covariance of the parameters could not be estimated\n",
      "/home/kevin/anaconda3/lib/python3.7/site-packages/scipy/optimize/minpack.py:795 \u001b[1;31mOptimizeWarning\u001b[0m: Covariance of the parameters could not be estimated\n",
      "/home/kevin/anaconda3/lib/python3.7/site-packages/scipy/optimize/minpack.py:795 \u001b[1;31mOptimizeWarning\u001b[0m: Covariance of the parameters could not be estimated\n",
      "/home/kevin/anaconda3/lib/python3.7/site-packages/scipy/optimize/minpack.py:795 \u001b[1;31mOptimizeWarning\u001b[0m: Covariance of the parameters could not be estimated\n",
      "/home/kevin/anaconda3/lib/python3.7/site-packages/scipy/optimize/minpack.py:795 \u001b[1;31mOptimizeWarning\u001b[0m: Covariance of the parameters could not be estimated\n",
      "/home/kevin/anaconda3/lib/python3.7/site-packages/scipy/optimize/minpack.py:795 \u001b[1;31mOptimizeWarning\u001b[0m: Covariance of the parameters could not be estimated\n",
      "/home/kevin/anaconda3/lib/python3.7/site-packages/scipy/optimize/minpack.py:795 \u001b[1;31mOptimizeWarning\u001b[0m: Covariance of the parameters could not be estimated\n",
      "/home/kevin/anaconda3/lib/python3.7/site-packages/scipy/optimize/minpack.py:795 \u001b[1;31mOptimizeWarning\u001b[0m: Covariance of the parameters could not be estimated\n",
      "/home/kevin/anaconda3/lib/python3.7/site-packages/scipy/optimize/minpack.py:795 \u001b[1;31mOptimizeWarning\u001b[0m: Covariance of the parameters could not be estimated\n",
      "/home/kevin/anaconda3/lib/python3.7/site-packages/scipy/optimize/minpack.py:795 \u001b[1;31mOptimizeWarning\u001b[0m: Covariance of the parameters could not be estimated\n",
      "/home/kevin/anaconda3/lib/python3.7/site-packages/scipy/optimize/minpack.py:795 \u001b[1;31mOptimizeWarning\u001b[0m: Covariance of the parameters could not be estimated\n",
      "/home/kevin/anaconda3/lib/python3.7/site-packages/scipy/optimize/minpack.py:795 \u001b[1;31mOptimizeWarning\u001b[0m: Covariance of the parameters could not be estimated\n",
      "/home/kevin/anaconda3/lib/python3.7/site-packages/scipy/optimize/minpack.py:795 \u001b[1;31mOptimizeWarning\u001b[0m: Covariance of the parameters could not be estimated\n",
      "/home/kevin/anaconda3/lib/python3.7/site-packages/scipy/optimize/minpack.py:795 \u001b[1;31mOptimizeWarning\u001b[0m: Covariance of the parameters could not be estimated\n",
      "/home/kevin/anaconda3/lib/python3.7/site-packages/scipy/optimize/minpack.py:795 \u001b[1;31mOptimizeWarning\u001b[0m: Covariance of the parameters could not be estimated\n",
      "/home/kevin/anaconda3/lib/python3.7/site-packages/scipy/optimize/minpack.py:795 \u001b[1;31mOptimizeWarning\u001b[0m: Covariance of the parameters could not be estimated\n",
      "/home/kevin/anaconda3/lib/python3.7/site-packages/scipy/optimize/minpack.py:795 \u001b[1;31mOptimizeWarning\u001b[0m: Covariance of the parameters could not be estimated\n",
      "/home/kevin/anaconda3/lib/python3.7/site-packages/scipy/optimize/minpack.py:795 \u001b[1;31mOptimizeWarning\u001b[0m: Covariance of the parameters could not be estimated\n",
      "/home/kevin/anaconda3/lib/python3.7/site-packages/scipy/optimize/minpack.py:795 \u001b[1;31mOptimizeWarning\u001b[0m: Covariance of the parameters could not be estimated\n",
      "/home/kevin/anaconda3/lib/python3.7/site-packages/scipy/optimize/minpack.py:795 \u001b[1;31mOptimizeWarning\u001b[0m: Covariance of the parameters could not be estimated\n",
      "/home/kevin/anaconda3/lib/python3.7/site-packages/scipy/optimize/minpack.py:795 \u001b[1;31mOptimizeWarning\u001b[0m: Covariance of the parameters could not be estimated\n",
      "/home/kevin/anaconda3/lib/python3.7/site-packages/scipy/optimize/minpack.py:795 \u001b[1;31mOptimizeWarning\u001b[0m: Covariance of the parameters could not be estimated\n",
      "/home/kevin/anaconda3/lib/python3.7/site-packages/scipy/optimize/minpack.py:795 \u001b[1;31mOptimizeWarning\u001b[0m: Covariance of the parameters could not be estimated\n",
      "/home/kevin/anaconda3/lib/python3.7/site-packages/scipy/optimize/minpack.py:795 \u001b[1;31mOptimizeWarning\u001b[0m: Covariance of the parameters could not be estimated\n",
      "/home/kevin/anaconda3/lib/python3.7/site-packages/scipy/optimize/minpack.py:795 \u001b[1;31mOptimizeWarning\u001b[0m: Covariance of the parameters could not be estimated\n"
     ]
    }
   ],
   "source": [
    "data_folder = 'data/'\n",
    "for k, row in enrich.iterrows():\n",
    "    this_fig = regulon_scatter_df(ica_data, k, row) #replace function name\n",
    "    if not(this_fig is None):\n",
    "        this_fig.to_csv(data_folder + '%i_regulon_scatter.csv'%(k)) #replace file suffix\n",
    "    "
   ]
  }
 ],
 "metadata": {
  "kernelspec": {
   "display_name": "Python 3",
   "language": "python",
   "name": "python3"
  },
  "language_info": {
   "codemirror_mode": {
    "name": "ipython",
    "version": 3
   },
   "file_extension": ".py",
   "mimetype": "text/x-python",
   "name": "python",
   "nbconvert_exporter": "python",
   "pygments_lexer": "ipython3",
   "version": "3.7.4"
  }
 },
 "nbformat": 4,
 "nbformat_minor": 2
}
