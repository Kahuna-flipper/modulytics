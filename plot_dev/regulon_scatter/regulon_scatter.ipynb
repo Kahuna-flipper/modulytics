{
 "cells": [
  {
   "cell_type": "markdown",
   "metadata": {},
   "source": [
    "# All Gene Tables\n",
    "\n",
    "This generates the data for all gene tables for i-modulons in PRECISE 1.0 so that they can be plotted in the ModulomeVis site."
   ]
  },
  {
   "cell_type": "markdown",
   "metadata": {},
   "source": [
    "<font color='red'>Replace \"Gene Table\" with your plot type</font>"
   ]
  },
  {
   "cell_type": "code",
   "execution_count": 1,
   "metadata": {},
   "outputs": [],
   "source": [
    "import sys\n",
    "# be sure that this points to a clone of github.com/SBRG/ICA\n",
    "sys.path.append('../../../ica/') \n",
    "from icaviz.plotting import *\n",
    "DATA_DIR = '../../../ica/data/precise_data/'\n",
    "GENE_DIR = '../../../ica/data/annotation/'\n",
    "enrich = pd.read_csv(DATA_DIR+'curated_enrichments.csv', index_col = 0)\n",
    "names = enrich['name'].tolist()\n",
    "ica_data = load_data(X=DATA_DIR+'log_tpm.csv',\n",
    "                     S=DATA_DIR+'S.csv',\n",
    "                     A=DATA_DIR+'A.csv',\n",
    "                     metadata=DATA_DIR+'metadata.csv',\n",
    "                     annotation=GENE_DIR+'gene_info.csv',\n",
    "                     trn=GENE_DIR+'TRN.csv',\n",
    "                     fasta=GENE_DIR+'NC_000913.3.fasta',\n",
    "                     cutoff = 550)\n",
    "pd.set_option('display.max_rows', None)"
   ]
  },
  {
   "cell_type": "code",
   "execution_count": 2,
   "metadata": {},
   "outputs": [],
   "source": [
    "from gene_table import * #replace py file name"
   ]
  },
  {
   "cell_type": "markdown",
   "metadata": {},
   "source": [
    "## Generate all CSVs"
   ]
  },
  {
   "cell_type": "code",
   "execution_count": 5,
   "metadata": {
    "scrolled": true
   },
   "outputs": [],
   "source": [
    "data_folder = 'data/'\n",
    "for k, row in enrich.iterrows():\n",
    "    this_fig = gene_table_df(ica_data, k, row) #replace function name\n",
    "    this_fig.to_csv(data_folder + '%i_gene_table.csv'%(k)) #replace file suffix\n",
    "    "
   ]
  }
 ],
 "metadata": {
  "kernelspec": {
   "display_name": "Python 3",
   "language": "python",
   "name": "python3"
  },
  "language_info": {
   "codemirror_mode": {
    "name": "ipython",
    "version": 3
   },
   "file_extension": ".py",
   "mimetype": "text/x-python",
   "name": "python",
   "nbconvert_exporter": "python",
   "pygments_lexer": "ipython3",
   "version": "3.7.4"
  }
 },
 "nbformat": 4,
 "nbformat_minor": 2
}
