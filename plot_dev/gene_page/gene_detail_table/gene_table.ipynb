{
 "cells": [
  {
   "cell_type": "markdown",
   "metadata": {},
   "source": [
    "# All Gene Tables\n",
    "\n",
    "This generates the data for all gene tables for i-modulons in PRECISE 1.0 so that they can be plotted in the ModulomeVis site."
   ]
  },
  {
   "cell_type": "code",
   "execution_count": 1,
   "metadata": {},
   "outputs": [],
   "source": [
    "import sys\n",
    "# be sure that this points to a clone of github.com/SBRG/ICA\n",
    "sys.path.append('../../../ica/') \n",
    "from icaviz.plotting import *\n",
    "DATA_DIR = '../../../ica/data/precise_data/'\n",
    "GENE_DIR = '../../../ica/data/annotation/'\n",
    "enrich = pd.read_csv(DATA_DIR+'curated_enrichments.csv', index_col = 0)\n",
    "names = enrich['name'].tolist()\n",
    "ica_data = load_data(X=DATA_DIR+'log_tpm.csv',\n",
    "                     S=DATA_DIR+'S.csv',\n",
    "                     A=DATA_DIR+'A.csv',\n",
    "                     metadata=DATA_DIR+'metadata.csv',\n",
    "                     annotation=GENE_DIR+'gene_info.csv',\n",
    "                     trn=GENE_DIR+'TRN.csv',\n",
    "                     fasta=GENE_DIR+'NC_000913.3.fasta',\n",
    "                     cutoff = 550)\n",
    "pd.set_option('display.max_rows', None)"
   ]
  },
  {
   "cell_type": "code",
   "execution_count": 2,
   "metadata": {},
   "outputs": [],
   "source": [
    "from gene_table import * \n",
    "\n",
    "# this contains the EG numbers for generating URLs to the database\n",
    "# indexed the same as genes, with \"ID\" column for EG numbers\n",
    "locus_to_db = pd.read_csv('locus_to_db.csv',sep='\\t', index_col = 1)"
   ]
  },
  {
   "cell_type": "code",
   "execution_count": 1,
   "metadata": {},
   "outputs": [
    {
     "ename": "NameError",
     "evalue": "name 'ica_data' is not defined",
     "output_type": "error",
     "traceback": [
      "\u001b[0;31m---------------------------------------------------------------------------\u001b[0m",
      "\u001b[0;31mNameError\u001b[0m                                 Traceback (most recent call last)",
      "\u001b[0;32m<ipython-input-1-8b3303f568c4>\u001b[0m in \u001b[0;36m<module>\u001b[0;34m\u001b[0m\n\u001b[0;32m----> 1\u001b[0;31m \u001b[0mica_data\u001b[0m\u001b[0;34m.\u001b[0m\u001b[0mgene_info\u001b[0m\u001b[0;34m\u001b[0m\u001b[0;34m\u001b[0m\u001b[0m\n\u001b[0m",
      "\u001b[0;31mNameError\u001b[0m: name 'ica_data' is not defined"
     ]
    }
   ],
   "source": [
    "ica_data.gene_info"
   ]
  },
  {
   "cell_type": "markdown",
   "metadata": {},
   "source": [
    "## Generate all CSVs"
   ]
  },
  {
   "cell_type": "code",
   "execution_count": 4,
   "metadata": {
    "scrolled": true
   },
   "outputs": [
    {
     "name": "stdout",
     "output_type": "stream",
     "text": [
      "Gene missing from DB: b4490_2\n",
      "Gene missing from DB: b2092_2\n",
      "Gene missing from DB: b2092_1\n",
      "Gene missing from DB: b4498_1\n",
      "Gene missing from DB: b0553_1\n",
      "Gene missing from DB: b4640_1\n",
      "Gene missing from DB: b0562_2\n",
      "Gene missing from DB: b0553_1\n",
      "Gene missing from DB: b2681_1\n",
      "Gene missing from DB: b2092_2\n",
      "Gene missing from DB: b4582_1\n",
      "Gene missing from DB: b4488_2\n",
      "Gene missing from DB: b4488_1\n",
      "Gene missing from DB: b4493_2\n",
      "Gene missing from DB: b4493_1\n",
      "Gene missing from DB: b4492_3\n",
      "Gene missing from DB: b1459_1\n",
      "Gene missing from DB: b4492_1\n",
      "Gene missing from DB: b4582_1\n",
      "Gene missing from DB: b4640_1\n",
      "Gene missing from DB: b3643_1\n",
      "Gene missing from DB: b3268_2\n",
      "Gene missing from DB: b4490_2\n",
      "Gene missing from DB: b4646_2\n",
      "Gene missing from DB: b4571_1\n",
      "Gene missing from DB: b4659_2\n",
      "Gene missing from DB: b4571_2\n",
      "Gene missing from DB: b4038_3\n",
      "Gene missing from DB: b3423_1\n",
      "Gene missing from DB: b2681_1\n",
      "Gene missing from DB: b3643_1\n",
      "Gene missing from DB: b4490_2\n",
      "Gene missing from DB: b4640_1\n"
     ]
    }
   ],
   "source": [
    "data_folder = 'data/'\n",
    "for k, row in enrich.iterrows():\n",
    "    this_fig = gene_table_df(ica_data, k, row, locus_to_db) \n",
    "    this_fig.to_csv(data_folder + '%i_gene_table.csv'%(k)) \n",
    "    "
   ]
  }
 ],
 "metadata": {
  "kernelspec": {
   "display_name": "Python 3",
   "language": "python",
   "name": "python3"
  },
  "language_info": {
   "codemirror_mode": {
    "name": "ipython",
    "version": 3
   },
   "file_extension": ".py",
   "mimetype": "text/x-python",
   "name": "python",
   "nbconvert_exporter": "python",
   "pygments_lexer": "ipython3",
   "version": "3.7.4"
  }
 },
 "nbformat": 4,
 "nbformat_minor": 2
}
