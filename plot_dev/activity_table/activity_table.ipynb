{
 "cells": [
  {
   "cell_type": "markdown",
   "metadata": {},
   "source": [
    "# All Activity Tables\n",
    "\n",
    "This generates the data for all activity tables for i-modulons in PRECISE 1.0 so that they can be plotted in the ModulomeVis site."
   ]
  },
  {
   "cell_type": "code",
   "execution_count": 1,
   "metadata": {},
   "outputs": [],
   "source": [
    "import sys\n",
    "# be sure that this points to a clone of github.com/SBRG/ICA\n",
    "sys.path.append('../../../ica/') \n",
    "from icaviz.plotting import *\n",
    "DATA_DIR = '../../../ica/data/precise_data/'\n",
    "GENE_DIR = '../../../ica/data/annotation/'\n",
    "enrich = pd.read_csv(DATA_DIR+'curated_enrichments.csv', index_col = 0)\n",
    "names = enrich['name'].tolist()\n",
    "ica_data = load_data(X=DATA_DIR+'log_tpm.csv',\n",
    "                     S=DATA_DIR+'S.csv',\n",
    "                     A=DATA_DIR+'A.csv',\n",
    "                     metadata=DATA_DIR+'metadata.csv',\n",
    "                     annotation=GENE_DIR+'gene_info.csv',\n",
    "                     trn=GENE_DIR+'TRN.csv',\n",
    "                     fasta=GENE_DIR+'NC_000913.3.fasta',\n",
    "                     cutoff = 550)\n",
    "pd.set_option('display.max_rows', None)"
   ]
  },
  {
   "cell_type": "code",
   "execution_count": 3,
   "metadata": {},
   "outputs": [],
   "source": [
    "from activity_table import *"
   ]
  },
  {
   "cell_type": "markdown",
   "metadata": {},
   "source": [
    "## Working Here"
   ]
  },
  {
   "cell_type": "code",
   "execution_count": 5,
   "metadata": {},
   "outputs": [
    {
     "data": {
      "text/plain": [
       "Index(['control__wt_glc__1', 'control__wt_glc__2', 'fur__wt_dpd__1',\n",
       "       'fur__wt_dpd__2', 'fur__wt_fe__1', 'fur__wt_fe__2',\n",
       "       'fur__delfur_dpd__1', 'fur__delfur_dpd__2', 'fur__delfur_fe2__1',\n",
       "       'fur__delfur_fe2__2',\n",
       "       ...\n",
       "       'efeU__menFentC_ale29__1', 'efeU__menFentC_ale29__2',\n",
       "       'efeU__menFentC_ale30__1', 'efeU__menFentC_ale30__2',\n",
       "       'efeU__menFentCubiC_ale36__1', 'efeU__menFentCubiC_ale36__2',\n",
       "       'efeU__menFentCubiC_ale37__1', 'efeU__menFentCubiC_ale37__2',\n",
       "       'efeU__menFentCubiC_ale38__1', 'efeU__menFentCubiC_ale38__2'],\n",
       "      dtype='object', length=278)"
      ]
     },
     "execution_count": 5,
     "metadata": {},
     "output_type": "execute_result"
    }
   ],
   "source": [
    "ica_data.A.columns"
   ]
  },
  {
   "cell_type": "code",
   "execution_count": 7,
   "metadata": {
    "scrolled": true
   },
   "outputs": [
    {
     "name": "stdout",
     "output_type": "stream",
     "text": [
      "Index(['control__wt_glc__1', 'control__wt_glc__2'], dtype='object', name='sample_id')\n",
      "Index(['fur__wt_dpd__1', 'fur__wt_dpd__2'], dtype='object', name='sample_id')\n",
      "Index(['fur__wt_fe__1', 'fur__wt_fe__2'], dtype='object', name='sample_id')\n",
      "Index(['fur__delfur_dpd__1', 'fur__delfur_dpd__2'], dtype='object', name='sample_id')\n",
      "Index(['fur__delfur_fe2__1', 'fur__delfur_fe2__2'], dtype='object', name='sample_id')\n",
      "Index(['acid__wt_ph5__1', 'acid__wt_ph5__2'], dtype='object', name='sample_id')\n",
      "Index(['acid__delgadx_ph5__1', 'acid__delgadx_ph5__2'], dtype='object', name='sample_id')\n",
      "Index(['acid__delgadw_ph5__1', 'acid__delgadw_ph5__2'], dtype='object', name='sample_id')\n",
      "Index(['acid__delgade_ph5__1', 'acid__delgade_ph5__2'], dtype='object', name='sample_id')\n",
      "Index(['oxidative__wt_pq__1', 'oxidative__wt_pq__2'], dtype='object', name='sample_id')\n",
      "Index(['oxidative__deloxyr_pq__1', 'oxidative__deloxyr_pq__2'], dtype='object', name='sample_id')\n",
      "Index(['oxidative__delsoxr_pq__1', 'oxidative__delsoxr_pq__2'], dtype='object', name='sample_id')\n",
      "Index(['oxidative__delsoxs_pq__1', 'oxidative__delsoxs_pq__2'], dtype='object', name='sample_id')\n",
      "Index(['nac_ntrc__wt_csn__1', 'nac_ntrc__wt_csn__2'], dtype='object', name='sample_id')\n",
      "Index(['nac_ntrc__wt_cytd__1', 'nac_ntrc__wt_cytd__2'], dtype='object', name='sample_id')\n",
      "Index(['nac_ntrc__wt_gln__1', 'nac_ntrc__wt_gln__2'], dtype='object', name='sample_id')\n",
      "Index(['nac_ntrc__bw_delnac_csn__1', 'nac_ntrc__bw_delnac_csn__2'], dtype='object', name='sample_id')\n",
      "Index(['nac_ntrc__bw_delnac_cytd__1', 'nac_ntrc__bw_delnac_cytd__2'], dtype='object', name='sample_id')\n",
      "Index(['nac_ntrc__bw_delnac_gln__1', 'nac_ntrc__bw_delnac_gln__2'], dtype='object', name='sample_id')\n",
      "Index(['nac_ntrc__bw_delnac_nh4__1', 'nac_ntrc__bw_delnac_nh4__2'], dtype='object', name='sample_id')\n",
      "Index(['misc__wt_no_te__1', 'misc__wt_no_te__2'], dtype='object', name='sample_id')\n",
      "Index(['misc__bw_delcbl__1', 'misc__bw_delcbl__2'], dtype='object', name='sample_id')\n",
      "Index(['misc__bw_delfabr__1', 'misc__bw_delfabr__2'], dtype='object', name='sample_id')\n",
      "Index(['misc__bw_delfadr__1', 'misc__bw_delfadr__2'], dtype='object', name='sample_id')\n",
      "Index(['misc__nitr_031__1'], dtype='object', name='sample_id')\n",
      "Index(['omics__wt_glu__1', 'omics__wt_glu__2'], dtype='object', name='sample_id')\n",
      "Index(['omics__wt_gly__1', 'omics__wt_gly__2'], dtype='object', name='sample_id')\n",
      "Index(['omics__wt_thr__1', 'omics__wt_thr__2'], dtype='object', name='sample_id')\n",
      "Index(['omics__bw_ac__1', 'omics__bw_ac__2'], dtype='object', name='sample_id')\n",
      "Index(['omics__bw_fum__1', 'omics__bw_fum__2'], dtype='object', name='sample_id')\n",
      "Index(['omics__bw_glc__1', 'omics__bw_glc__2'], dtype='object', name='sample_id')\n",
      "Index(['omics__bw_pyr__1', 'omics__bw_pyr__2'], dtype='object', name='sample_id')\n",
      "Index(['ompr__wt_nacl__1', 'ompr__wt_nacl__2'], dtype='object', name='sample_id')\n",
      "Index(['ompr__bw_delompr_nacl__1', 'ompr__bw_delompr_nacl__2'], dtype='object', name='sample_id')\n",
      "Index(['minspan__wt_ade__1'], dtype='object', name='sample_id')\n",
      "Index(['minspan__wt_glc__1', 'minspan__wt_glc__2', 'minspan__wt_glc__3',\n",
      "       'minspan__wt_glc__4'],\n",
      "      dtype='object', name='sample_id')\n",
      "Index(['minspan__wt_glc_anaero__1', 'minspan__wt_glc_anaero__2'], dtype='object', name='sample_id')\n",
      "Index(['minspan__wt_trp__1'], dtype='object', name='sample_id')\n",
      "Index(['minspan__bw_delcra_glc__1', 'minspan__bw_delcra_glc__2'], dtype='object', name='sample_id')\n",
      "Index(['minspan__bw_delcra_trp__1'], dtype='object', name='sample_id')\n",
      "Index(['minspan__bw_delmntr__1'], dtype='object', name='sample_id')\n",
      "Index(['minspan__bw_delnac_ade__1'], dtype='object', name='sample_id')\n",
      "Index(['minspan__bw_delnac_glc__1'], dtype='object', name='sample_id')\n",
      "Index(['cra_crp__wt_ac__1', 'cra_crp__wt_ac__2'], dtype='object', name='sample_id')\n",
      "Index(['cra_crp__wt_fru__1', 'cra_crp__wt_fru__2'], dtype='object', name='sample_id')\n",
      "Index(['cra_crp__delcra_ac__1', 'cra_crp__delcra_ac__2'], dtype='object', name='sample_id')\n",
      "Index(['cra_crp__delcra_fru__1', 'cra_crp__delcra_fru__2'], dtype='object', name='sample_id')\n",
      "Index(['cra_crp__delcra_glc__1', 'cra_crp__delcra_glc__2'], dtype='object', name='sample_id')\n",
      "Index(['rpoB__wt_031__1'], dtype='object', name='sample_id')\n",
      "Index(['rpoB__wt_044__1'], dtype='object', name='sample_id')\n",
      "Index(['rpoB__wt_lb__1', 'rpoB__wt_lb__2'], dtype='object', name='sample_id')\n",
      "Index(['rpoB__rpoBE546V_031__1'], dtype='object', name='sample_id')\n",
      "Index(['rpoB__rpoBE546V_044__1'], dtype='object', name='sample_id')\n",
      "Index(['rpoB__rpoBE546V_lb__1', 'rpoB__rpoBE546V_lb__2'], dtype='object', name='sample_id')\n",
      "Index(['rpoB__rpoBE546V_glc__1'], dtype='object', name='sample_id')\n",
      "Index(['rpoB__rpoBE672K_glc__1', 'rpoB__rpoBE672K_glc__2'], dtype='object', name='sample_id')\n",
      "Index(['rpoB__rpoBE672K_lb__1', 'rpoB__rpoBE672K_lb__2'], dtype='object', name='sample_id')\n",
      "Index(['crp__wt_fru__1'], dtype='object', name='sample_id')\n",
      "Index(['crp__wt_glyc__1', 'crp__wt_glyc__2'], dtype='object', name='sample_id')\n",
      "Index(['crp__delar1_glyc__1', 'crp__delar1_glyc__2'], dtype='object', name='sample_id')\n",
      "Index(['crp__delar1ar2_glyc__1', 'crp__delar1ar2_glyc__2',\n",
      "       'crp__delar1ar2_glyc__3'],\n",
      "      dtype='object', name='sample_id')\n",
      "Index(['crp__delar2_glyc__1', 'crp__delar2_glyc__2', 'crp__delar2_glyc__3'], dtype='object', name='sample_id')\n",
      "Index(['crp__delcrp_fru__1', 'crp__delcrp_fru__2', 'crp__delcrp_fru__3'], dtype='object', name='sample_id')\n",
      "Index(['crp__delcrp_glc__1', 'crp__delcrp_glc__2', 'crp__delcrp_glc__3'], dtype='object', name='sample_id')\n",
      "Index(['crp__delcrp_glyc__1', 'crp__delcrp_glyc__2', 'crp__delcrp_glyc__3'], dtype='object', name='sample_id')\n",
      "Index(['glu__glu_ale3__1'], dtype='object', name='sample_id')\n",
      "Index(['glu__glu_ale4__1'], dtype='object', name='sample_id')\n",
      "Index(['glu__glu_ale5__1'], dtype='object', name='sample_id')\n",
      "Index(['glu__glu_ale6__1'], dtype='object', name='sample_id')\n",
      "Index(['glu__glu_ale8__1'], dtype='object', name='sample_id')\n",
      "Index(['glu__glu_ale9__1'], dtype='object', name='sample_id')\n",
      "Index(['glu__glu_ale10__1'], dtype='object', name='sample_id')\n",
      "Index(['42c__wt_42c__1'], dtype='object', name='sample_id')\n",
      "Index(['42c__42c_ale1__1'], dtype='object', name='sample_id')\n",
      "Index(['42c__42c_ale2__1'], dtype='object', name='sample_id')\n",
      "Index(['42c__42c_ale3__1'], dtype='object', name='sample_id')\n",
      "Index(['42c__42c_ale4__1'], dtype='object', name='sample_id')\n",
      "Index(['42c__42c_ale5__1'], dtype='object', name='sample_id')\n",
      "Index(['42c__42c_ale6__1'], dtype='object', name='sample_id')\n",
      "Index(['42c__42c_ale8__1'], dtype='object', name='sample_id')\n",
      "Index(['42c__42c_ale9__1'], dtype='object', name='sample_id')\n",
      "Index(['42c__42c_ale10__1'], dtype='object', name='sample_id')\n",
      "Index(['ssw__wt_ac__1'], dtype='object', name='sample_id')\n",
      "Index(['ssw__wt_glc__1'], dtype='object', name='sample_id')\n",
      "Index(['ssw__wt_glyc__1'], dtype='object', name='sample_id')\n",
      "Index(['ssw__wt_xyl__1'], dtype='object', name='sample_id')\n",
      "Index(['ssw__glc_ale1__1'], dtype='object', name='sample_id')\n",
      "Index(['ssw__glc_ale2__1'], dtype='object', name='sample_id')\n",
      "Index(['ssw__glc_ale3__1'], dtype='object', name='sample_id')\n",
      "Index(['ssw__glyc_ale1__1'], dtype='object', name='sample_id')\n",
      "Index(['ssw__glyc_ale2__1'], dtype='object', name='sample_id')\n",
      "Index(['ssw__xyl_ale1__1'], dtype='object', name='sample_id')\n",
      "Index(['ssw__xyl_ale2__1'], dtype='object', name='sample_id')\n",
      "Index(['ssw__xyl_ale3__1'], dtype='object', name='sample_id')\n",
      "Index(['ssw__glc_ac_ac2__1'], dtype='object', name='sample_id')\n",
      "Index(['ssw__glc_ac_glc1__1'], dtype='object', name='sample_id')\n",
      "Index(['ssw__glc_ac_glc2__1'], dtype='object', name='sample_id')\n",
      "Index(['ssw__glc_glyc_glc__1'], dtype='object', name='sample_id')\n",
      "Index(['ssw__glc_glyc_glyc__1'], dtype='object', name='sample_id')\n",
      "Index(['ssw__glc_xyl_glc__1'], dtype='object', name='sample_id')\n",
      "Index(['ssw__glc_xyl_xyl__1'], dtype='object', name='sample_id')\n",
      "Index(['pgi__glu4_delpgi__1'], dtype='object', name='sample_id')\n",
      "Index(['pgi__pgi_ale1__1'], dtype='object', name='sample_id')\n",
      "Index(['pgi__pgi_ale2__1'], dtype='object', name='sample_id')\n",
      "Index(['pgi__pgi_ale3__1'], dtype='object', name='sample_id')\n",
      "Index(['pgi__pgi_ale5__1'], dtype='object', name='sample_id')\n",
      "Index(['pgi__pgi_ale6__1'], dtype='object', name='sample_id')\n",
      "Index(['pgi__pgi_ale7__1'], dtype='object', name='sample_id')\n",
      "Index(['pgi__pgi_ale8__1'], dtype='object', name='sample_id')\n",
      "Index(['ica__wt_glc__1', 'ica__wt_glc__2', 'ica__wt_glc__3', 'ica__wt_glc__4',\n",
      "       'ica__wt_glc__5', 'ica__wt_glc__6'],\n",
      "      dtype='object', name='sample_id')\n",
      "Index(['ica__arg_sbt__1', 'ica__arg_sbt__2'], dtype='object', name='sample_id')\n",
      "Index(['ica__cytd_rib__1', 'ica__cytd_rib__2'], dtype='object', name='sample_id')\n",
      "Index(['ica__gth__1', 'ica__gth__2'], dtype='object', name='sample_id')\n",
      "Index(['ica__leu_glcr__1', 'ica__leu_glcr__2'], dtype='object', name='sample_id')\n",
      "Index(['ica__met_glc__1', 'ica__met_glc__2'], dtype='object', name='sample_id')\n",
      "Index(['ica__no3_anaero__1', 'ica__no3_anaero__2'], dtype='object', name='sample_id')\n",
      "Index(['ica__phe_acgam__1', 'ica__phe_acgam__2'], dtype='object', name='sample_id')\n",
      "Index(['ica__thm_gal__1', 'ica__thm_gal__2'], dtype='object', name='sample_id')\n",
      "Index(['ica__tyr_glcn__1', 'ica__tyr_glcn__2'], dtype='object', name='sample_id')\n",
      "Index(['ica__ura_pyr__1', 'ica__ura_pyr__2'], dtype='object', name='sample_id')\n",
      "Index(['ica__bw_delpurR_cytd__1', 'ica__bw_delpurR_cytd__2'], dtype='object', name='sample_id')\n",
      "Index(['ica__ade_glc__1', 'ica__ade_glc__2'], dtype='object', name='sample_id')\n",
      "Index(['ytf__wt_glc__1', 'ytf__wt_glc__2'], dtype='object', name='sample_id')\n",
      "Index(['ytf__delyafC__1', 'ytf__delyafC__2'], dtype='object', name='sample_id')\n",
      "Index(['ytf__delyeiE__1', 'ytf__delyeiE__2'], dtype='object', name='sample_id')\n",
      "Index(['ytf__delyiaJ__1', 'ytf__delyiaJ__2'], dtype='object', name='sample_id')\n",
      "Index(['ytf__delyieP__1', 'ytf__delyieP__2'], dtype='object', name='sample_id')\n",
      "Index(['ytf__wt_ph5__1', 'ytf__wt_ph5__2'], dtype='object', name='sample_id')\n",
      "Index(['ytf__wt_ph8__1', 'ytf__wt_ph8__2'], dtype='object', name='sample_id')\n",
      "Index(['ytf__delybaO__1', 'ytf__delybaO__2'], dtype='object', name='sample_id')\n",
      "Index(['ytf__delybaQ__1', 'ytf__delybaQ__2'], dtype='object', name='sample_id')\n",
      "Index(['ytf__delybiH__1', 'ytf__delybiH__2'], dtype='object', name='sample_id')\n",
      "Index(['ytf__delydcI_ph5__1', 'ytf__delydcI_ph5__2'], dtype='object', name='sample_id')\n",
      "Index(['ytf__delydcI_ph8__1', 'ytf__delydcI_ph8__2'], dtype='object', name='sample_id')\n",
      "Index(['ytf__delyddM__1', 'ytf__delyddM__2'], dtype='object', name='sample_id')\n",
      "Index(['ytf__delyheO__1', 'ytf__delyheO__2'], dtype='object', name='sample_id')\n",
      "Index(['fps__bw_glc__1', 'fps__bw_glc__2'], dtype='object', name='sample_id')\n",
      "Index(['fps__fps_thrA_ale1__1', 'fps__fps_thrA_ale1__2'], dtype='object', name='sample_id')\n",
      "Index(['fps__fps_thrA_ale2__1', 'fps__fps_thrA_ale2__2'], dtype='object', name='sample_id')\n",
      "Index(['fps__fps_serB_ale1__1', 'fps__fps_serB_ale1__2'], dtype='object', name='sample_id')\n",
      "Index(['fps__fps_serB_ale4__1', 'fps__fps_serB_ale4__2'], dtype='object', name='sample_id')\n",
      "Index(['fps__fps_ptsI_ale1__1', 'fps__fps_ptsI_ale1__2'], dtype='object', name='sample_id')\n",
      "Index(['fps__fps_ptsI_ale3__1', 'fps__fps_ptsI_ale3__2'], dtype='object', name='sample_id')\n",
      "Index(['pal__lyx_ale2_f6__1'], dtype='object', name='sample_id')\n",
      "Index(['pal__lyx_ale2__1', 'pal__lyx_ale2__2'], dtype='object', name='sample_id')\n",
      "Index(['pal__lyx_ale4__1', 'pal__lyx_ale4__2'], dtype='object', name='sample_id')\n",
      "Index(['pal__5drib_ale10_f18__1', 'pal__5drib_ale10_f18__2'], dtype='object', name='sample_id')\n",
      "Index(['pal__5drib_ale10__1'], dtype='object', name='sample_id')\n",
      "Index(['pal__arab_ale14_f9__1', 'pal__arab_ale14_f9__2'], dtype='object', name='sample_id')\n",
      "Index(['pal__arab_ale14__1', 'pal__arab_ale14__2'], dtype='object', name='sample_id')\n",
      "Index(['pal__arab_ale16__1', 'pal__arab_ale16__2'], dtype='object', name='sample_id')\n",
      "Index(['pal__tartr_ale26_f10__1', 'pal__tartr_ale26_f10__2'], dtype='object', name='sample_id')\n",
      "Index(['pal__tartr_ale26__1', 'pal__tartr_ale26__2'], dtype='object', name='sample_id')\n",
      "Index(['pal__tartr_ale28_f10__1', 'pal__tartr_ale28_f10__2'], dtype='object', name='sample_id')\n",
      "Index(['pal__tartr_ale28__1', 'pal__tartr_ale28__2'], dtype='object', name='sample_id')\n",
      "Index(['efeU__delmenFentC_citr__1', 'efeU__delmenFentC_citr__2'], dtype='object', name='sample_id')\n",
      "Index(['efeU__delmenFentC__1', 'efeU__delmenFentC__2'], dtype='object', name='sample_id')\n",
      "Index(['efeU__menFentC_ale39__1', 'efeU__menFentC_ale39__2'], dtype='object', name='sample_id')\n",
      "Index(['efeU__menFentC_ale29__1', 'efeU__menFentC_ale29__2'], dtype='object', name='sample_id')\n",
      "Index(['efeU__menFentC_ale30__1', 'efeU__menFentC_ale30__2'], dtype='object', name='sample_id')\n",
      "Index(['efeU__menFentCubiC_ale36__1', 'efeU__menFentCubiC_ale36__2'], dtype='object', name='sample_id')\n",
      "Index(['efeU__menFentCubiC_ale37__1', 'efeU__menFentCubiC_ale37__2'], dtype='object', name='sample_id')\n",
      "Index(['efeU__menFentCubiC_ale38__1', 'efeU__menFentCubiC_ale38__2'], dtype='object', name='sample_id')\n"
     ]
    }
   ],
   "source": [
    "# in the future, don't use the same control group for everything\n",
    "ctrl_proj = 'control'\n",
    "ctrl_cond = 'wt_glc'\n",
    "ctrl_name = ctrl_proj + '__' + ctrl_cond\n",
    "s1 = ica_data.metadata.index[(ica_data.metadata.project_id == ctrl_proj) & (ica_data.metadata.condition_id == ctrl_cond)]\n",
    "\n",
    "# perform all comparisons for all i-modulons\n",
    "for cond, group in ica_data.metadata.groupby(['project_id','condition_id'], sort = False):\n",
    "    cond_name = cond[0]+'__'+cond[1] # project__cond\n",
    "    s2 = ica_data.metadata.index[(ica_data.metadata.project_id == cond[0]) & (ica_data.metadata.condition_id == cond[1])]\n",
    "    "
   ]
  },
  {
   "cell_type": "code",
   "execution_count": null,
   "metadata": {},
   "outputs": [],
   "source": [
    "columns = ['Control', 'Condition', 'dir', 'dA', 'p']\n",
    "res = pd.DataFrame(columns = columns)"
   ]
  },
  {
   "cell_type": "markdown",
   "metadata": {},
   "source": [
    "## Generate all CSVs"
   ]
  },
  {
   "cell_type": "code",
   "execution_count": 5,
   "metadata": {
    "scrolled": true
   },
   "outputs": [],
   "source": [
    "data_folder = 'data/'\n",
    "for k, row in enrich.iterrows():\n",
    "    this_fig = gene_table_df(ica_data, k, row) #replace function name\n",
    "    this_fig.to_csv(data_folder + '%i_gene_table.csv'%(k)) #replace file suffix\n",
    "    "
   ]
  }
 ],
 "metadata": {
  "kernelspec": {
   "display_name": "Python 3",
   "language": "python",
   "name": "python3"
  },
  "language_info": {
   "codemirror_mode": {
    "name": "ipython",
    "version": 3
   },
   "file_extension": ".py",
   "mimetype": "text/x-python",
   "name": "python",
   "nbconvert_exporter": "python",
   "pygments_lexer": "ipython3",
   "version": "3.7.4"
  }
 },
 "nbformat": 4,
 "nbformat_minor": 2
}
