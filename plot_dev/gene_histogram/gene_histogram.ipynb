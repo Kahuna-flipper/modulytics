{
 "cells": [
  {
   "cell_type": "markdown",
   "metadata": {},
   "source": [
    "# All Histograms\n",
    "\n",
    "This generates the data for all histograms for i-modulons in PRECISE 1.0 so that they can be plotted in the ModulomeVis site."
   ]
  },
  {
   "cell_type": "code",
   "execution_count": 1,
   "metadata": {},
   "outputs": [],
   "source": [
    "import sys\n",
    "from tqdm import tqdm_notebook as tqdm\n",
    "sys.path.append('../../../ica/')\n",
    "from icaviz.plotting import *\n",
    "DATA_DIR = '../../../ica/data/precise_data/'\n",
    "GENE_DIR = '../../../ica/data/annotation/'\n",
    "enrich = pd.read_csv(DATA_DIR+'curated_enrichments.csv', index_col = 0)\n",
    "names = enrich['name'].tolist()\n",
    "ica_data = load_data(X=DATA_DIR+'log_tpm.csv',\n",
    "                     S=DATA_DIR+'S.csv',\n",
    "                     A=DATA_DIR+'A.csv',\n",
    "                     metadata=DATA_DIR+'metadata.csv',\n",
    "                     annotation=GENE_DIR+'gene_info.csv',\n",
    "                     trn=GENE_DIR+'TRN.csv',\n",
    "                     fasta=GENE_DIR+'NC_000913.3.fasta',\n",
    "                     cutoff = 550)\n",
    "pd.set_option('display.max_rows', None)"
   ]
  },
  {
   "cell_type": "code",
   "execution_count": 2,
   "metadata": {},
   "outputs": [],
   "source": [
    "from gene_histogram import *"
   ]
  },
  {
   "cell_type": "markdown",
   "metadata": {},
   "source": [
    "## Generate all CSVs"
   ]
  },
  {
   "cell_type": "code",
   "execution_count": 5,
   "metadata": {
    "scrolled": true
   },
   "outputs": [],
   "source": [
    "data_folder = 'data/'\n",
    "for k, row in enrich.iterrows():\n",
    "    this_hist = gene_hist_df(ica_data, k, row)\n",
    "    this_hist.to_csv(data_folder + '%i_hist.csv'%(k))\n",
    "    "
   ]
  }
 ],
 "metadata": {
  "kernelspec": {
   "display_name": "Python 3",
   "language": "python",
   "name": "python3"
  },
  "language_info": {
   "codemirror_mode": {
    "name": "ipython",
    "version": 3
   },
   "file_extension": ".py",
   "mimetype": "text/x-python",
   "name": "python",
   "nbconvert_exporter": "python",
   "pygments_lexer": "ipython3",
   "version": "3.7.4"
  }
 },
 "nbformat": 4,
 "nbformat_minor": 2
}
