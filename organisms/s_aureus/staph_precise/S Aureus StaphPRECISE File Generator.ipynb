{
 "cells": [
  {
   "cell_type": "markdown",
   "metadata": {},
   "source": [
    "# StaphPRECISE File Generator\n",
    "\n",
    "This notebook generates all files for the Modulytics web page of Staph aureus, based on ICA of StaphPRECISE."
   ]
  },
  {
   "cell_type": "code",
   "execution_count": 28,
   "metadata": {
    "scrolled": false
   },
   "outputs": [],
   "source": [
    "import sys\n",
    "# be sure that this point to a clone of github.com/SBRG/ICA\n",
    "sys.path.append('../../../../ica/')\n",
    "from icaviz.plotting import *\n",
    "DATA_DIR = 'data_files/'\n",
    "GENE_DIR = '../annotation/gene_files/'\n",
    "enrich = pd.read_csv(DATA_DIR + 'curated_enrichments.csv', index_col=0)\n",
    "names = enrich['name'].tolist()\n",
    "ica_data = load_data(X=DATA_DIR+'log_tpm.csv',\n",
    "                     S=DATA_DIR+'M.csv',\n",
    "                     A=DATA_DIR+'A.csv',\n",
    "                     metadata='sample_metadata.csv',\n",
    "                     annotation=GENE_DIR+'gene_info.csv',\n",
    "                     trn=GENE_DIR+'TRN.csv',\n",
    "                     cutoff=280, \n",
    "                     organism='saureus')\n",
    "pd.set_option('display.max_rows', None)"
   ]
  },
  {
   "cell_type": "code",
   "execution_count": 29,
   "metadata": {},
   "outputs": [
    {
     "name": "stdout",
     "output_type": "stream",
     "text": [
      "1738 1030 52\n"
     ]
    }
   ],
   "source": [
    "not_in = 0\n",
    "had_nan = 0\n",
    "name = 0\n",
    "for g in ica_data.S.index:\n",
    "    if not(g in ica_data.num2name.keys()):\n",
    "        ica_data.num2name[g] = g\n",
    "        not_in += 1\n",
    "    elif not(type(ica_data.num2name[g])==str):\n",
    "        ica_data.num2name[g] = g\n",
    "        had_nan += 1\n",
    "    else:\n",
    "        name += 1\n",
    "print(name, had_nan, not_in)"
   ]
  },
  {
   "cell_type": "code",
   "execution_count": 30,
   "metadata": {
    "scrolled": true
   },
   "outputs": [],
   "source": [
    "# fill in biological replicates column\n",
    "ica_data.metadata = ica_data.metadata.rename(columns = {'Biological Replicates':'rep_id'})\n",
    "\n",
    "for name, group in ica_data.metadata.groupby(['project_id','condition_id']):\n",
    "    num_reps = group.shape[0]\n",
    "    #display(group)\n",
    "    ica_data.metadata.loc[group.index, 'Biological Replicates'] = [int(num_reps)]*num_reps\n",
    "ica_data.metadata['Biological Replicates'] = ica_data.metadata['Biological Replicates'].astype(int)"
   ]
  },
  {
   "cell_type": "code",
   "execution_count": 31,
   "metadata": {},
   "outputs": [],
   "source": [
    "# get functions from py files\n",
    "sys.path.append('../../../py')\n",
    "from gene_table import *\n",
    "from gene_histogram import *\n",
    "from gene_scatter import *\n",
    "from activity_bar import *\n",
    "from regulon_venn import *\n",
    "from regulon_scatter import *\n",
    "\n",
    "# gene dashboards\n",
    "from gene_activity_bar import *\n",
    "\n",
    "import os"
   ]
  },
  {
   "cell_type": "code",
   "execution_count": 32,
   "metadata": {},
   "outputs": [],
   "source": [
    "# read in other necessary annotation files\n",
    "links = pd.read_csv('../annotation/gene_links.csv', index_col = 3)['link'].to_dict()\n",
    "sample_meta = ica_data.metadata.reset_index()\n",
    "gene_info = pd.read_csv(GENE_DIR+'gene_info.csv', index_col = 0)\n",
    "trn = pd.read_csv(GENE_DIR+'TRN.csv', index_col = 0)"
   ]
  },
  {
   "cell_type": "code",
   "execution_count": 33,
   "metadata": {},
   "outputs": [
    {
     "name": "stdout",
     "output_type": "stream",
     "text": [
      "2506 314\n"
     ]
    }
   ],
   "source": [
    "had_link = 0\n",
    "no_link = 0\n",
    "for g in ica_data.S.index:\n",
    "    try: \n",
    "        links[g]\n",
    "        had_link += 1\n",
    "    except:\n",
    "        links[g] = np.nan\n",
    "        no_link += 1\n",
    "print(had_link, no_link)"
   ]
  },
  {
   "cell_type": "code",
   "execution_count": 34,
   "metadata": {},
   "outputs": [],
   "source": [
    "def tf_with_links(k, row, links):\n",
    "    tf_str = row.TF\n",
    "\n",
    "    if not(type(tf_str) == str):\n",
    "        return tf_str\n",
    "\n",
    "    # get a list of transcription factors\n",
    "    and_or = ''\n",
    "    if '/' in tf_str:\n",
    "        and_or = ' or '\n",
    "        tfs = tf_str.split('/')\n",
    "    elif '+' in tf_str:\n",
    "        and_or = ' and '\n",
    "        tfs = tf_str.split('+')\n",
    "    else:\n",
    "        tfs = [tf_str]\n",
    "\n",
    "    # start building an html string\n",
    "    tfs_html = []\n",
    "    for tf in tfs:\n",
    "        tf1 = tf[0].lower() + tf[1:]\n",
    "        if tf1 in ica_data.name2num.keys():\n",
    "            tf_gene = ica_data.name2num[tf1]\n",
    "            link = links[tf_gene]\n",
    "            if type(link)==str:# this tf has a link\n",
    "                tf_ = '<a href=\"' + link + '\" target=\"_blank\">'+ tf + '</a>'\n",
    "                tfs_html += [tf_]\n",
    "            else: # this tf has no link\n",
    "                tfs_html += [tf]\n",
    "        # this tf isn't in the tf_links file\n",
    "        else:\n",
    "            tfs_html += [tf]\n",
    "    res = and_or.join(tfs_html)\n",
    "    return res"
   ]
  },
  {
   "cell_type": "markdown",
   "metadata": {},
   "source": [
    "## Generate Files"
   ]
  },
  {
   "cell_type": "code",
   "execution_count": 35,
   "metadata": {},
   "outputs": [
    {
     "name": "stderr",
     "output_type": "stream",
     "text": [
      "/home/kevin/anaconda3/lib/python3.7/site-packages/ipykernel_launcher.py:17: FutureWarning: The signature of `Series.to_csv` was aligned to that of `DataFrame.to_csv`, and argument 'header' will change its default value from False to True: please pass an explicit value to suppress this warning.\n"
     ]
    }
   ],
   "source": [
    "# dataset_meta: Stores information for the header of the dataset page\n",
    "num_genes = ica_data.X.shape[0]\n",
    "num_samps = ica_data.X.shape[1]\n",
    "num_conds = 0;\n",
    "for n, g in ica_data.metadata.groupby(['condition_id', 'project_id']):\n",
    "    num_conds += 1\n",
    "num_ims = ica_data.S.shape[1]\n",
    "\n",
    "dataset_meta = pd.Series({'Title':'<i>S. aureus</i> StaphPRECISE',\n",
    "                          'Organism': '<i>Staphylococcus aureus</i> USA 300',\n",
    "                          'Strain': 'TCH1516 and LAC',\n",
    "                          'Publication':'<a href=\"https://doi.org/10.1101/2020.03.18.997296\">Poudel, et al., 2020</a>',\n",
    "                          'Number of Samples': num_samps,\n",
    "                          'Number of Unique Conditions': num_conds,\n",
    "                          'Number of Genes':num_genes,\n",
    "                          'Number of iModulons': num_ims})\n",
    "dataset_meta.to_csv('dataset_meta.csv')"
   ]
  },
  {
   "cell_type": "code",
   "execution_count": 36,
   "metadata": {},
   "outputs": [],
   "source": [
    "cat_order = ['Virulence',\n",
    "             'Carbon Source Utilization',\n",
    "             'Amino Acid and Nucleotide Metabolism',\n",
    "             'Energy Metabolism',\n",
    "             'Metal Homeostasis',\n",
    "             'Miscellaneous Metabolism',\n",
    "             'Structural Components',\n",
    "             'Stress Response',\n",
    "             'Biological Enrichment',\n",
    "             'Mobile Elements',\n",
    "             'Genomic Strain Difference',\n",
    "             'Uncharacterized']\n",
    "cat_dict = {cat_order[i]:i for i in range(len(cat_order))}\n",
    "im_table = enrich[['name', 'Regulator', 'Function', 'Category', 'n_genes', 'precision', 'recall']]\n",
    "im_table = im_table.rename(columns={'name':'Name'})\n",
    "im_table.index.name = 'k'\n",
    "im_table['category_num'] = [cat_dict[im_table.Category[k]] for k in im_table.index]\n",
    "im_table.to_csv('iM_table.csv')"
   ]
  },
  {
   "cell_type": "code",
   "execution_count": 37,
   "metadata": {},
   "outputs": [],
   "source": [
    "num_ims = im_table.shape[0]-1\n",
    "file = open('num_ims.txt', 'w')\n",
    "file.write(str(num_ims))\n",
    "file.close()"
   ]
  },
  {
   "cell_type": "code",
   "execution_count": 38,
   "metadata": {},
   "outputs": [],
   "source": [
    "def make_directory(ica_data, k, row, links, sample_meta):\n",
    "    # generate the plot files\n",
    "    gene_table = gene_table_df(ica_data, k, row, links = links, operon_commas=False)\n",
    "    gene_hist = gene_hist_df(ica_data, k, row)\n",
    "    base_conds = ['USA300_TCH1516_U01-Set000_CAMHB_Control_1', 'USA300_TCH1516_U01-Set000_CAMHB_Control_2'] #TCH1516\n",
    "    #base_conds = ['USA300_LAC_CAMHB_U01-Set001_Control_1', 'USA300_LAC_CAMHB_U01-Set001_Control_2']\n",
    "    gene_scatter = gene_scatter_df(ica_data, k, base_conds, links)\n",
    "    act_bar = activity_bar_df(ica_data, k, sample_meta)\n",
    "\n",
    "    reg_venn = regulon_venn_df(ica_data, k, row)\n",
    "    reg_scatter = regulon_scatter_df(ica_data, k, row)\n",
    "\n",
    "    # generate a basic data df\n",
    "    res = pd.Series(index=['name', 'TF', 'Regulator',\n",
    "                           'Function', 'Category', \n",
    "                           'has_venn', 'scatter', 'has_meme'])\n",
    "    res.loc['name'] = row.loc['name']\n",
    "    res.loc['TF'] = row.TF\n",
    "    res.loc['Regulator'] = tf_with_links(k, row, links)\n",
    "    res.loc['Function'] = row.Function\n",
    "    res.loc['Category'] = row.Category\n",
    "    res.loc['has_venn'] = not(reg_venn is None)\n",
    "    if reg_scatter is None:\n",
    "        res.loc['scatter'] = 0\n",
    "    else:\n",
    "        res.loc['scatter'] = reg_scatter.shape[1] - 1\n",
    "    res.loc['has_meme'] = False # update later\n",
    "    # may also want to add the stats from enrich\n",
    "\n",
    "    # save output\n",
    "    folder = 'iModulon_files/'+str(k)+'/'\n",
    "    if not(os.path.isdir(folder)):\n",
    "        os.mkdir(folder)\n",
    "    res.to_csv(folder+str(k)+'_meta.csv')\n",
    "    gene_table.to_csv(folder+str(k)+'_gene_table.csv')\n",
    "    gene_hist.to_csv(folder+str(k)+'_gene_hist.csv')\n",
    "    gene_scatter.to_csv(folder+str(k)+'_gene_scatter.csv')\n",
    "    act_bar.to_csv(folder+str(k)+'_activity_bar.csv')\n",
    "    if not(reg_venn is None):\n",
    "        reg_venn.to_csv(folder+str(k)+'_reg_venn.csv')\n",
    "    if not(reg_scatter is None):\n",
    "        reg_scatter.to_csv(folder+str(k)+'_reg_scatter.csv')\n",
    "    ica_data.S[k].to_csv(folder+str(k)+'_gene_weights.csv')\n",
    "    ica_data.A.loc[k].to_csv(folder+str(k)+'_activity.csv')"
   ]
  },
  {
   "cell_type": "code",
   "execution_count": 39,
   "metadata": {
    "scrolled": true
   },
   "outputs": [
    {
     "name": "stderr",
     "output_type": "stream",
     "text": [
      "../../../py/gene_scatter.py:61: SettingWithCopyWarning: \n",
      "A value is trying to be set on a copy of a slice from a DataFrame\n",
      "\n",
      "See the caveats in the documentation: http://pandas.pydata.org/pandas-docs/stable/user_guide/indexing.html#returning-a-view-versus-a-copy\n",
      "  res.link[g] = links[g]\n",
      "/home/kevin/anaconda3/lib/python3.7/site-packages/scipy/optimize/minpack.py:795: OptimizeWarning: Covariance of the parameters could not be estimated\n",
      "  category=OptimizeWarning)\n",
      "/home/kevin/anaconda3/lib/python3.7/site-packages/ipykernel_launcher.py:34: FutureWarning: The signature of `Series.to_csv` was aligned to that of `DataFrame.to_csv`, and argument 'header' will change its default value from False to True: please pass an explicit value to suppress this warning.\n",
      "/home/kevin/anaconda3/lib/python3.7/site-packages/ipykernel_launcher.py:43: FutureWarning: The signature of `Series.to_csv` was aligned to that of `DataFrame.to_csv`, and argument 'header' will change its default value from False to True: please pass an explicit value to suppress this warning.\n",
      "/home/kevin/anaconda3/lib/python3.7/site-packages/ipykernel_launcher.py:44: FutureWarning: The signature of `Series.to_csv` was aligned to that of `DataFrame.to_csv`, and argument 'header' will change its default value from False to True: please pass an explicit value to suppress this warning.\n",
      "../../../py/gene_scatter.py:61: SettingWithCopyWarning: \n",
      "A value is trying to be set on a copy of a slice from a DataFrame\n",
      "\n",
      "See the caveats in the documentation: http://pandas.pydata.org/pandas-docs/stable/user_guide/indexing.html#returning-a-view-versus-a-copy\n",
      "  res.link[g] = links[g]\n",
      "/home/kevin/anaconda3/lib/python3.7/site-packages/scipy/optimize/minpack.py:795: OptimizeWarning: Covariance of the parameters could not be estimated\n",
      "  category=OptimizeWarning)\n",
      "/home/kevin/anaconda3/lib/python3.7/site-packages/ipykernel_launcher.py:34: FutureWarning: The signature of `Series.to_csv` was aligned to that of `DataFrame.to_csv`, and argument 'header' will change its default value from False to True: please pass an explicit value to suppress this warning.\n",
      "/home/kevin/anaconda3/lib/python3.7/site-packages/ipykernel_launcher.py:43: FutureWarning: The signature of `Series.to_csv` was aligned to that of `DataFrame.to_csv`, and argument 'header' will change its default value from False to True: please pass an explicit value to suppress this warning.\n",
      "/home/kevin/anaconda3/lib/python3.7/site-packages/ipykernel_launcher.py:44: FutureWarning: The signature of `Series.to_csv` was aligned to that of `DataFrame.to_csv`, and argument 'header' will change its default value from False to True: please pass an explicit value to suppress this warning.\n",
      "../../../py/gene_scatter.py:61: SettingWithCopyWarning: \n",
      "A value is trying to be set on a copy of a slice from a DataFrame\n",
      "\n",
      "See the caveats in the documentation: http://pandas.pydata.org/pandas-docs/stable/user_guide/indexing.html#returning-a-view-versus-a-copy\n",
      "  res.link[g] = links[g]\n",
      "/home/kevin/anaconda3/lib/python3.7/site-packages/scipy/optimize/minpack.py:795: OptimizeWarning: Covariance of the parameters could not be estimated\n",
      "  category=OptimizeWarning)\n",
      "/home/kevin/anaconda3/lib/python3.7/site-packages/ipykernel_launcher.py:34: FutureWarning: The signature of `Series.to_csv` was aligned to that of `DataFrame.to_csv`, and argument 'header' will change its default value from False to True: please pass an explicit value to suppress this warning.\n",
      "/home/kevin/anaconda3/lib/python3.7/site-packages/ipykernel_launcher.py:43: FutureWarning: The signature of `Series.to_csv` was aligned to that of `DataFrame.to_csv`, and argument 'header' will change its default value from False to True: please pass an explicit value to suppress this warning.\n",
      "/home/kevin/anaconda3/lib/python3.7/site-packages/ipykernel_launcher.py:44: FutureWarning: The signature of `Series.to_csv` was aligned to that of `DataFrame.to_csv`, and argument 'header' will change its default value from False to True: please pass an explicit value to suppress this warning.\n",
      "../../../py/gene_scatter.py:61: SettingWithCopyWarning: \n",
      "A value is trying to be set on a copy of a slice from a DataFrame\n",
      "\n",
      "See the caveats in the documentation: http://pandas.pydata.org/pandas-docs/stable/user_guide/indexing.html#returning-a-view-versus-a-copy\n",
      "  res.link[g] = links[g]\n",
      "/home/kevin/anaconda3/lib/python3.7/site-packages/scipy/optimize/minpack.py:795: OptimizeWarning: Covariance of the parameters could not be estimated\n",
      "  category=OptimizeWarning)\n",
      "/home/kevin/anaconda3/lib/python3.7/site-packages/ipykernel_launcher.py:34: FutureWarning: The signature of `Series.to_csv` was aligned to that of `DataFrame.to_csv`, and argument 'header' will change its default value from False to True: please pass an explicit value to suppress this warning.\n",
      "/home/kevin/anaconda3/lib/python3.7/site-packages/ipykernel_launcher.py:43: FutureWarning: The signature of `Series.to_csv` was aligned to that of `DataFrame.to_csv`, and argument 'header' will change its default value from False to True: please pass an explicit value to suppress this warning.\n",
      "/home/kevin/anaconda3/lib/python3.7/site-packages/ipykernel_launcher.py:44: FutureWarning: The signature of `Series.to_csv` was aligned to that of `DataFrame.to_csv`, and argument 'header' will change its default value from False to True: please pass an explicit value to suppress this warning.\n",
      "../../../py/gene_scatter.py:61: SettingWithCopyWarning: \n",
      "A value is trying to be set on a copy of a slice from a DataFrame\n",
      "\n",
      "See the caveats in the documentation: http://pandas.pydata.org/pandas-docs/stable/user_guide/indexing.html#returning-a-view-versus-a-copy\n",
      "  res.link[g] = links[g]\n",
      "/home/kevin/anaconda3/lib/python3.7/site-packages/scipy/optimize/minpack.py:795: OptimizeWarning: Covariance of the parameters could not be estimated\n",
      "  category=OptimizeWarning)\n",
      "/home/kevin/anaconda3/lib/python3.7/site-packages/ipykernel_launcher.py:34: FutureWarning: The signature of `Series.to_csv` was aligned to that of `DataFrame.to_csv`, and argument 'header' will change its default value from False to True: please pass an explicit value to suppress this warning.\n",
      "/home/kevin/anaconda3/lib/python3.7/site-packages/ipykernel_launcher.py:43: FutureWarning: The signature of `Series.to_csv` was aligned to that of `DataFrame.to_csv`, and argument 'header' will change its default value from False to True: please pass an explicit value to suppress this warning.\n",
      "/home/kevin/anaconda3/lib/python3.7/site-packages/ipykernel_launcher.py:44: FutureWarning: The signature of `Series.to_csv` was aligned to that of `DataFrame.to_csv`, and argument 'header' will change its default value from False to True: please pass an explicit value to suppress this warning.\n",
      "../../../py/gene_scatter.py:61: SettingWithCopyWarning: \n",
      "A value is trying to be set on a copy of a slice from a DataFrame\n",
      "\n",
      "See the caveats in the documentation: http://pandas.pydata.org/pandas-docs/stable/user_guide/indexing.html#returning-a-view-versus-a-copy\n",
      "  res.link[g] = links[g]\n"
     ]
    },
    {
     "name": "stdout",
     "output_type": "stream",
     "text": [
      "MISSING TF: GuanineRiboswitch\n",
      "MISSING TF: GuanineRiboswitch\n"
     ]
    },
    {
     "name": "stderr",
     "output_type": "stream",
     "text": [
      "/home/kevin/anaconda3/lib/python3.7/site-packages/scipy/optimize/minpack.py:795: OptimizeWarning: Covariance of the parameters could not be estimated\n",
      "  category=OptimizeWarning)\n",
      "/home/kevin/anaconda3/lib/python3.7/site-packages/ipykernel_launcher.py:34: FutureWarning: The signature of `Series.to_csv` was aligned to that of `DataFrame.to_csv`, and argument 'header' will change its default value from False to True: please pass an explicit value to suppress this warning.\n",
      "/home/kevin/anaconda3/lib/python3.7/site-packages/ipykernel_launcher.py:43: FutureWarning: The signature of `Series.to_csv` was aligned to that of `DataFrame.to_csv`, and argument 'header' will change its default value from False to True: please pass an explicit value to suppress this warning.\n",
      "/home/kevin/anaconda3/lib/python3.7/site-packages/ipykernel_launcher.py:44: FutureWarning: The signature of `Series.to_csv` was aligned to that of `DataFrame.to_csv`, and argument 'header' will change its default value from False to True: please pass an explicit value to suppress this warning.\n",
      "../../../py/gene_scatter.py:61: SettingWithCopyWarning: \n",
      "A value is trying to be set on a copy of a slice from a DataFrame\n",
      "\n",
      "See the caveats in the documentation: http://pandas.pydata.org/pandas-docs/stable/user_guide/indexing.html#returning-a-view-versus-a-copy\n",
      "  res.link[g] = links[g]\n",
      "/home/kevin/anaconda3/lib/python3.7/site-packages/scipy/optimize/minpack.py:795: OptimizeWarning: Covariance of the parameters could not be estimated\n",
      "  category=OptimizeWarning)\n",
      "/home/kevin/anaconda3/lib/python3.7/site-packages/ipykernel_launcher.py:34: FutureWarning: The signature of `Series.to_csv` was aligned to that of `DataFrame.to_csv`, and argument 'header' will change its default value from False to True: please pass an explicit value to suppress this warning.\n",
      "/home/kevin/anaconda3/lib/python3.7/site-packages/ipykernel_launcher.py:43: FutureWarning: The signature of `Series.to_csv` was aligned to that of `DataFrame.to_csv`, and argument 'header' will change its default value from False to True: please pass an explicit value to suppress this warning.\n",
      "/home/kevin/anaconda3/lib/python3.7/site-packages/ipykernel_launcher.py:44: FutureWarning: The signature of `Series.to_csv` was aligned to that of `DataFrame.to_csv`, and argument 'header' will change its default value from False to True: please pass an explicit value to suppress this warning.\n",
      "../../../py/gene_scatter.py:61: SettingWithCopyWarning: \n",
      "A value is trying to be set on a copy of a slice from a DataFrame\n",
      "\n",
      "See the caveats in the documentation: http://pandas.pydata.org/pandas-docs/stable/user_guide/indexing.html#returning-a-view-versus-a-copy\n",
      "  res.link[g] = links[g]\n",
      "/home/kevin/anaconda3/lib/python3.7/site-packages/scipy/optimize/minpack.py:795: OptimizeWarning: Covariance of the parameters could not be estimated\n",
      "  category=OptimizeWarning)\n",
      "/home/kevin/anaconda3/lib/python3.7/site-packages/ipykernel_launcher.py:34: FutureWarning: The signature of `Series.to_csv` was aligned to that of `DataFrame.to_csv`, and argument 'header' will change its default value from False to True: please pass an explicit value to suppress this warning.\n",
      "/home/kevin/anaconda3/lib/python3.7/site-packages/ipykernel_launcher.py:43: FutureWarning: The signature of `Series.to_csv` was aligned to that of `DataFrame.to_csv`, and argument 'header' will change its default value from False to True: please pass an explicit value to suppress this warning.\n",
      "/home/kevin/anaconda3/lib/python3.7/site-packages/ipykernel_launcher.py:44: FutureWarning: The signature of `Series.to_csv` was aligned to that of `DataFrame.to_csv`, and argument 'header' will change its default value from False to True: please pass an explicit value to suppress this warning.\n"
     ]
    },
    {
     "name": "stdout",
     "output_type": "stream",
     "text": [
      "MISSING TF: SigS\n",
      "MISSING TF: SigS\n"
     ]
    },
    {
     "name": "stderr",
     "output_type": "stream",
     "text": [
      "../../../py/gene_scatter.py:61: SettingWithCopyWarning: \n",
      "A value is trying to be set on a copy of a slice from a DataFrame\n",
      "\n",
      "See the caveats in the documentation: http://pandas.pydata.org/pandas-docs/stable/user_guide/indexing.html#returning-a-view-versus-a-copy\n",
      "  res.link[g] = links[g]\n",
      "/home/kevin/anaconda3/lib/python3.7/site-packages/scipy/optimize/minpack.py:795: OptimizeWarning: Covariance of the parameters could not be estimated\n",
      "  category=OptimizeWarning)\n",
      "/home/kevin/anaconda3/lib/python3.7/site-packages/ipykernel_launcher.py:34: FutureWarning: The signature of `Series.to_csv` was aligned to that of `DataFrame.to_csv`, and argument 'header' will change its default value from False to True: please pass an explicit value to suppress this warning.\n",
      "/home/kevin/anaconda3/lib/python3.7/site-packages/ipykernel_launcher.py:43: FutureWarning: The signature of `Series.to_csv` was aligned to that of `DataFrame.to_csv`, and argument 'header' will change its default value from False to True: please pass an explicit value to suppress this warning.\n",
      "/home/kevin/anaconda3/lib/python3.7/site-packages/ipykernel_launcher.py:44: FutureWarning: The signature of `Series.to_csv` was aligned to that of `DataFrame.to_csv`, and argument 'header' will change its default value from False to True: please pass an explicit value to suppress this warning.\n",
      "../../../py/gene_scatter.py:61: SettingWithCopyWarning: \n",
      "A value is trying to be set on a copy of a slice from a DataFrame\n",
      "\n",
      "See the caveats in the documentation: http://pandas.pydata.org/pandas-docs/stable/user_guide/indexing.html#returning-a-view-versus-a-copy\n",
      "  res.link[g] = links[g]\n",
      "/home/kevin/anaconda3/lib/python3.7/site-packages/scipy/optimize/minpack.py:795: OptimizeWarning: Covariance of the parameters could not be estimated\n",
      "  category=OptimizeWarning)\n",
      "/home/kevin/anaconda3/lib/python3.7/site-packages/ipykernel_launcher.py:34: FutureWarning: The signature of `Series.to_csv` was aligned to that of `DataFrame.to_csv`, and argument 'header' will change its default value from False to True: please pass an explicit value to suppress this warning.\n",
      "/home/kevin/anaconda3/lib/python3.7/site-packages/ipykernel_launcher.py:43: FutureWarning: The signature of `Series.to_csv` was aligned to that of `DataFrame.to_csv`, and argument 'header' will change its default value from False to True: please pass an explicit value to suppress this warning.\n",
      "/home/kevin/anaconda3/lib/python3.7/site-packages/ipykernel_launcher.py:44: FutureWarning: The signature of `Series.to_csv` was aligned to that of `DataFrame.to_csv`, and argument 'header' will change its default value from False to True: please pass an explicit value to suppress this warning.\n",
      "../../../py/gene_scatter.py:61: SettingWithCopyWarning: \n",
      "A value is trying to be set on a copy of a slice from a DataFrame\n",
      "\n",
      "See the caveats in the documentation: http://pandas.pydata.org/pandas-docs/stable/user_guide/indexing.html#returning-a-view-versus-a-copy\n",
      "  res.link[g] = links[g]\n",
      "/home/kevin/anaconda3/lib/python3.7/site-packages/scipy/optimize/minpack.py:795: OptimizeWarning: Covariance of the parameters could not be estimated\n",
      "  category=OptimizeWarning)\n",
      "/home/kevin/anaconda3/lib/python3.7/site-packages/ipykernel_launcher.py:34: FutureWarning: The signature of `Series.to_csv` was aligned to that of `DataFrame.to_csv`, and argument 'header' will change its default value from False to True: please pass an explicit value to suppress this warning.\n",
      "/home/kevin/anaconda3/lib/python3.7/site-packages/ipykernel_launcher.py:43: FutureWarning: The signature of `Series.to_csv` was aligned to that of `DataFrame.to_csv`, and argument 'header' will change its default value from False to True: please pass an explicit value to suppress this warning.\n",
      "/home/kevin/anaconda3/lib/python3.7/site-packages/ipykernel_launcher.py:44: FutureWarning: The signature of `Series.to_csv` was aligned to that of `DataFrame.to_csv`, and argument 'header' will change its default value from False to True: please pass an explicit value to suppress this warning.\n",
      "../../../py/gene_scatter.py:61: SettingWithCopyWarning: \n",
      "A value is trying to be set on a copy of a slice from a DataFrame\n",
      "\n",
      "See the caveats in the documentation: http://pandas.pydata.org/pandas-docs/stable/user_guide/indexing.html#returning-a-view-versus-a-copy\n",
      "  res.link[g] = links[g]\n",
      "/home/kevin/anaconda3/lib/python3.7/site-packages/scipy/optimize/minpack.py:795: OptimizeWarning: Covariance of the parameters could not be estimated\n",
      "  category=OptimizeWarning)\n",
      "/home/kevin/anaconda3/lib/python3.7/site-packages/ipykernel_launcher.py:34: FutureWarning: The signature of `Series.to_csv` was aligned to that of `DataFrame.to_csv`, and argument 'header' will change its default value from False to True: please pass an explicit value to suppress this warning.\n",
      "/home/kevin/anaconda3/lib/python3.7/site-packages/ipykernel_launcher.py:43: FutureWarning: The signature of `Series.to_csv` was aligned to that of `DataFrame.to_csv`, and argument 'header' will change its default value from False to True: please pass an explicit value to suppress this warning.\n",
      "/home/kevin/anaconda3/lib/python3.7/site-packages/ipykernel_launcher.py:44: FutureWarning: The signature of `Series.to_csv` was aligned to that of `DataFrame.to_csv`, and argument 'header' will change its default value from False to True: please pass an explicit value to suppress this warning.\n",
      "../../../py/gene_scatter.py:61: SettingWithCopyWarning: \n",
      "A value is trying to be set on a copy of a slice from a DataFrame\n",
      "\n",
      "See the caveats in the documentation: http://pandas.pydata.org/pandas-docs/stable/user_guide/indexing.html#returning-a-view-versus-a-copy\n",
      "  res.link[g] = links[g]\n",
      "/home/kevin/anaconda3/lib/python3.7/site-packages/scipy/optimize/minpack.py:795: OptimizeWarning: Covariance of the parameters could not be estimated\n",
      "  category=OptimizeWarning)\n",
      "/home/kevin/anaconda3/lib/python3.7/site-packages/ipykernel_launcher.py:34: FutureWarning: The signature of `Series.to_csv` was aligned to that of `DataFrame.to_csv`, and argument 'header' will change its default value from False to True: please pass an explicit value to suppress this warning.\n",
      "/home/kevin/anaconda3/lib/python3.7/site-packages/ipykernel_launcher.py:43: FutureWarning: The signature of `Series.to_csv` was aligned to that of `DataFrame.to_csv`, and argument 'header' will change its default value from False to True: please pass an explicit value to suppress this warning.\n",
      "/home/kevin/anaconda3/lib/python3.7/site-packages/ipykernel_launcher.py:44: FutureWarning: The signature of `Series.to_csv` was aligned to that of `DataFrame.to_csv`, and argument 'header' will change its default value from False to True: please pass an explicit value to suppress this warning.\n",
      "../../../py/gene_scatter.py:61: SettingWithCopyWarning: \n",
      "A value is trying to be set on a copy of a slice from a DataFrame\n",
      "\n",
      "See the caveats in the documentation: http://pandas.pydata.org/pandas-docs/stable/user_guide/indexing.html#returning-a-view-versus-a-copy\n",
      "  res.link[g] = links[g]\n",
      "/home/kevin/anaconda3/lib/python3.7/site-packages/scipy/optimize/minpack.py:795: OptimizeWarning: Covariance of the parameters could not be estimated\n",
      "  category=OptimizeWarning)\n",
      "/home/kevin/anaconda3/lib/python3.7/site-packages/ipykernel_launcher.py:34: FutureWarning: The signature of `Series.to_csv` was aligned to that of `DataFrame.to_csv`, and argument 'header' will change its default value from False to True: please pass an explicit value to suppress this warning.\n",
      "/home/kevin/anaconda3/lib/python3.7/site-packages/ipykernel_launcher.py:43: FutureWarning: The signature of `Series.to_csv` was aligned to that of `DataFrame.to_csv`, and argument 'header' will change its default value from False to True: please pass an explicit value to suppress this warning.\n",
      "/home/kevin/anaconda3/lib/python3.7/site-packages/ipykernel_launcher.py:44: FutureWarning: The signature of `Series.to_csv` was aligned to that of `DataFrame.to_csv`, and argument 'header' will change its default value from False to True: please pass an explicit value to suppress this warning.\n",
      "../../../py/gene_scatter.py:61: SettingWithCopyWarning: \n",
      "A value is trying to be set on a copy of a slice from a DataFrame\n",
      "\n",
      "See the caveats in the documentation: http://pandas.pydata.org/pandas-docs/stable/user_guide/indexing.html#returning-a-view-versus-a-copy\n",
      "  res.link[g] = links[g]\n",
      "/home/kevin/anaconda3/lib/python3.7/site-packages/scipy/optimize/minpack.py:795: OptimizeWarning: Covariance of the parameters could not be estimated\n",
      "  category=OptimizeWarning)\n",
      "/home/kevin/anaconda3/lib/python3.7/site-packages/ipykernel_launcher.py:34: FutureWarning: The signature of `Series.to_csv` was aligned to that of `DataFrame.to_csv`, and argument 'header' will change its default value from False to True: please pass an explicit value to suppress this warning.\n",
      "/home/kevin/anaconda3/lib/python3.7/site-packages/ipykernel_launcher.py:43: FutureWarning: The signature of `Series.to_csv` was aligned to that of `DataFrame.to_csv`, and argument 'header' will change its default value from False to True: please pass an explicit value to suppress this warning.\n",
      "/home/kevin/anaconda3/lib/python3.7/site-packages/ipykernel_launcher.py:44: FutureWarning: The signature of `Series.to_csv` was aligned to that of `DataFrame.to_csv`, and argument 'header' will change its default value from False to True: please pass an explicit value to suppress this warning.\n"
     ]
    }
   ],
   "source": [
    "for k, row in enrich.iterrows():\n",
    "    make_directory(ica_data, k, row, links, sample_meta)"
   ]
  },
  {
   "cell_type": "markdown",
   "metadata": {},
   "source": [
    "# Gene Files"
   ]
  },
  {
   "cell_type": "code",
   "execution_count": 30,
   "metadata": {},
   "outputs": [],
   "source": [
    "# Filter out genes with no ICA data\n",
    "reduced_gene_info = gene_info.copy()\n",
    "reduced_gene_info = reduced_gene_info[reduced_gene_info.index.isin(ica_data.X.index)]"
   ]
  },
  {
   "cell_type": "code",
   "execution_count": 43,
   "metadata": {},
   "outputs": [],
   "source": [
    "# Information for Gene Metadata\n",
    "\n",
    "def make_gene_files(ica_data, k, row, links, sample_meta):\n",
    "\n",
    "    # generate metadata df\n",
    "    res = pd.Series(index=['gene_id', 'name', 'operon', 'product',\n",
    "                           'cog', 'regulator(s)', 'link'])\n",
    "    res.loc['gene_id'] = k\n",
    "    res.loc['name'] = row.gene_name\n",
    "    res.loc['operon'] = row.operon\n",
    "    res.loc['product'] = row['product']\n",
    "    res.loc['cog'] = row.cog\n",
    "    res.loc['regulator(s)'] = \", \".join(trn[trn.gene_id == k].TF.to_list())\n",
    "    try:\n",
    "        res.loc['link'] = '<a href=\"' + str(links[k]) + '\">'+ 'AureoWiki' + '</a>'\n",
    "    except:\n",
    "        res.loc['link'] = None\n",
    "    res.fillna(value=\"<i> Not Available </i>\", inplace = True) \n",
    "    \n",
    "    # save output\n",
    "    folder = 'gene_page_files/'+str(k)+'/'\n",
    "    if not(os.path.isdir(folder)):\n",
    "        os.mkdir(folder)\n",
    "    res.to_csv(folder+str(k)+'_meta.csv')"
   ]
  },
  {
   "cell_type": "code",
   "execution_count": 44,
   "metadata": {},
   "outputs": [
    {
     "name": "stderr",
     "output_type": "stream",
     "text": [
      "/home/katherine/anaconda3/lib/python3.7/site-packages/ipykernel_launcher.py:7 \u001b[1;31mDeprecationWarning\u001b[0m: The default dtype for empty Series will be 'object' instead of 'float64' in a future version. Specify a dtype explicitly to silence this warning.\n"
     ]
    }
   ],
   "source": [
    "# generate metadata csv for each gene\n",
    "for k, row in reduced_gene_info.iterrows():\n",
    "    make_gene_files(ica_data, k, row, links, sample_meta)"
   ]
  },
  {
   "cell_type": "code",
   "execution_count": 33,
   "metadata": {},
   "outputs": [],
   "source": [
    "# activity plot + expression for each gene\n",
    "for gene_id in reduced_gene_info.index:\n",
    "    this_fig = gene_activity_bar_df(ica_data, gene_id, sample_meta)\n",
    "    folder = 'gene_page_files/'+str(gene_id)+'/'\n",
    "    this_fig.to_csv(folder + gene_id + '_activity_bar.csv')\n",
    "    ica_data.X.loc[gene_id].to_csv(folder+gene_id+'_expression.csv')"
   ]
  },
  {
   "cell_type": "code",
   "execution_count": 42,
   "metadata": {},
   "outputs": [],
   "source": [
    "# table for each gene\n",
    "\n",
    "# generate df with all iM genes indicated T/F \n",
    "im_genes= ica_data.S.T.copy()\n",
    "for k,row in ica_data.S.T.iterrows():\n",
    "    im_genes.loc[k,:] = abs(row) > abs(ica_data.thresholds[k])\n",
    "    \n",
    "# iM_table: start with main component of iM page\n",
    "im_table = enrich[['name', 'Regulator', 'Function', 'Category']]\n",
    "im_table = im_table.rename(columns={'name':'Name'})\n",
    "im_table.index.name = 'k'\n",
    "\n",
    "#loop through genes:\n",
    "for gene_id in reduced_gene_info.index:\n",
    "    perGene_table = im_table.copy()\n",
    "    perGene_table.insert(column ='in_iM', value = im_genes.loc[:, gene_id], loc = 1)\n",
    "    perGene_table.insert(column ='gene_weight', value = ica_data.S.loc[gene_id, :], loc = 2)\n",
    "\n",
    "    #sort\n",
    "    perGene_table = (perGene_table.assign(A=perGene_table['gene_weight'].abs())\n",
    "            .sort_values(['in_iM','A'],ascending=[False, False])\n",
    "            .drop('A', 1))\n",
    "    folder = 'gene_page_files/'+str(gene_id)+'/'\n",
    "    perGene_table.to_csv(folder + gene_id + '_perGene_table.csv')"
   ]
  },
  {
   "cell_type": "markdown",
   "metadata": {},
   "source": [
    "### make json file for Search"
   ]
  },
  {
   "cell_type": "code",
   "execution_count": 37,
   "metadata": {},
   "outputs": [],
   "source": [
    "# Get df in correct format\n",
    "gene_df = reduced_gene_info.copy()\n",
    "gene_df[\"gene_id\"] = reduced_gene_info.index\n",
    "gene_df = gene_df[['gene_name', \"gene_id\", \"product\"]]\n",
    "gene_df = gene_df.sort_values(by=\"gene_name\")\n",
    "gene_df[\"gene_name\"] = gene_df[\"gene_name\"].fillna(value = \"Unnamed Gene\")\n",
    "gene_df[\"product\"] = gene_df[\"product\"].fillna(value = \"not available\")\n",
    "\n",
    "#create gene info json\n",
    "gene_df.to_json('./gene_page_files/gene_list.json', orient=\"records\")"
   ]
  }
 ],
 "metadata": {
  "kernelspec": {
   "display_name": "Python 3",
   "language": "python",
   "name": "python3"
  },
  "language_info": {
   "codemirror_mode": {
    "name": "ipython",
    "version": 3
   },
   "file_extension": ".py",
   "mimetype": "text/x-python",
   "name": "python",
   "nbconvert_exporter": "python",
   "pygments_lexer": "ipython3",
   "version": "3.7.4"
  }
 },
 "nbformat": 4,
 "nbformat_minor": 2
}
