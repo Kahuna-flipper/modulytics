{
 "cells": [
  {
   "cell_type": "markdown",
   "metadata": {},
   "source": [
    "# StaphPRECISE File Generator\n",
    "\n",
    "This notebook generates all files for the Modulytics web page of Staph aureus, based on ICA of StaphPRECISE."
   ]
  },
  {
   "cell_type": "code",
   "execution_count": 6,
   "metadata": {
    "scrolled": false
   },
   "outputs": [
    {
     "ename": "KeyError",
     "evalue": "\"['USA300_TCH1516_BK-Set001_TSB_2.5ug/mLNafcillin_2', 'USA300_TCH1516_BK-Set001_TSB_Control_1', 'USA300_TCH1516_BK-Set001_TSB_0.25ug/mLLinezolid_2', 'USA300_TCH1516_BK-Set001_TSB_0.5ug/mLVancomycin_2', 'USA300_TCH1516_BK-Set001_TSB_0.5ug/mLVancomycin_1', 'USA300_TCH1516_BK-Set001_TSB_2.5ug/mLNafcillin_1', 'USA300_TCH1516_BK-Set001_TSB_0.25ug/mLLinezolid_1', 'USA300_TCH1516_BK-Set001_TSB_Control_2'] not in index\"",
     "output_type": "error",
     "traceback": [
      "\u001b[0;31m---------------------------------------------------------------------------\u001b[0m",
      "\u001b[0;31mKeyError\u001b[0m                                  Traceback (most recent call last)",
      "\u001b[0;32m<ipython-input-6-4db5c555f634>\u001b[0m in \u001b[0;36m<module>\u001b[0;34m\u001b[0m\n\u001b[1;32m     14\u001b[0m                      \u001b[0mtrn\u001b[0m\u001b[0;34m=\u001b[0m\u001b[0mGENE_DIR\u001b[0m\u001b[0;34m+\u001b[0m\u001b[0;34m'TRN.csv'\u001b[0m\u001b[0;34m,\u001b[0m\u001b[0;34m\u001b[0m\u001b[0;34m\u001b[0m\u001b[0m\n\u001b[1;32m     15\u001b[0m                      \u001b[0mcutoff\u001b[0m\u001b[0;34m=\u001b[0m\u001b[0;36m280\u001b[0m\u001b[0;34m,\u001b[0m\u001b[0;34m\u001b[0m\u001b[0;34m\u001b[0m\u001b[0m\n\u001b[0;32m---> 16\u001b[0;31m                      organism='saureus')\n\u001b[0m\u001b[1;32m     17\u001b[0m \u001b[0mica_data\u001b[0m\u001b[0;34m.\u001b[0m\u001b[0mthresholds\u001b[0m \u001b[0;34m=\u001b[0m \u001b[0menrich\u001b[0m\u001b[0;34m.\u001b[0m\u001b[0mthreshold\u001b[0m\u001b[0;34m.\u001b[0m\u001b[0mto_dict\u001b[0m\u001b[0;34m(\u001b[0m\u001b[0;34m)\u001b[0m\u001b[0;34m\u001b[0m\u001b[0;34m\u001b[0m\u001b[0m\n\u001b[1;32m     18\u001b[0m \u001b[0mpd\u001b[0m\u001b[0;34m.\u001b[0m\u001b[0mset_option\u001b[0m\u001b[0;34m(\u001b[0m\u001b[0;34m'display.max_rows'\u001b[0m\u001b[0;34m,\u001b[0m \u001b[0;32mNone\u001b[0m\u001b[0;34m)\u001b[0m\u001b[0;34m\u001b[0m\u001b[0;34m\u001b[0m\u001b[0m\n",
      "\u001b[0;32m~/Dropbox (UCSD SBRG)/Lab/ModulomeVis/main/ica/icaviz/load.py\u001b[0m in \u001b[0;36m__init__\u001b[0;34m(self, X, S, A, metadata, annotation, trn, fasta, cutoff, names, organism, dima)\u001b[0m\n\u001b[1;32m    248\u001b[0m \u001b[0;34m\u001b[0m\u001b[0m\n\u001b[1;32m    249\u001b[0m         \u001b[0;31m# Ensure proper data order\u001b[0m\u001b[0;34m\u001b[0m\u001b[0;34m\u001b[0m\u001b[0;34m\u001b[0m\u001b[0m\n\u001b[0;32m--> 250\u001b[0;31m         \u001b[0mself\u001b[0m\u001b[0;34m.\u001b[0m\u001b[0mX\u001b[0m \u001b[0;34m=\u001b[0m \u001b[0mself\u001b[0m\u001b[0;34m.\u001b[0m\u001b[0mX\u001b[0m\u001b[0;34m[\u001b[0m\u001b[0mself\u001b[0m\u001b[0;34m.\u001b[0m\u001b[0mmetadata\u001b[0m\u001b[0;34m.\u001b[0m\u001b[0mindex\u001b[0m\u001b[0;34m]\u001b[0m\u001b[0;34m\u001b[0m\u001b[0;34m\u001b[0m\u001b[0m\n\u001b[0m\u001b[1;32m    251\u001b[0m         \u001b[0mself\u001b[0m\u001b[0;34m.\u001b[0m\u001b[0mS\u001b[0m \u001b[0;34m=\u001b[0m \u001b[0mself\u001b[0m\u001b[0;34m.\u001b[0m\u001b[0mS\u001b[0m\u001b[0;34m.\u001b[0m\u001b[0mreindex\u001b[0m\u001b[0;34m(\u001b[0m\u001b[0mself\u001b[0m\u001b[0;34m.\u001b[0m\u001b[0mX\u001b[0m\u001b[0;34m.\u001b[0m\u001b[0mindex\u001b[0m\u001b[0;34m)\u001b[0m\u001b[0;34m\u001b[0m\u001b[0;34m\u001b[0m\u001b[0m\n\u001b[1;32m    252\u001b[0m         \u001b[0mself\u001b[0m\u001b[0;34m.\u001b[0m\u001b[0mA\u001b[0m \u001b[0;34m=\u001b[0m \u001b[0mself\u001b[0m\u001b[0;34m.\u001b[0m\u001b[0mA\u001b[0m\u001b[0;34m[\u001b[0m\u001b[0mself\u001b[0m\u001b[0;34m.\u001b[0m\u001b[0mmetadata\u001b[0m\u001b[0;34m.\u001b[0m\u001b[0mindex\u001b[0m\u001b[0;34m]\u001b[0m\u001b[0;34m\u001b[0m\u001b[0;34m\u001b[0m\u001b[0m\n",
      "\u001b[0;32m~/anaconda3/lib/python3.7/site-packages/pandas/core/frame.py\u001b[0m in \u001b[0;36m__getitem__\u001b[0;34m(self, key)\u001b[0m\n\u001b[1;32m   2984\u001b[0m             \u001b[0;32mif\u001b[0m \u001b[0mis_iterator\u001b[0m\u001b[0;34m(\u001b[0m\u001b[0mkey\u001b[0m\u001b[0;34m)\u001b[0m\u001b[0;34m:\u001b[0m\u001b[0;34m\u001b[0m\u001b[0;34m\u001b[0m\u001b[0m\n\u001b[1;32m   2985\u001b[0m                 \u001b[0mkey\u001b[0m \u001b[0;34m=\u001b[0m \u001b[0mlist\u001b[0m\u001b[0;34m(\u001b[0m\u001b[0mkey\u001b[0m\u001b[0;34m)\u001b[0m\u001b[0;34m\u001b[0m\u001b[0;34m\u001b[0m\u001b[0m\n\u001b[0;32m-> 2986\u001b[0;31m             \u001b[0mindexer\u001b[0m \u001b[0;34m=\u001b[0m \u001b[0mself\u001b[0m\u001b[0;34m.\u001b[0m\u001b[0mloc\u001b[0m\u001b[0;34m.\u001b[0m\u001b[0m_convert_to_indexer\u001b[0m\u001b[0;34m(\u001b[0m\u001b[0mkey\u001b[0m\u001b[0;34m,\u001b[0m \u001b[0maxis\u001b[0m\u001b[0;34m=\u001b[0m\u001b[0;36m1\u001b[0m\u001b[0;34m,\u001b[0m \u001b[0mraise_missing\u001b[0m\u001b[0;34m=\u001b[0m\u001b[0;32mTrue\u001b[0m\u001b[0;34m)\u001b[0m\u001b[0;34m\u001b[0m\u001b[0;34m\u001b[0m\u001b[0m\n\u001b[0m\u001b[1;32m   2987\u001b[0m \u001b[0;34m\u001b[0m\u001b[0m\n\u001b[1;32m   2988\u001b[0m         \u001b[0;31m# take() does not accept boolean indexers\u001b[0m\u001b[0;34m\u001b[0m\u001b[0;34m\u001b[0m\u001b[0;34m\u001b[0m\u001b[0m\n",
      "\u001b[0;32m~/anaconda3/lib/python3.7/site-packages/pandas/core/indexing.py\u001b[0m in \u001b[0;36m_convert_to_indexer\u001b[0;34m(self, obj, axis, is_setter, raise_missing)\u001b[0m\n\u001b[1;32m   1283\u001b[0m                 \u001b[0;31m# When setting, missing keys are not allowed, even with .loc:\u001b[0m\u001b[0;34m\u001b[0m\u001b[0;34m\u001b[0m\u001b[0;34m\u001b[0m\u001b[0m\n\u001b[1;32m   1284\u001b[0m                 \u001b[0mkwargs\u001b[0m \u001b[0;34m=\u001b[0m \u001b[0;34m{\u001b[0m\u001b[0;34m\"raise_missing\"\u001b[0m\u001b[0;34m:\u001b[0m \u001b[0;32mTrue\u001b[0m \u001b[0;32mif\u001b[0m \u001b[0mis_setter\u001b[0m \u001b[0;32melse\u001b[0m \u001b[0mraise_missing\u001b[0m\u001b[0;34m}\u001b[0m\u001b[0;34m\u001b[0m\u001b[0;34m\u001b[0m\u001b[0m\n\u001b[0;32m-> 1285\u001b[0;31m                 \u001b[0;32mreturn\u001b[0m \u001b[0mself\u001b[0m\u001b[0;34m.\u001b[0m\u001b[0m_get_listlike_indexer\u001b[0m\u001b[0;34m(\u001b[0m\u001b[0mobj\u001b[0m\u001b[0;34m,\u001b[0m \u001b[0maxis\u001b[0m\u001b[0;34m,\u001b[0m \u001b[0;34m**\u001b[0m\u001b[0mkwargs\u001b[0m\u001b[0;34m)\u001b[0m\u001b[0;34m[\u001b[0m\u001b[0;36m1\u001b[0m\u001b[0;34m]\u001b[0m\u001b[0;34m\u001b[0m\u001b[0;34m\u001b[0m\u001b[0m\n\u001b[0m\u001b[1;32m   1286\u001b[0m         \u001b[0;32melse\u001b[0m\u001b[0;34m:\u001b[0m\u001b[0;34m\u001b[0m\u001b[0;34m\u001b[0m\u001b[0m\n\u001b[1;32m   1287\u001b[0m             \u001b[0;32mtry\u001b[0m\u001b[0;34m:\u001b[0m\u001b[0;34m\u001b[0m\u001b[0;34m\u001b[0m\u001b[0m\n",
      "\u001b[0;32m~/anaconda3/lib/python3.7/site-packages/pandas/core/indexing.py\u001b[0m in \u001b[0;36m_get_listlike_indexer\u001b[0;34m(self, key, axis, raise_missing)\u001b[0m\n\u001b[1;32m   1090\u001b[0m \u001b[0;34m\u001b[0m\u001b[0m\n\u001b[1;32m   1091\u001b[0m         self._validate_read_indexer(\n\u001b[0;32m-> 1092\u001b[0;31m             \u001b[0mkeyarr\u001b[0m\u001b[0;34m,\u001b[0m \u001b[0mindexer\u001b[0m\u001b[0;34m,\u001b[0m \u001b[0mo\u001b[0m\u001b[0;34m.\u001b[0m\u001b[0m_get_axis_number\u001b[0m\u001b[0;34m(\u001b[0m\u001b[0maxis\u001b[0m\u001b[0;34m)\u001b[0m\u001b[0;34m,\u001b[0m \u001b[0mraise_missing\u001b[0m\u001b[0;34m=\u001b[0m\u001b[0mraise_missing\u001b[0m\u001b[0;34m\u001b[0m\u001b[0;34m\u001b[0m\u001b[0m\n\u001b[0m\u001b[1;32m   1093\u001b[0m         )\n\u001b[1;32m   1094\u001b[0m         \u001b[0;32mreturn\u001b[0m \u001b[0mkeyarr\u001b[0m\u001b[0;34m,\u001b[0m \u001b[0mindexer\u001b[0m\u001b[0;34m\u001b[0m\u001b[0;34m\u001b[0m\u001b[0m\n",
      "\u001b[0;32m~/anaconda3/lib/python3.7/site-packages/pandas/core/indexing.py\u001b[0m in \u001b[0;36m_validate_read_indexer\u001b[0;34m(self, key, indexer, axis, raise_missing)\u001b[0m\n\u001b[1;32m   1183\u001b[0m             \u001b[0;32mif\u001b[0m \u001b[0;32mnot\u001b[0m \u001b[0;34m(\u001b[0m\u001b[0mself\u001b[0m\u001b[0;34m.\u001b[0m\u001b[0mname\u001b[0m \u001b[0;34m==\u001b[0m \u001b[0;34m\"loc\"\u001b[0m \u001b[0;32mand\u001b[0m \u001b[0;32mnot\u001b[0m \u001b[0mraise_missing\u001b[0m\u001b[0;34m)\u001b[0m\u001b[0;34m:\u001b[0m\u001b[0;34m\u001b[0m\u001b[0;34m\u001b[0m\u001b[0m\n\u001b[1;32m   1184\u001b[0m                 \u001b[0mnot_found\u001b[0m \u001b[0;34m=\u001b[0m \u001b[0mlist\u001b[0m\u001b[0;34m(\u001b[0m\u001b[0mset\u001b[0m\u001b[0;34m(\u001b[0m\u001b[0mkey\u001b[0m\u001b[0;34m)\u001b[0m \u001b[0;34m-\u001b[0m \u001b[0mset\u001b[0m\u001b[0;34m(\u001b[0m\u001b[0max\u001b[0m\u001b[0;34m)\u001b[0m\u001b[0;34m)\u001b[0m\u001b[0;34m\u001b[0m\u001b[0;34m\u001b[0m\u001b[0m\n\u001b[0;32m-> 1185\u001b[0;31m                 \u001b[0;32mraise\u001b[0m \u001b[0mKeyError\u001b[0m\u001b[0;34m(\u001b[0m\u001b[0;34m\"{} not in index\"\u001b[0m\u001b[0;34m.\u001b[0m\u001b[0mformat\u001b[0m\u001b[0;34m(\u001b[0m\u001b[0mnot_found\u001b[0m\u001b[0;34m)\u001b[0m\u001b[0;34m)\u001b[0m\u001b[0;34m\u001b[0m\u001b[0;34m\u001b[0m\u001b[0m\n\u001b[0m\u001b[1;32m   1186\u001b[0m \u001b[0;34m\u001b[0m\u001b[0m\n\u001b[1;32m   1187\u001b[0m             \u001b[0;31m# we skip the warning on Categorical/Interval\u001b[0m\u001b[0;34m\u001b[0m\u001b[0;34m\u001b[0m\u001b[0;34m\u001b[0m\u001b[0m\n",
      "\u001b[0;31mKeyError\u001b[0m: \"['USA300_TCH1516_BK-Set001_TSB_2.5ug/mLNafcillin_2', 'USA300_TCH1516_BK-Set001_TSB_Control_1', 'USA300_TCH1516_BK-Set001_TSB_0.25ug/mLLinezolid_2', 'USA300_TCH1516_BK-Set001_TSB_0.5ug/mLVancomycin_2', 'USA300_TCH1516_BK-Set001_TSB_0.5ug/mLVancomycin_1', 'USA300_TCH1516_BK-Set001_TSB_2.5ug/mLNafcillin_1', 'USA300_TCH1516_BK-Set001_TSB_0.25ug/mLLinezolid_1', 'USA300_TCH1516_BK-Set001_TSB_Control_2'] not in index\""
     ]
    }
   ],
   "source": [
    "import sys\n",
    "# be sure that this point to a clone of github.com/SBRG/ICA\n",
    "sys.path.append('../../../../ica/')\n",
    "from icaviz.plotting import *\n",
    "DATA_DIR = 'data_files/'\n",
    "GENE_DIR = '../annotation/gene_files/'\n",
    "enrich = pd.read_csv(DATA_DIR + 'curated_enrichments.csv', index_col=0)\n",
    "names = enrich['name'].tolist()\n",
    "ica_data = load_data(X=DATA_DIR+'log_tpm.csv',\n",
    "                     S=DATA_DIR+'M.csv',\n",
    "                     A=DATA_DIR+'A.csv',\n",
    "                     metadata='sample_metadata.csv',\n",
    "                     annotation=GENE_DIR+'gene_info.csv',\n",
    "                     trn=GENE_DIR+'TRN.csv',\n",
    "                     cutoff=280, \n",
    "                     organism='saureus')\n",
    "ica_data.thresholds = enrich.threshold.to_dict()\n",
    "pd.set_option('display.max_rows', None)"
   ]
  },
  {
   "cell_type": "code",
   "execution_count": 9,
   "metadata": {},
   "outputs": [],
   "source": [
    "metadata = pd.read_csv('sample_metadata.csv', index_col = 0)\n",
    "X = pd.read_csv(DATA_DIR+'log_tpm.csv', index_col = 0)"
   ]
  },
  {
   "cell_type": "code",
   "execution_count": 13,
   "metadata": {},
   "outputs": [
    {
     "data": {
      "text/plain": [
       "108"
      ]
     },
     "execution_count": 13,
     "metadata": {},
     "output_type": "execute_result"
    }
   ],
   "source": [
    "len(X.columns)"
   ]
  },
  {
   "cell_type": "code",
   "execution_count": 14,
   "metadata": {},
   "outputs": [
    {
     "data": {
      "text/plain": [
       "98"
      ]
     },
     "execution_count": 14,
     "metadata": {},
     "output_type": "execute_result"
    }
   ],
   "source": [
    "len(metadata.index)"
   ]
  },
  {
   "cell_type": "code",
   "execution_count": 15,
   "metadata": {},
   "outputs": [],
   "source": [
    "# get functions from py files\n",
    "sys.path.append('../../../py')\n",
    "from gene_table import *\n",
    "from gene_histogram import *\n",
    "from gene_scatter import *\n",
    "from activity_bar import *\n",
    "from regulon_venn import *\n",
    "from regulon_scatter import *\n",
    "\n",
    "import os"
   ]
  },
  {
   "cell_type": "code",
   "execution_count": 17,
   "metadata": {},
   "outputs": [
    {
     "ename": "NameError",
     "evalue": "name 'ica_data' is not defined",
     "output_type": "error",
     "traceback": [
      "\u001b[0;31m---------------------------------------------------------------------------\u001b[0m",
      "\u001b[0;31mNameError\u001b[0m                                 Traceback (most recent call last)",
      "\u001b[0;32m<ipython-input-17-2b568000de1e>\u001b[0m in \u001b[0;36m<module>\u001b[0;34m\u001b[0m\n\u001b[1;32m      1\u001b[0m \u001b[0mlinks\u001b[0m \u001b[0;34m=\u001b[0m \u001b[0mpd\u001b[0m\u001b[0;34m.\u001b[0m\u001b[0mread_csv\u001b[0m\u001b[0;34m(\u001b[0m\u001b[0;34m'../annotation/gene_links.csv'\u001b[0m\u001b[0;34m,\u001b[0m \u001b[0mindex_col\u001b[0m \u001b[0;34m=\u001b[0m \u001b[0;36m0\u001b[0m\u001b[0;34m,\u001b[0m \u001b[0mheader\u001b[0m\u001b[0;34m=\u001b[0m\u001b[0;32mNone\u001b[0m\u001b[0;34m)\u001b[0m\u001b[0;34m.\u001b[0m\u001b[0mto_dict\u001b[0m\u001b[0;34m(\u001b[0m\u001b[0;34m)\u001b[0m\u001b[0;34m[\u001b[0m\u001b[0;36m1\u001b[0m\u001b[0;34m]\u001b[0m\u001b[0;34m\u001b[0m\u001b[0;34m\u001b[0m\u001b[0m\n\u001b[0;32m----> 2\u001b[0;31m \u001b[0msample_meta\u001b[0m \u001b[0;34m=\u001b[0m \u001b[0mica_data\u001b[0m\u001b[0;34m.\u001b[0m\u001b[0mmetadata\u001b[0m\u001b[0;34m.\u001b[0m\u001b[0mreset_index\u001b[0m\u001b[0;34m(\u001b[0m\u001b[0;34m)\u001b[0m\u001b[0;34m\u001b[0m\u001b[0;34m\u001b[0m\u001b[0m\n\u001b[0m",
      "\u001b[0;31mNameError\u001b[0m: name 'ica_data' is not defined"
     ]
    }
   ],
   "source": [
    "links = pd.read_csv('../annotation/gene_links.csv', index_col = 0, header=None).to_dict()[1]\n",
    "sample_meta = ica_data.metadata.reset_index()"
   ]
  },
  {
   "cell_type": "code",
   "execution_count": null,
   "metadata": {},
   "outputs": [],
   "source": [
    "# this function currently works for bacillus, need to update for staph\n",
    "def tf_with_links(k, row):\n",
    "    tf_str = row.TF\n",
    "\n",
    "    if not(type(tf_str) == str):\n",
    "        return tf_str\n",
    "\n",
    "    # get a list of transcription factors\n",
    "    def convert_to_link(tf):\n",
    "        pre = 'http://subtiwiki.uni-goettingen.de/v3/gene/search/exact/'\n",
    "        link = pre + tf\n",
    "        return '<a href=\"' + link + '\" target=\"_blank\">'+ tf + '</a>'\n",
    "    \n",
    "    i = 0;\n",
    "    res = ''\n",
    "    while i < len(tf_str):\n",
    "        if tf_str[i] in '[ ]+/':\n",
    "            res += tf_str[i]\n",
    "            i += 1\n",
    "        else:\n",
    "            tf = tf_str[i:].partition(']')[0].partition(' ')[0]\n",
    "            res += convert_to_link(tf)\n",
    "            i += len(tf)\n",
    "    return res"
   ]
  },
  {
   "cell_type": "markdown",
   "metadata": {},
   "source": [
    "## Generate Files"
   ]
  },
  {
   "cell_type": "code",
   "execution_count": 18,
   "metadata": {},
   "outputs": [
    {
     "name": "stderr",
     "output_type": "stream",
     "text": [
      "/home/kevin/anaconda3/lib/python3.7/site-packages/ipykernel_launcher.py:6: FutureWarning: The signature of `Series.to_csv` was aligned to that of `DataFrame.to_csv`, and argument 'header' will change its default value from False to True: please pass an explicit value to suppress this warning.\n",
      "  \n"
     ]
    }
   ],
   "source": [
    "# dataset_meta: Stores information for the header of the dataset page\n",
    "dataset_meta = pd.Series({'Title':'<i>S. aureus</i> StaphPRECISE',\n",
    "                          'Organism': '<i>Staphylococcus aureus</i> USA 300',\n",
    "                          'Strain': 'TCH1516 and LAC',\n",
    "                          'Publication':'<a href=\"https://www.biorxiv.org/content/10.1101/2020.03.18.997296v1\">Poudel, et al., 2020</a>'})\n",
    "dataset_meta.to_csv('dataset_meta.csv')"
   ]
  },
  {
   "cell_type": "code",
   "execution_count": 20,
   "metadata": {},
   "outputs": [
    {
     "data": {
      "text/plain": [
       "array(['Carbon Source Utilization', 'Virulence', 'Uncharacterized',\n",
       "       'Amino Acid and Nucleotide Metabolism', 'Stress Response',\n",
       "       'Energy Metabolism', 'Biological Enrichment', 'Metal Homeostasis',\n",
       "       'Miscellaneous Metabolism', 'Structural Components',\n",
       "       'Mobile Elements'], dtype=object)"
      ]
     },
     "execution_count": 20,
     "metadata": {},
     "output_type": "execute_result"
    }
   ],
   "source": [
    "enrich.Category.unique()"
   ]
  },
  {
   "cell_type": "code",
   "execution_count": 25,
   "metadata": {},
   "outputs": [],
   "source": [
    "cat_order = ['Virulence',\n",
    "             'Carbon Source Utilization',\n",
    "             'Amino Acid and Nucleotide Metabolism',\n",
    "             'Energy Metabolism',\n",
    "             'Metal Homeostasis',\n",
    "             'Miscellaneous Metabolism',\n",
    "             'Structural Components',\n",
    "             'Stress Response',\n",
    "             'Biological Enrichment',\n",
    "             'Mobile Elements',\n",
    "             'Uncharacterized']\n",
    "cat_dict = {cat_order[i]:i for i in range(len(cat_order))}\n",
    "im_table = enrich[['name', 'Regulator', 'Function', 'Category', 'n_genes', 'precision', 'recall']]\n",
    "im_table = im_table.rename(columns={'name':'Name'})\n",
    "im_table.index.name = 'k'\n",
    "im_table['category_num'] = [cat_dict[im_table.Category[k]] for k in im_table.index]\n",
    "im_table.to_csv('iM_table.csv')"
   ]
  },
  {
   "cell_type": "code",
   "execution_count": null,
   "metadata": {},
   "outputs": [],
   "source": [
    "num_ims = im_table.shape[0]-1\n",
    "file = open('num_ims.txt', 'w')\n",
    "file.write(str(num_ims))\n",
    "file.close()"
   ]
  },
  {
   "cell_type": "code",
   "execution_count": null,
   "metadata": {},
   "outputs": [],
   "source": [
    "def make_directory(ica_data, k, row, links, sample_meta):\n",
    "    # generate the plot files\n",
    "    gene_table = gene_table_df(ica_data, k, row, links = links, operon_commas=False)\n",
    "    gene_hist = gene_hist_df(ica_data, k, row)\n",
    "    base_conds = ['M9exp_1', 'M9exp_2', 'M9exp_3']\n",
    "    gene_scatter = gene_scatter_df(ica_data, k, base_conds, links)\n",
    "    act_bar = activity_bar_df(ica_data, k, sample_meta)\n",
    "\n",
    "    reg_venn = regulon_venn_df(ica_data, k, row)\n",
    "    reg_scatter = regulon_scatter_df(ica_data, k, row)\n",
    "\n",
    "    # generate a basic data df\n",
    "    res = pd.Series(index=['name', 'TF', 'Regulator',\n",
    "                           'Function', 'Category', \n",
    "                           'has_venn', 'scatter', 'has_meme'])\n",
    "    res.loc['name'] = row.loc['name']\n",
    "    res.loc['TF'] = row.TF\n",
    "    res.loc['Regulator'] = tf_with_links(k, row)\n",
    "    res.loc['Function'] = row.Function\n",
    "    res.loc['Category'] = row.Category\n",
    "    res.loc['has_venn'] = not(reg_venn is None)\n",
    "    if reg_scatter is None:\n",
    "        res.loc['scatter'] = 0\n",
    "    else:\n",
    "        res.loc['scatter'] = reg_scatter.shape[1] - 1\n",
    "    res.loc['has_meme'] = False # update later\n",
    "    # may also want to add the stats from enrich\n",
    "\n",
    "    # save output\n",
    "    folder = 'iModulon_files/'+str(k)+'/'\n",
    "    if not(os.path.isdir(folder)):\n",
    "        os.mkdir(folder)\n",
    "    res.to_csv(folder+str(k)+'_meta.csv')\n",
    "    gene_table.to_csv(folder+str(k)+'_gene_table.csv')\n",
    "    gene_hist.to_csv(folder+str(k)+'_gene_hist.csv')\n",
    "    gene_scatter.to_csv(folder+str(k)+'_gene_scatter.csv')\n",
    "    act_bar.to_csv(folder+str(k)+'_activity_bar.csv')\n",
    "    if not(reg_venn is None):\n",
    "        reg_venn.to_csv(folder+str(k)+'_reg_venn.csv')\n",
    "    if not(reg_scatter is None):\n",
    "        reg_scatter.to_csv(folder+str(k)+'_reg_scatter.csv')\n",
    "    ica_data.S[k].to_csv(folder+str(k)+'_gene_weights.csv')\n",
    "    ica_data.A.loc[k].to_csv(folder+str(k)+'_activity.csv')"
   ]
  },
  {
   "cell_type": "code",
   "execution_count": null,
   "metadata": {},
   "outputs": [],
   "source": [
    "for k, row in enrich.iterrows():\n",
    "    make_directory(ica_data, k, row, links, sample_meta)"
   ]
  }
 ],
 "metadata": {
  "kernelspec": {
   "display_name": "Python 3",
   "language": "python",
   "name": "python3"
  },
  "language_info": {
   "codemirror_mode": {
    "name": "ipython",
    "version": 3
   },
   "file_extension": ".py",
   "mimetype": "text/x-python",
   "name": "python",
   "nbconvert_exporter": "python",
   "pygments_lexer": "ipython3",
   "version": "3.7.4"
  }
 },
 "nbformat": 4,
 "nbformat_minor": 2
}
