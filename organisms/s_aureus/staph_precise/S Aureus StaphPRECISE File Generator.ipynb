{
 "cells": [
  {
   "cell_type": "markdown",
   "metadata": {},
   "source": [
    "# StaphPRECISE File Generator\n",
    "\n",
    "This notebook generates all files for the Modulytics web page of Staph aureus, based on ICA of StaphPRECISE."
   ]
  },
  {
   "cell_type": "code",
   "execution_count": 1,
   "metadata": {
    "scrolled": false
   },
   "outputs": [
    {
     "name": "stderr",
     "output_type": "stream",
     "text": [
      "../../../../ica/icaviz/load.py:344 \u001b[1;31mUserWarning\u001b[0m: Genes missing annotations: LAC_H_00012, LAC_H_00018, LAC_H_00201, LAC_H_00210, LAC_H_00215, LAC_H_00216, LAC_H_00237, LAC_H_00238, LAC_H_00303, LAC_H_00304, LAC_H_00448, LAC_H_00507, LAC_H_00563, LAC_H_00606, LAC_H_00645, LAC_H_01013, LAC_H_01308, LAC_H_01365, LAC_H_01559, LAC_H_01570, LAC_H_01575, LAC_H_01687, LAC_H_01688, LAC_H_01807, LAC_H_01829, LAC_H_01830, LAC_H_01836, LAC_H_01887, LAC_H_01907, LAC_H_01918, LAC_H_01926, LAC_H_01941, LAC_H_01958, LAC_H_02127, LAC_H_02204, LAC_H_02205, LAC_H_02206, LAC_H_02207, LAC_H_02216, LAC_H_02217, LAC_H_02499, LAC_H_02500, LAC_H_02514, LAC_H_02515, LAC_H_02543, LAC_H_02544, LAC_H_02591, LAC_H_02662, LAC_H_02694, LAC_H_02703, LAC_H_02721, LAC_H_02722, USA300HOU_RS00065, USA300HOU_RS00175, USA300HOU_RS00190, USA300HOU_RS00210, USA300HOU_RS00215, USA300HOU_RS00220, USA300HOU_RS00230, USA300HOU_RS00240, USA300HOU_RS00245, USA300HOU_RS00250, USA300HOU_RS00255, USA300HOU_RS00260, USA300HOU_RS00265, USA300HOU_RS00270, USA300HOU_RS00280, USA300HOU_RS00295, USA300HOU_RS00300, USA300HOU_RS00305, USA300HOU_RS00315, USA300HOU_RS00330, USA300HOU_RS00335, USA300HOU_RS00355, USA300HOU_RS00360, USA300HOU_RS00370, USA300HOU_RS00375, USA300HOU_RS00380, USA300HOU_RS00385, USA300HOU_RS00410, USA300HOU_RS00415, USA300HOU_RS00430, USA300HOU_RS00440, USA300HOU_RS00460, USA300HOU_RS00475, USA300HOU_RS00485, USA300HOU_RS00490, USA300HOU_RS00495, USA300HOU_RS00500, USA300HOU_RS00505, USA300HOU_RS00515, USA300HOU_RS00520, USA300HOU_RS00525, USA300HOU_RS00530, USA300HOU_RS00535, USA300HOU_RS00560, USA300HOU_RS00570, USA300HOU_RS00575, USA300HOU_RS00655, USA300HOU_RS00660, USA300HOU_RS00685, USA300HOU_RS00695, USA300HOU_RS00705, USA300HOU_RS00760, USA300HOU_RS00775, USA300HOU_RS00780, USA300HOU_RS00785, USA300HOU_RS00815, USA300HOU_RS00830, USA300HOU_RS00885, USA300HOU_RS00900, USA300HOU_RS00915, USA300HOU_RS00925, USA300HOU_RS00930, USA300HOU_RS00945, USA300HOU_RS00955, USA300HOU_RS01005, USA300HOU_RS01020, USA300HOU_RS01025, USA300HOU_RS01035, USA300HOU_RS01040, USA300HOU_RS01045, USA300HOU_RS01075, USA300HOU_RS01115, USA300HOU_RS01120, USA300HOU_RS01125, USA300HOU_RS01135, USA300HOU_RS01140, USA300HOU_RS01145, USA300HOU_RS01160, USA300HOU_RS01170, USA300HOU_RS01175, USA300HOU_RS01215, USA300HOU_RS01230, USA300HOU_RS01235, USA300HOU_RS01270, USA300HOU_RS01275, USA300HOU_RS01280, USA300HOU_RS01310, USA300HOU_RS01315, USA300HOU_RS01330, USA300HOU_RS01335, USA300HOU_RS01340, USA300HOU_RS01390, USA300HOU_RS01425, USA300HOU_RS01430, USA300HOU_RS01435, USA300HOU_RS01450, USA300HOU_RS01455, USA300HOU_RS01460, USA300HOU_RS01465, USA300HOU_RS01470, USA300HOU_RS01475, USA300HOU_RS01480, USA300HOU_RS01495, USA300HOU_RS01515, USA300HOU_RS01520, USA300HOU_RS01525, USA300HOU_RS01530, USA300HOU_RS01535, USA300HOU_RS01540, USA300HOU_RS01545, USA300HOU_RS01550, USA300HOU_RS01555, USA300HOU_RS01560, USA300HOU_RS01565, USA300HOU_RS01570, USA300HOU_RS01575, USA300HOU_RS01580, USA300HOU_RS01585, USA300HOU_RS01590, USA300HOU_RS01595, USA300HOU_RS01600, USA300HOU_RS01605, USA300HOU_RS01610, USA300HOU_RS01615, USA300HOU_RS01620, USA300HOU_RS01640, USA300HOU_RS01685, USA300HOU_RS01695, USA300HOU_RS01705, USA300HOU_RS01710, USA300HOU_RS01725, USA300HOU_RS01745, USA300HOU_RS01760, USA300HOU_RS01765, USA300HOU_RS01790, USA300HOU_RS01795, USA300HOU_RS01800, USA300HOU_RS01810, USA300HOU_RS01830, USA300HOU_RS01845, USA300HOU_RS01850, USA300HOU_RS01855, USA300HOU_RS01860, USA300HOU_RS01865, USA300HOU_RS01885, USA300HOU_RS01930, USA300HOU_RS01950, USA300HOU_RS01960, USA300HOU_RS01965, USA300HOU_RS01970, USA300HOU_RS01975, USA300HOU_RS01980, USA300HOU_RS01985, USA300HOU_RS01990, USA300HOU_RS02000, USA300HOU_RS02005, USA300HOU_RS02010, USA300HOU_RS02030, USA300HOU_RS02040, USA300HOU_RS02050, USA300HOU_RS02075, USA300HOU_RS02080, USA300HOU_RS02085, USA300HOU_RS02090, USA300HOU_RS02100, USA300HOU_RS02105, USA300HOU_RS02110, USA300HOU_RS02115, USA300HOU_RS02125, USA300HOU_RS02130, USA300HOU_RS02140, USA300HOU_RS02145, USA300HOU_RS02150, USA300HOU_RS02155, USA300HOU_RS02160, USA300HOU_RS02170, USA300HOU_RS02180, USA300HOU_RS02185, USA300HOU_RS02190, USA300HOU_RS02195, USA300HOU_RS02200, USA300HOU_RS02205, USA300HOU_RS02210, USA300HOU_RS02215, USA300HOU_RS02220, USA300HOU_RS02225, USA300HOU_RS02230, USA300HOU_RS02235, USA300HOU_RS02240, USA300HOU_RS02245, USA300HOU_RS02250, USA300HOU_RS02255, USA300HOU_RS02260, USA300HOU_RS02280, USA300HOU_RS02285, USA300HOU_RS02295, USA300HOU_RS02300, USA300HOU_RS02310, USA300HOU_RS02330, USA300HOU_RS02345, USA300HOU_RS02350, USA300HOU_RS02410, USA300HOU_RS02565, USA300HOU_RS02725, USA300HOU_RS02860, USA300HOU_RS02965, USA300HOU_RS02975, USA300HOU_RS02980, USA300HOU_RS03000, USA300HOU_RS03020, USA300HOU_RS03025, USA300HOU_RS03030, USA300HOU_RS03045, USA300HOU_RS03055, USA300HOU_RS03060, USA300HOU_RS03065, USA300HOU_RS03100, USA300HOU_RS03110, USA300HOU_RS03120, USA300HOU_RS03125, USA300HOU_RS03130, USA300HOU_RS03135, USA300HOU_RS03140, USA300HOU_RS03150, USA300HOU_RS03155, USA300HOU_RS03160, USA300HOU_RS03165, USA300HOU_RS03170, USA300HOU_RS03175, USA300HOU_RS03180, USA300HOU_RS03185, USA300HOU_RS03195, USA300HOU_RS03200, USA300HOU_RS03225, USA300HOU_RS03255, USA300HOU_RS03260, USA300HOU_RS03265, USA300HOU_RS03270, USA300HOU_RS03280, USA300HOU_RS03295, USA300HOU_RS03300, USA300HOU_RS03305, USA300HOU_RS03310, USA300HOU_RS03315, USA300HOU_RS03320, USA300HOU_RS03325, USA300HOU_RS03330, USA300HOU_RS03335, USA300HOU_RS03340, USA300HOU_RS03345, USA300HOU_RS03350, USA300HOU_RS03355, USA300HOU_RS03360, USA300HOU_RS03365, USA300HOU_RS03370, USA300HOU_RS03375, USA300HOU_RS03415, USA300HOU_RS03440, USA300HOU_RS03495, USA300HOU_RS03530, USA300HOU_RS03550, USA300HOU_RS03555, USA300HOU_RS03605, USA300HOU_RS03630, USA300HOU_RS03635, USA300HOU_RS03645, USA300HOU_RS03660, USA300HOU_RS03665, USA300HOU_RS03670, USA300HOU_RS03675, USA300HOU_RS03690, USA300HOU_RS03715, USA300HOU_RS03725, USA300HOU_RS03730, USA300HOU_RS03740, USA300HOU_RS03745, USA300HOU_RS03750, USA300HOU_RS03760, USA300HOU_RS03800, USA300HOU_RS03820, USA300HOU_RS03825, USA300HOU_RS03830, USA300HOU_RS03840, USA300HOU_RS03865, USA300HOU_RS03870, USA300HOU_RS03875, USA300HOU_RS03915, USA300HOU_RS03920, USA300HOU_RS03940, USA300HOU_RS03990, USA300HOU_RS04000, USA300HOU_RS04005, USA300HOU_RS04025, USA300HOU_RS04030, USA300HOU_RS04090, USA300HOU_RS04095, USA300HOU_RS04175, USA300HOU_RS04210, USA300HOU_RS04235, USA300HOU_RS04240, USA300HOU_RS04245, USA300HOU_RS04250, USA300HOU_RS04260, USA300HOU_RS04275, USA300HOU_RS04280, USA300HOU_RS04285, USA300HOU_RS04300, USA300HOU_RS04305, USA300HOU_RS04310, USA300HOU_RS04315, USA300HOU_RS04320, USA300HOU_RS04325, USA300HOU_RS04330, USA300HOU_RS04335, USA300HOU_RS04360, USA300HOU_RS04400, USA300HOU_RS04420, USA300HOU_RS04425, USA300HOU_RS04430, USA300HOU_RS04435, USA300HOU_RS04440, USA300HOU_RS04450, USA300HOU_RS04455, USA300HOU_RS04460, USA300HOU_RS04465, USA300HOU_RS04470, USA300HOU_RS04475, USA300HOU_RS04480, USA300HOU_RS04485, USA300HOU_RS04490, USA300HOU_RS04495, USA300HOU_RS04500, USA300HOU_RS04505, USA300HOU_RS04510, USA300HOU_RS04545, USA300HOU_RS04550, USA300HOU_RS04570, USA300HOU_RS04590, USA300HOU_RS04595, USA300HOU_RS04615, USA300HOU_RS04645, USA300HOU_RS04650, USA300HOU_RS04685, USA300HOU_RS04780, USA300HOU_RS04810, USA300HOU_RS04830, USA300HOU_RS04840, USA300HOU_RS04850, USA300HOU_RS04855, USA300HOU_RS04865, USA300HOU_RS04870, USA300HOU_RS04885, USA300HOU_RS04980, USA300HOU_RS05015, USA300HOU_RS05025, USA300HOU_RS05050, USA300HOU_RS05095, USA300HOU_RS05105, USA300HOU_RS05115, USA300HOU_RS05125, USA300HOU_RS05130, USA300HOU_RS05145, USA300HOU_RS05155, USA300HOU_RS05160, USA300HOU_RS05165, USA300HOU_RS05170, USA300HOU_RS05175, USA300HOU_RS05205, USA300HOU_RS05230, USA300HOU_RS05250, USA300HOU_RS05355, USA300HOU_RS05375, USA300HOU_RS05380, USA300HOU_RS05390, USA300HOU_RS05425, USA300HOU_RS05435, USA300HOU_RS05440, USA300HOU_RS05450, USA300HOU_RS05505, USA300HOU_RS05510, USA300HOU_RS05520, USA300HOU_RS05530, USA300HOU_RS05545, USA300HOU_RS05575, USA300HOU_RS05580, USA300HOU_RS05585, USA300HOU_RS05595, USA300HOU_RS05605, USA300HOU_RS05630, USA300HOU_RS05640, USA300HOU_RS05655, USA300HOU_RS05705, USA300HOU_RS05775, USA300HOU_RS05785, USA300HOU_RS05790, USA300HOU_RS05795, USA300HOU_RS05800, USA300HOU_RS05810, USA300HOU_RS05815, USA300HOU_RS05820, USA300HOU_RS05830, USA300HOU_RS05835, USA300HOU_RS05840, USA300HOU_RS05845, USA300HOU_RS05850, USA300HOU_RS05855, USA300HOU_RS05875, USA300HOU_RS05885, USA300HOU_RS05895, USA300HOU_RS05900, USA300HOU_RS05910, USA300HOU_RS06000, USA300HOU_RS06005, USA300HOU_RS06065, USA300HOU_RS06095, USA300HOU_RS06440, USA300HOU_RS06455, USA300HOU_RS06460, USA300HOU_RS06485, USA300HOU_RS06505, USA300HOU_RS06515, USA300HOU_RS06595, USA300HOU_RS06600, USA300HOU_RS06605, USA300HOU_RS06615, USA300HOU_RS06630, USA300HOU_RS06635, USA300HOU_RS06640, USA300HOU_RS06660, USA300HOU_RS06670, USA300HOU_RS06675, USA300HOU_RS06680, USA300HOU_RS06685, USA300HOU_RS06695, USA300HOU_RS06725, USA300HOU_RS06735, USA300HOU_RS06740, USA300HOU_RS06770, USA300HOU_RS06780, USA300HOU_RS06810, USA300HOU_RS06820, USA300HOU_RS06825, USA300HOU_RS06880, USA300HOU_RS06915, USA300HOU_RS06920, USA300HOU_RS07005, USA300HOU_RS07010, USA300HOU_RS07035, USA300HOU_RS07040, USA300HOU_RS07135, USA300HOU_RS07150, USA300HOU_RS07230, USA300HOU_RS07235, USA300HOU_RS07240, USA300HOU_RS07310, USA300HOU_RS07315, USA300HOU_RS07320, USA300HOU_RS07375, USA300HOU_RS07385, USA300HOU_RS07405, USA300HOU_RS07425, USA300HOU_RS07470, USA300HOU_RS07475, USA300HOU_RS07480, USA300HOU_RS07505, USA300HOU_RS07525, USA300HOU_RS07620, USA300HOU_RS07625, USA300HOU_RS07630, USA300HOU_RS07635, USA300HOU_RS07640, USA300HOU_RS07655, USA300HOU_RS07660, USA300HOU_RS07665, USA300HOU_RS07670, USA300HOU_RS07675, USA300HOU_RS07680, USA300HOU_RS07685, USA300HOU_RS07690, USA300HOU_RS07695, USA300HOU_RS07700, USA300HOU_RS07705, USA300HOU_RS07715, USA300HOU_RS07720, USA300HOU_RS07725, USA300HOU_RS07730, USA300HOU_RS07735, USA300HOU_RS07740, USA300HOU_RS07745, USA300HOU_RS07750, USA300HOU_RS07760, USA300HOU_RS07770, USA300HOU_RS07775, USA300HOU_RS07780, USA300HOU_RS07785, USA300HOU_RS07790, USA300HOU_RS07800, USA300HOU_RS07805, USA300HOU_RS07815, USA300HOU_RS07820, USA300HOU_RS07825, USA300HOU_RS07830, USA300HOU_RS07835, USA300HOU_RS07840, USA300HOU_RS07845, USA300HOU_RS07855, USA300HOU_RS07860, USA300HOU_RS07870, USA300HOU_RS07875, USA300HOU_RS07880, USA300HOU_RS07885, USA300HOU_RS07890, USA300HOU_RS07895, USA300HOU_RS07900, USA300HOU_RS07910, USA300HOU_RS07920, USA300HOU_RS07930, USA300HOU_RS07935, USA300HOU_RS07940, USA300HOU_RS07945, USA300HOU_RS07950, USA300HOU_RS07955, USA300HOU_RS07960, USA300HOU_RS07970, USA300HOU_RS08000, USA300HOU_RS08025, USA300HOU_RS08030, USA300HOU_RS08070, USA300HOU_RS08085, USA300HOU_RS08150, USA300HOU_RS08175, USA300HOU_RS08180, USA300HOU_RS08225, USA300HOU_RS08255, USA300HOU_RS08265, USA300HOU_RS08385, USA300HOU_RS08530, USA300HOU_RS08535, USA300HOU_RS08540, USA300HOU_RS08600, USA300HOU_RS08625, USA300HOU_RS08645, USA300HOU_RS08650, USA300HOU_RS08670, USA300HOU_RS08755, USA300HOU_RS08775, USA300HOU_RS08780, USA300HOU_RS08785, USA300HOU_RS08880, USA300HOU_RS08885, USA300HOU_RS08920, USA300HOU_RS08960, USA300HOU_RS08975, USA300HOU_RS09090, USA300HOU_RS09125, USA300HOU_RS09155, USA300HOU_RS09170, USA300HOU_RS09180, USA300HOU_RS09190, USA300HOU_RS09235, USA300HOU_RS09260, USA300HOU_RS09305, USA300HOU_RS09315, USA300HOU_RS09325, USA300HOU_RS09365, USA300HOU_RS09370, USA300HOU_RS09405, USA300HOU_RS09430, USA300HOU_RS09445, USA300HOU_RS09450, USA300HOU_RS09460, USA300HOU_RS09490, USA300HOU_RS09505, USA300HOU_RS09510, USA300HOU_RS09535, USA300HOU_RS09540, USA300HOU_RS09545, USA300HOU_RS09550, USA300HOU_RS09555, USA300HOU_RS09560, USA300HOU_RS09565, USA300HOU_RS09570, USA300HOU_RS09575, USA300HOU_RS09580, USA300HOU_RS09585, USA300HOU_RS09590, USA300HOU_RS09600, USA300HOU_RS09605, USA300HOU_RS09620, USA300HOU_RS09665, USA300HOU_RS09685, USA300HOU_RS09705, USA300HOU_RS09710, USA300HOU_RS09725, USA300HOU_RS09730, USA300HOU_RS09775, USA300HOU_RS09780, USA300HOU_RS09830, USA300HOU_RS09865, USA300HOU_RS09870, USA300HOU_RS09895, USA300HOU_RS09900, USA300HOU_RS09905, USA300HOU_RS09910, USA300HOU_RS09940, USA300HOU_RS10150, USA300HOU_RS10155, USA300HOU_RS10160, USA300HOU_RS10180, USA300HOU_RS10210, USA300HOU_RS10235, USA300HOU_RS10250, USA300HOU_RS10255, USA300HOU_RS10295, USA300HOU_RS10370, USA300HOU_RS10375, USA300HOU_RS10380, USA300HOU_RS10415, USA300HOU_RS10445, USA300HOU_RS10450, USA300HOU_RS10455, USA300HOU_RS10460, USA300HOU_RS10465, USA300HOU_RS10470, USA300HOU_RS10475, USA300HOU_RS10480, USA300HOU_RS10485, USA300HOU_RS10490, USA300HOU_RS10495, USA300HOU_RS10500, USA300HOU_RS10505, USA300HOU_RS10510, USA300HOU_RS10520, USA300HOU_RS10525, USA300HOU_RS10535, USA300HOU_RS10545, USA300HOU_RS10550, USA300HOU_RS10555, USA300HOU_RS10560, USA300HOU_RS10575, USA300HOU_RS10590, USA300HOU_RS10595, USA300HOU_RS10600, USA300HOU_RS10605, USA300HOU_RS10610, USA300HOU_RS10615, USA300HOU_RS10625, USA300HOU_RS10630, USA300HOU_RS10635, USA300HOU_RS10640, USA300HOU_RS10645, USA300HOU_RS10650, USA300HOU_RS10655, USA300HOU_RS10660, USA300HOU_RS10665, USA300HOU_RS10670, USA300HOU_RS10675, USA300HOU_RS10680, USA300HOU_RS10685, USA300HOU_RS10690, USA300HOU_RS10695, USA300HOU_RS10700, USA300HOU_RS10705, USA300HOU_RS10710, USA300HOU_RS10715, USA300HOU_RS10725, USA300HOU_RS10730, USA300HOU_RS10735, USA300HOU_RS10740, USA300HOU_RS10745, USA300HOU_RS10755, USA300HOU_RS10760, USA300HOU_RS10765, USA300HOU_RS10770, USA300HOU_RS10780, USA300HOU_RS10785, USA300HOU_RS10790, USA300HOU_RS10795, USA300HOU_RS10800, USA300HOU_RS10805, USA300HOU_RS10810, USA300HOU_RS10815, USA300HOU_RS10820, USA300HOU_RS10835, USA300HOU_RS10840, USA300HOU_RS10845, USA300HOU_RS10850, USA300HOU_RS10855, USA300HOU_RS10900, USA300HOU_RS10905, USA300HOU_RS10910, USA300HOU_RS10915, USA300HOU_RS10940, USA300HOU_RS10945, USA300HOU_RS10955, USA300HOU_RS10965, USA300HOU_RS11030, USA300HOU_RS11175, USA300HOU_RS11200, USA300HOU_RS11255, USA300HOU_RS11260, USA300HOU_RS11325, USA300HOU_RS11345, USA300HOU_RS11395, USA300HOU_RS11475, USA300HOU_RS11505, USA300HOU_RS11510, USA300HOU_RS11525, USA300HOU_RS11560, USA300HOU_RS11565, USA300HOU_RS11575, USA300HOU_RS11590, USA300HOU_RS11595, USA300HOU_RS11600, USA300HOU_RS11605, USA300HOU_RS11615, USA300HOU_RS11650, USA300HOU_RS11675, USA300HOU_RS11725, USA300HOU_RS11740, USA300HOU_RS11745, USA300HOU_RS11765, USA300HOU_RS11770, USA300HOU_RS11775, USA300HOU_RS11780, USA300HOU_RS11795, USA300HOU_RS11800, USA300HOU_RS11810, USA300HOU_RS11835, USA300HOU_RS11840, USA300HOU_RS11860, USA300HOU_RS11915, USA300HOU_RS11935, USA300HOU_RS11945, USA300HOU_RS11950, USA300HOU_RS11955, USA300HOU_RS11970, USA300HOU_RS11975, USA300HOU_RS11980, USA300HOU_RS11985, USA300HOU_RS11990, USA300HOU_RS11995, USA300HOU_RS12000, USA300HOU_RS12185, USA300HOU_RS12205, USA300HOU_RS12220, USA300HOU_RS12225, USA300HOU_RS12230, USA300HOU_RS12245, USA300HOU_RS12250, USA300HOU_RS12255, USA300HOU_RS12260, USA300HOU_RS12265, USA300HOU_RS12350, USA300HOU_RS12415, USA300HOU_RS12425, USA300HOU_RS12430, USA300HOU_RS12445, USA300HOU_RS12460, USA300HOU_RS12465, USA300HOU_RS12470, USA300HOU_RS12480, USA300HOU_RS12490, USA300HOU_RS12495, USA300HOU_RS12500, USA300HOU_RS12515, USA300HOU_RS12520, USA300HOU_RS12525, USA300HOU_RS12530, USA300HOU_RS12545, USA300HOU_RS12550, USA300HOU_RS12555, USA300HOU_RS12570, USA300HOU_RS12585, USA300HOU_RS12590, USA300HOU_RS12595, USA300HOU_RS12620, USA300HOU_RS12700, USA300HOU_RS12705, USA300HOU_RS12710, USA300HOU_RS12715, USA300HOU_RS12730, USA300HOU_RS12750, USA300HOU_RS12760, USA300HOU_RS12765, USA300HOU_RS12790, USA300HOU_RS12795, USA300HOU_RS12810, USA300HOU_RS12815, USA300HOU_RS12820, USA300HOU_RS12845, USA300HOU_RS12855, USA300HOU_RS12860, USA300HOU_RS12875, USA300HOU_RS12880, USA300HOU_RS12890, USA300HOU_RS12900, USA300HOU_RS12920, USA300HOU_RS12925, USA300HOU_RS12985, USA300HOU_RS12995, USA300HOU_RS13000, USA300HOU_RS13030, USA300HOU_RS13055, USA300HOU_RS13060, USA300HOU_RS13065, USA300HOU_RS13110, USA300HOU_RS13150, USA300HOU_RS13155, USA300HOU_RS13165, USA300HOU_RS13170, USA300HOU_RS13180, USA300HOU_RS13190, USA300HOU_RS13195, USA300HOU_RS13205, USA300HOU_RS13210, USA300HOU_RS13235, USA300HOU_RS13250, USA300HOU_RS13320, USA300HOU_RS13325, USA300HOU_RS13330, USA300HOU_RS13335, USA300HOU_RS13345, USA300HOU_RS13350, USA300HOU_RS13380, USA300HOU_RS13385, USA300HOU_RS13395, USA300HOU_RS13410, USA300HOU_RS13415, USA300HOU_RS13420, USA300HOU_RS13425, USA300HOU_RS13430, USA300HOU_RS13435, USA300HOU_RS13440, USA300HOU_RS13445, USA300HOU_RS13450, USA300HOU_RS13455, USA300HOU_RS13460, USA300HOU_RS13465, USA300HOU_RS13475, USA300HOU_RS13480, USA300HOU_RS13485, USA300HOU_RS13490, USA300HOU_RS13505, USA300HOU_RS13510, USA300HOU_RS13515, USA300HOU_RS13520, USA300HOU_RS13550, USA300HOU_RS13585, USA300HOU_RS13600, USA300HOU_RS13605, USA300HOU_RS13645, USA300HOU_RS13650, USA300HOU_RS13660, USA300HOU_RS13665, USA300HOU_RS13670, USA300HOU_RS13695, USA300HOU_RS13700, USA300HOU_RS13715, USA300HOU_RS13735, USA300HOU_RS13740, USA300HOU_RS13760, USA300HOU_RS13790, USA300HOU_RS13810, USA300HOU_RS13835, USA300HOU_RS13850, USA300HOU_RS13855, USA300HOU_RS13860, USA300HOU_RS13875, USA300HOU_RS13890, USA300HOU_RS13925, USA300HOU_RS13935, USA300HOU_RS13955, USA300HOU_RS13970, USA300HOU_RS13975, USA300HOU_RS13980, USA300HOU_RS13985, USA300HOU_RS13990, USA300HOU_RS13995, USA300HOU_RS14000, USA300HOU_RS14005, USA300HOU_RS14010, USA300HOU_RS14015, USA300HOU_RS14020, USA300HOU_RS14025, USA300HOU_RS14030, USA300HOU_RS14045, USA300HOU_RS14055, USA300HOU_RS14060, USA300HOU_RS14070, USA300HOU_RS14120, USA300HOU_RS14135, USA300HOU_RS14145, USA300HOU_RS14150, USA300HOU_RS14170, USA300HOU_RS14175, USA300HOU_RS14230, USA300HOU_RS14235, USA300HOU_RS14250, USA300HOU_RS14270, USA300HOU_RS14285, USA300HOU_RS14340, USA300HOU_RS14345, USA300HOU_RS14350, USA300HOU_RS14375, USA300HOU_RS14380, USA300HOU_RS14425, USA300HOU_RS14430, USA300HOU_RS14435, USA300HOU_RS14440, USA300HOU_RS14455, USA300HOU_RS14485, USA300HOU_RS14555, USA300HOU_RS14560, USA300HOU_RS14575, USA300HOU_RS14580, USA300HOU_RS14605, USA300HOU_RS14615, USA300HOU_RS14630, USA300HOU_RS14645, USA300HOU_RS14660, USA300HOU_RS14665, USA300HOU_RS14670, USA300HOU_RS14675, USA300HOU_RS14685, USA300HOU_RS14690, USA300HOU_RS14695, USA300HOU_RS14730, USA300HOU_RS14735, USA300HOU_RS14740, USA300HOU_RS14755, USA300HOU_RS14760, USA300HOU_RS14770, USA300HOU_RS14780, USA300HOU_RS14785, USA300HOU_RS14790, USA300HOU_RS14820, USA300HOU_RS14840, USA300HOU_RS14855, USA300HOU_RS14860, USA300HOU_RS14865, USA300HOU_RS14870, USA300HOU_RS14875, USA300HOU_RS14885, USA300HOU_RS14890, USA300HOU_RS14895, USA300HOU_RS14900, USA300HOU_RS14920, USA300HOU_RS14925, USA300HOU_RS14930, USA300HOU_RS14935, USA300HOU_RS14945, USA300HOU_RS14960, USA300HOU_RS14970, USA300HOU_RS14975, USA300HOU_RS14980, USA300HOU_RS14985, USA300HOU_RS14990, USA300HOU_RS14995, USA300HOU_RS15005, USA300HOU_RS15020, USA300HOU_RS15030, USA300HOU_RS15035, USA300HOU_RS15040, USA300HOU_RS15055, USA300HOU_RS15065, USA300HOU_RS15070, USA300HOU_RS15080, USA300HOU_RS15090, USA300HOU_RS15095, USA300HOU_RS15100, USA300HOU_RS15105, USA300HOU_RS15135, USA300HOU_RS15155, USA300HOU_RS15160, USA300HOU_RS15180, USA300HOU_RS15185, USA300HOU_RS15190, USA300HOU_RS15225, USA300HOU_RS15230, USA300HOU_RS15235, USA300HOU_RS15240, USA300HOU_RS15255, USA300HOU_RS15270, USA300HOU_RS15275, USA300HOU_RS15285, USA300HOU_RS15290, USA300HOU_RS15295, USA300HOU_RS15300, USA300HOU_RS15305, USA300HOU_RS15315, USA300HOU_RS15320, USA300HOU_RS15325, USA300HOU_RS15345, USA300HOU_RS15350, USA300HOU_RS15355, USA300HOU_RS15360, USA300HOU_RS15365, USA300HOU_RS15370, USA300HOU_RS15380, USA300HOU_RS15390, USA300HOU_RS15395, USA300HOU_RS15410, USA300HOU_RS15425, USA300HOU_RS15430, USA300HOU_RS15435, USA300HOU_RS15440, USA300HOU_RS15445, USA300HOU_RS15450, USA300HOU_RS15455, USA300HOU_RS15460, USA300HOU_RS15475, USA300HOU_RS15485, USA300HOU_RS15490, USA300HOU_RS15505, USA300HOU_RS15510, USA300HOU_RS15530, USA300HOU_RS15540, USA300HOU_RS15580, USA300HOU_RS15595, USA300HOU_RS15600, USA300HOU_RS15610, USA300HOU_RS15630, USA300HOU_RS15635, USA300HOU_RS15640, USA300HOU_RS15645, USA300HOU_RS15650, USA300HOU_RS15655, USA300HOU_RS15660, USA300HOU_RS15665\n"
     ]
    }
   ],
   "source": [
    "import sys\n",
    "# be sure that this point to a clone of github.com/SBRG/ICA\n",
    "sys.path.append('../../../../ica/')\n",
    "from icaviz.plotting import *\n",
    "DATA_DIR = 'data_files/'\n",
    "GENE_DIR = '../annotation/gene_files/'\n",
    "enrich = pd.read_csv(DATA_DIR + 'curated_enrichments.csv', index_col=0)\n",
    "names = enrich['name'].tolist()\n",
    "ica_data = load_data(X=DATA_DIR+'log_tpm.csv',\n",
    "                     S=DATA_DIR+'M.csv',\n",
    "                     A=DATA_DIR+'A.csv',\n",
    "                     metadata='sample_metadata.csv',\n",
    "                     annotation=GENE_DIR+'gene_info.csv',\n",
    "                     trn=GENE_DIR+'TRN.csv',\n",
    "                     cutoff=280, \n",
    "                     organism='saureus')\n",
    "pd.set_option('display.max_rows', None)"
   ]
  },
  {
   "cell_type": "code",
   "execution_count": 2,
   "metadata": {},
   "outputs": [],
   "source": [
    "for g in ica_data.S.index:\n",
    "    if not(g in ica_data.name2num.keys()):\n",
    "        ica_data.num2name[g] = g"
   ]
  },
  {
   "cell_type": "code",
   "execution_count": 3,
   "metadata": {
    "scrolled": true
   },
   "outputs": [],
   "source": [
    "# fill in biological replicates column\n",
    "ica_data.metadata = ica_data.metadata.rename(columns = {'Biological Replicates':'rep_id'})\n",
    "\n",
    "for name, group in ica_data.metadata.groupby(['project_id','condition_id']):\n",
    "    num_reps = group.shape[0]\n",
    "    #display(group)\n",
    "    ica_data.metadata.loc[group.index, 'Biological Replicates'] = [int(num_reps)]*num_reps\n",
    "ica_data.metadata['Biological Replicates'] = ica_data.metadata['Biological Replicates'].astype(int)"
   ]
  },
  {
   "cell_type": "code",
   "execution_count": 24,
   "metadata": {},
   "outputs": [],
   "source": [
    "# get functions from py files\n",
    "sys.path.append('../../../py')\n",
    "from gene_table import *\n",
    "from gene_histogram import *\n",
    "from gene_scatter import *\n",
    "from activity_bar import *\n",
    "from regulon_venn import *\n",
    "from regulon_scatter import *\n",
    "\n",
    "# gene dashboards\n",
    "from gene_activity_bar import *\n",
    "\n",
    "import os"
   ]
  },
  {
   "cell_type": "code",
   "execution_count": 14,
   "metadata": {},
   "outputs": [],
   "source": [
    "# read in other necessary annotation files\n",
    "links = pd.read_csv('../annotation/gene_links.csv', index_col = 3)['link'].to_dict()\n",
    "sample_meta = ica_data.metadata.reset_index()\n",
    "gene_info = pd.read_csv(GENE_DIR+'gene_info.csv', index_col = 0)\n",
    "trn = pd.read_csv(GENE_DIR+'TRN.csv', index_col = 0)"
   ]
  },
  {
   "cell_type": "code",
   "execution_count": 22,
   "metadata": {},
   "outputs": [
    {
     "name": "stdout",
     "output_type": "stream",
     "text": [
      "2506 314\n"
     ]
    }
   ],
   "source": [
    "had_link = 0\n",
    "no_link = 0\n",
    "for g in ica_data.S.index:\n",
    "    try: \n",
    "        links[g]\n",
    "        had_link += 1\n",
    "    except:\n",
    "        links[g] = np.nan\n",
    "        no_link += 1\n",
    "print(had_link, no_link)"
   ]
  },
  {
   "cell_type": "code",
   "execution_count": 36,
   "metadata": {},
   "outputs": [],
   "source": [
    "def tf_with_links(k, row, links):\n",
    "    tf_str = row.TF\n",
    "\n",
    "    if not(type(tf_str) == str):\n",
    "        return tf_str\n",
    "\n",
    "    # get a list of transcription factors\n",
    "    and_or = ''\n",
    "    if '/' in tf_str:\n",
    "        and_or = ' or '\n",
    "        tfs = tf_str.split('/')\n",
    "    elif '+' in tf_str:\n",
    "        and_or = ' and '\n",
    "        tfs = tf_str.split('+')\n",
    "    else:\n",
    "        tfs = [tf_str]\n",
    "\n",
    "    # start building an html string\n",
    "    tfs_html = []\n",
    "    for tf in tfs:\n",
    "        tf1 = tf[0].lower() + tf[1:]\n",
    "        if tf1 in ica_data.name2num.keys():\n",
    "            tf_gene = ica_data.name2num[tf1]\n",
    "            link = links[tf_gene]\n",
    "            if type(link)==str:# this tf has a link\n",
    "                tf_ = '<a href=\"' + link + '\" target=\"_blank\">'+ tf + '</a>'\n",
    "                tfs_html += [tf_]\n",
    "            else: # this tf has no link\n",
    "                tfs_html += [tf]\n",
    "        # this tf isn't in the tf_links file\n",
    "        else:\n",
    "            tfs_html += [tf]\n",
    "    res = and_or.join(tfs_html)\n",
    "    return res"
   ]
  },
  {
   "cell_type": "markdown",
   "metadata": {},
   "source": [
    "## Generate Files"
   ]
  },
  {
   "cell_type": "code",
   "execution_count": 25,
   "metadata": {},
   "outputs": [
    {
     "name": "stderr",
     "output_type": "stream",
     "text": [
      "/home/kevin/anaconda3/lib/python3.7/site-packages/ipykernel_launcher.py:6: FutureWarning: The signature of `Series.to_csv` was aligned to that of `DataFrame.to_csv`, and argument 'header' will change its default value from False to True: please pass an explicit value to suppress this warning.\n",
      "  \n"
     ]
    }
   ],
   "source": [
    "# dataset_meta: Stores information for the header of the dataset page\n",
    "dataset_meta = pd.Series({'Title':'<i>S. aureus</i> StaphPRECISE',\n",
    "                          'Organism': '<i>Staphylococcus aureus</i> USA 300',\n",
    "                          'Strain': 'TCH1516 and LAC',\n",
    "                          'Publication':'<a href=\"https://www.biorxiv.org/content/10.1101/2020.03.18.997296v1\">Poudel, et al., 2020</a>'})\n",
    "dataset_meta.to_csv('dataset_meta.csv')"
   ]
  },
  {
   "cell_type": "code",
   "execution_count": 26,
   "metadata": {},
   "outputs": [],
   "source": [
    "cat_order = ['Virulence',\n",
    "             'Carbon Source Utilization',\n",
    "             'Amino Acid and Nucleotide Metabolism',\n",
    "             'Energy Metabolism',\n",
    "             'Metal Homeostasis',\n",
    "             'Miscellaneous Metabolism',\n",
    "             'Structural Components',\n",
    "             'Stress Response',\n",
    "             'Biological Enrichment',\n",
    "             'Mobile Elements',\n",
    "             'Genomic Strain Difference',\n",
    "             'Uncharacterized']\n",
    "cat_dict = {cat_order[i]:i for i in range(len(cat_order))}\n",
    "im_table = enrich[['name', 'Regulator', 'Function', 'Category', 'n_genes', 'precision', 'recall']]\n",
    "im_table = im_table.rename(columns={'name':'Name'})\n",
    "im_table.index.name = 'k'\n",
    "im_table['category_num'] = [cat_dict[im_table.Category[k]] for k in im_table.index]\n",
    "im_table.to_csv('iM_table.csv')"
   ]
  },
  {
   "cell_type": "code",
   "execution_count": 27,
   "metadata": {},
   "outputs": [],
   "source": [
    "num_ims = im_table.shape[0]-1\n",
    "file = open('num_ims.txt', 'w')\n",
    "file.write(str(num_ims))\n",
    "file.close()"
   ]
  },
  {
   "cell_type": "code",
   "execution_count": 34,
   "metadata": {},
   "outputs": [],
   "source": [
    "def make_directory(ica_data, k, row, links, sample_meta):\n",
    "    # generate the plot files\n",
    "    gene_table = gene_table_df(ica_data, k, row, links = links, operon_commas=False)\n",
    "    gene_hist = gene_hist_df(ica_data, k, row)\n",
    "    base_conds = ['USA300_TCH1516_U01-Set000_CAMHB_Control_1', 'USA300_TCH1516_U01-Set000_CAMHB_Control_2'] #TCH1516\n",
    "    #base_conds = ['USA300_LAC_CAMHB_U01-Set001_Control_1', 'USA300_LAC_CAMHB_U01-Set001_Control_2']\n",
    "    gene_scatter = gene_scatter_df(ica_data, k, base_conds, links)\n",
    "    act_bar = activity_bar_df(ica_data, k, sample_meta)\n",
    "\n",
    "    reg_venn = regulon_venn_df(ica_data, k, row)\n",
    "    reg_scatter = regulon_scatter_df(ica_data, k, row)\n",
    "\n",
    "    # generate a basic data df\n",
    "    res = pd.Series(index=['name', 'TF', 'Regulator',\n",
    "                           'Function', 'Category', \n",
    "                           'has_venn', 'scatter', 'has_meme'])\n",
    "    res.loc['name'] = row.loc['name']\n",
    "    res.loc['TF'] = row.TF\n",
    "    res.loc['Regulator'] = tf_with_links(k, row, links)\n",
    "    res.loc['Function'] = row.Function\n",
    "    res.loc['Category'] = row.Category\n",
    "    res.loc['has_venn'] = not(reg_venn is None)\n",
    "    if reg_scatter is None:\n",
    "        res.loc['scatter'] = 0\n",
    "    else:\n",
    "        res.loc['scatter'] = reg_scatter.shape[1] - 1\n",
    "    res.loc['has_meme'] = False # update later\n",
    "    # may also want to add the stats from enrich\n",
    "\n",
    "    # save output\n",
    "    folder = 'iModulon_files/'+str(k)+'/'\n",
    "    if not(os.path.isdir(folder)):\n",
    "        os.mkdir(folder)\n",
    "    res.to_csv(folder+str(k)+'_meta.csv')\n",
    "    gene_table.to_csv(folder+str(k)+'_gene_table.csv')\n",
    "    gene_hist.to_csv(folder+str(k)+'_gene_hist.csv')\n",
    "    gene_scatter.to_csv(folder+str(k)+'_gene_scatter.csv')\n",
    "    act_bar.to_csv(folder+str(k)+'_activity_bar.csv')\n",
    "    if not(reg_venn is None):\n",
    "        reg_venn.to_csv(folder+str(k)+'_reg_venn.csv')\n",
    "    if not(reg_scatter is None):\n",
    "        reg_scatter.to_csv(folder+str(k)+'_reg_scatter.csv')\n",
    "    ica_data.S[k].to_csv(folder+str(k)+'_gene_weights.csv')\n",
    "    ica_data.A.loc[k].to_csv(folder+str(k)+'_activity.csv')"
   ]
  },
  {
   "cell_type": "code",
   "execution_count": 37,
   "metadata": {},
   "outputs": [
    {
     "name": "stderr",
     "output_type": "stream",
     "text": [
      "/home/kevin/anaconda3/lib/python3.7/site-packages/scipy/optimize/minpack.py:795: OptimizeWarning: Covariance of the parameters could not be estimated\n",
      "  category=OptimizeWarning)\n",
      "/home/kevin/anaconda3/lib/python3.7/site-packages/ipykernel_launcher.py:34: FutureWarning: The signature of `Series.to_csv` was aligned to that of `DataFrame.to_csv`, and argument 'header' will change its default value from False to True: please pass an explicit value to suppress this warning.\n",
      "/home/kevin/anaconda3/lib/python3.7/site-packages/ipykernel_launcher.py:43: FutureWarning: The signature of `Series.to_csv` was aligned to that of `DataFrame.to_csv`, and argument 'header' will change its default value from False to True: please pass an explicit value to suppress this warning.\n",
      "/home/kevin/anaconda3/lib/python3.7/site-packages/ipykernel_launcher.py:44: FutureWarning: The signature of `Series.to_csv` was aligned to that of `DataFrame.to_csv`, and argument 'header' will change its default value from False to True: please pass an explicit value to suppress this warning.\n",
      "../../../py/gene_scatter.py:61: SettingWithCopyWarning: \n",
      "A value is trying to be set on a copy of a slice from a DataFrame\n",
      "\n",
      "See the caveats in the documentation: http://pandas.pydata.org/pandas-docs/stable/user_guide/indexing.html#returning-a-view-versus-a-copy\n",
      "  res.link[g] = links[g]\n",
      "/home/kevin/anaconda3/lib/python3.7/site-packages/scipy/optimize/minpack.py:795: OptimizeWarning: Covariance of the parameters could not be estimated\n",
      "  category=OptimizeWarning)\n",
      "/home/kevin/anaconda3/lib/python3.7/site-packages/ipykernel_launcher.py:34: FutureWarning: The signature of `Series.to_csv` was aligned to that of `DataFrame.to_csv`, and argument 'header' will change its default value from False to True: please pass an explicit value to suppress this warning.\n",
      "/home/kevin/anaconda3/lib/python3.7/site-packages/ipykernel_launcher.py:43: FutureWarning: The signature of `Series.to_csv` was aligned to that of `DataFrame.to_csv`, and argument 'header' will change its default value from False to True: please pass an explicit value to suppress this warning.\n",
      "/home/kevin/anaconda3/lib/python3.7/site-packages/ipykernel_launcher.py:44: FutureWarning: The signature of `Series.to_csv` was aligned to that of `DataFrame.to_csv`, and argument 'header' will change its default value from False to True: please pass an explicit value to suppress this warning.\n",
      "../../../py/gene_scatter.py:61: SettingWithCopyWarning: \n",
      "A value is trying to be set on a copy of a slice from a DataFrame\n",
      "\n",
      "See the caveats in the documentation: http://pandas.pydata.org/pandas-docs/stable/user_guide/indexing.html#returning-a-view-versus-a-copy\n",
      "  res.link[g] = links[g]\n",
      "/home/kevin/anaconda3/lib/python3.7/site-packages/scipy/optimize/minpack.py:795: OptimizeWarning: Covariance of the parameters could not be estimated\n",
      "  category=OptimizeWarning)\n",
      "/home/kevin/anaconda3/lib/python3.7/site-packages/ipykernel_launcher.py:34: FutureWarning: The signature of `Series.to_csv` was aligned to that of `DataFrame.to_csv`, and argument 'header' will change its default value from False to True: please pass an explicit value to suppress this warning.\n",
      "/home/kevin/anaconda3/lib/python3.7/site-packages/ipykernel_launcher.py:43: FutureWarning: The signature of `Series.to_csv` was aligned to that of `DataFrame.to_csv`, and argument 'header' will change its default value from False to True: please pass an explicit value to suppress this warning.\n",
      "/home/kevin/anaconda3/lib/python3.7/site-packages/ipykernel_launcher.py:44: FutureWarning: The signature of `Series.to_csv` was aligned to that of `DataFrame.to_csv`, and argument 'header' will change its default value from False to True: please pass an explicit value to suppress this warning.\n",
      "../../../py/gene_scatter.py:61: SettingWithCopyWarning: \n",
      "A value is trying to be set on a copy of a slice from a DataFrame\n",
      "\n",
      "See the caveats in the documentation: http://pandas.pydata.org/pandas-docs/stable/user_guide/indexing.html#returning-a-view-versus-a-copy\n",
      "  res.link[g] = links[g]\n",
      "/home/kevin/anaconda3/lib/python3.7/site-packages/scipy/optimize/minpack.py:795: OptimizeWarning: Covariance of the parameters could not be estimated\n",
      "  category=OptimizeWarning)\n",
      "/home/kevin/anaconda3/lib/python3.7/site-packages/ipykernel_launcher.py:34: FutureWarning: The signature of `Series.to_csv` was aligned to that of `DataFrame.to_csv`, and argument 'header' will change its default value from False to True: please pass an explicit value to suppress this warning.\n",
      "/home/kevin/anaconda3/lib/python3.7/site-packages/ipykernel_launcher.py:43: FutureWarning: The signature of `Series.to_csv` was aligned to that of `DataFrame.to_csv`, and argument 'header' will change its default value from False to True: please pass an explicit value to suppress this warning.\n",
      "/home/kevin/anaconda3/lib/python3.7/site-packages/ipykernel_launcher.py:44: FutureWarning: The signature of `Series.to_csv` was aligned to that of `DataFrame.to_csv`, and argument 'header' will change its default value from False to True: please pass an explicit value to suppress this warning.\n",
      "../../../py/gene_scatter.py:61: SettingWithCopyWarning: \n",
      "A value is trying to be set on a copy of a slice from a DataFrame\n",
      "\n",
      "See the caveats in the documentation: http://pandas.pydata.org/pandas-docs/stable/user_guide/indexing.html#returning-a-view-versus-a-copy\n",
      "  res.link[g] = links[g]\n",
      "/home/kevin/anaconda3/lib/python3.7/site-packages/scipy/optimize/minpack.py:795: OptimizeWarning: Covariance of the parameters could not be estimated\n",
      "  category=OptimizeWarning)\n",
      "/home/kevin/anaconda3/lib/python3.7/site-packages/ipykernel_launcher.py:34: FutureWarning: The signature of `Series.to_csv` was aligned to that of `DataFrame.to_csv`, and argument 'header' will change its default value from False to True: please pass an explicit value to suppress this warning.\n",
      "/home/kevin/anaconda3/lib/python3.7/site-packages/ipykernel_launcher.py:43: FutureWarning: The signature of `Series.to_csv` was aligned to that of `DataFrame.to_csv`, and argument 'header' will change its default value from False to True: please pass an explicit value to suppress this warning.\n",
      "/home/kevin/anaconda3/lib/python3.7/site-packages/ipykernel_launcher.py:44: FutureWarning: The signature of `Series.to_csv` was aligned to that of `DataFrame.to_csv`, and argument 'header' will change its default value from False to True: please pass an explicit value to suppress this warning.\n",
      "../../../py/gene_scatter.py:61: SettingWithCopyWarning: \n",
      "A value is trying to be set on a copy of a slice from a DataFrame\n",
      "\n",
      "See the caveats in the documentation: http://pandas.pydata.org/pandas-docs/stable/user_guide/indexing.html#returning-a-view-versus-a-copy\n",
      "  res.link[g] = links[g]\n"
     ]
    },
    {
     "name": "stdout",
     "output_type": "stream",
     "text": [
      "MISSING TF: GuanineRiboswitch\n",
      "MISSING TF: GuanineRiboswitch\n"
     ]
    },
    {
     "name": "stderr",
     "output_type": "stream",
     "text": [
      "/home/kevin/anaconda3/lib/python3.7/site-packages/scipy/optimize/minpack.py:795: OptimizeWarning: Covariance of the parameters could not be estimated\n",
      "  category=OptimizeWarning)\n",
      "/home/kevin/anaconda3/lib/python3.7/site-packages/ipykernel_launcher.py:34: FutureWarning: The signature of `Series.to_csv` was aligned to that of `DataFrame.to_csv`, and argument 'header' will change its default value from False to True: please pass an explicit value to suppress this warning.\n",
      "/home/kevin/anaconda3/lib/python3.7/site-packages/ipykernel_launcher.py:43: FutureWarning: The signature of `Series.to_csv` was aligned to that of `DataFrame.to_csv`, and argument 'header' will change its default value from False to True: please pass an explicit value to suppress this warning.\n",
      "/home/kevin/anaconda3/lib/python3.7/site-packages/ipykernel_launcher.py:44: FutureWarning: The signature of `Series.to_csv` was aligned to that of `DataFrame.to_csv`, and argument 'header' will change its default value from False to True: please pass an explicit value to suppress this warning.\n",
      "../../../py/gene_scatter.py:61: SettingWithCopyWarning: \n",
      "A value is trying to be set on a copy of a slice from a DataFrame\n",
      "\n",
      "See the caveats in the documentation: http://pandas.pydata.org/pandas-docs/stable/user_guide/indexing.html#returning-a-view-versus-a-copy\n",
      "  res.link[g] = links[g]\n",
      "/home/kevin/anaconda3/lib/python3.7/site-packages/scipy/optimize/minpack.py:795: OptimizeWarning: Covariance of the parameters could not be estimated\n",
      "  category=OptimizeWarning)\n",
      "/home/kevin/anaconda3/lib/python3.7/site-packages/ipykernel_launcher.py:34: FutureWarning: The signature of `Series.to_csv` was aligned to that of `DataFrame.to_csv`, and argument 'header' will change its default value from False to True: please pass an explicit value to suppress this warning.\n",
      "/home/kevin/anaconda3/lib/python3.7/site-packages/ipykernel_launcher.py:43: FutureWarning: The signature of `Series.to_csv` was aligned to that of `DataFrame.to_csv`, and argument 'header' will change its default value from False to True: please pass an explicit value to suppress this warning.\n",
      "/home/kevin/anaconda3/lib/python3.7/site-packages/ipykernel_launcher.py:44: FutureWarning: The signature of `Series.to_csv` was aligned to that of `DataFrame.to_csv`, and argument 'header' will change its default value from False to True: please pass an explicit value to suppress this warning.\n",
      "../../../py/gene_scatter.py:61: SettingWithCopyWarning: \n",
      "A value is trying to be set on a copy of a slice from a DataFrame\n",
      "\n",
      "See the caveats in the documentation: http://pandas.pydata.org/pandas-docs/stable/user_guide/indexing.html#returning-a-view-versus-a-copy\n",
      "  res.link[g] = links[g]\n",
      "/home/kevin/anaconda3/lib/python3.7/site-packages/scipy/optimize/minpack.py:795: OptimizeWarning: Covariance of the parameters could not be estimated\n",
      "  category=OptimizeWarning)\n",
      "/home/kevin/anaconda3/lib/python3.7/site-packages/ipykernel_launcher.py:34: FutureWarning: The signature of `Series.to_csv` was aligned to that of `DataFrame.to_csv`, and argument 'header' will change its default value from False to True: please pass an explicit value to suppress this warning.\n",
      "/home/kevin/anaconda3/lib/python3.7/site-packages/ipykernel_launcher.py:43: FutureWarning: The signature of `Series.to_csv` was aligned to that of `DataFrame.to_csv`, and argument 'header' will change its default value from False to True: please pass an explicit value to suppress this warning.\n",
      "/home/kevin/anaconda3/lib/python3.7/site-packages/ipykernel_launcher.py:44: FutureWarning: The signature of `Series.to_csv` was aligned to that of `DataFrame.to_csv`, and argument 'header' will change its default value from False to True: please pass an explicit value to suppress this warning.\n"
     ]
    },
    {
     "name": "stdout",
     "output_type": "stream",
     "text": [
      "MISSING TF: SigS\n",
      "MISSING TF: SigS\n"
     ]
    },
    {
     "name": "stderr",
     "output_type": "stream",
     "text": [
      "../../../py/gene_scatter.py:61: SettingWithCopyWarning: \n",
      "A value is trying to be set on a copy of a slice from a DataFrame\n",
      "\n",
      "See the caveats in the documentation: http://pandas.pydata.org/pandas-docs/stable/user_guide/indexing.html#returning-a-view-versus-a-copy\n",
      "  res.link[g] = links[g]\n",
      "/home/kevin/anaconda3/lib/python3.7/site-packages/scipy/optimize/minpack.py:795: OptimizeWarning: Covariance of the parameters could not be estimated\n",
      "  category=OptimizeWarning)\n",
      "/home/kevin/anaconda3/lib/python3.7/site-packages/ipykernel_launcher.py:34: FutureWarning: The signature of `Series.to_csv` was aligned to that of `DataFrame.to_csv`, and argument 'header' will change its default value from False to True: please pass an explicit value to suppress this warning.\n",
      "/home/kevin/anaconda3/lib/python3.7/site-packages/ipykernel_launcher.py:43: FutureWarning: The signature of `Series.to_csv` was aligned to that of `DataFrame.to_csv`, and argument 'header' will change its default value from False to True: please pass an explicit value to suppress this warning.\n",
      "/home/kevin/anaconda3/lib/python3.7/site-packages/ipykernel_launcher.py:44: FutureWarning: The signature of `Series.to_csv` was aligned to that of `DataFrame.to_csv`, and argument 'header' will change its default value from False to True: please pass an explicit value to suppress this warning.\n",
      "../../../py/gene_scatter.py:61: SettingWithCopyWarning: \n",
      "A value is trying to be set on a copy of a slice from a DataFrame\n",
      "\n",
      "See the caveats in the documentation: http://pandas.pydata.org/pandas-docs/stable/user_guide/indexing.html#returning-a-view-versus-a-copy\n",
      "  res.link[g] = links[g]\n",
      "/home/kevin/anaconda3/lib/python3.7/site-packages/scipy/optimize/minpack.py:795: OptimizeWarning: Covariance of the parameters could not be estimated\n",
      "  category=OptimizeWarning)\n",
      "/home/kevin/anaconda3/lib/python3.7/site-packages/ipykernel_launcher.py:34: FutureWarning: The signature of `Series.to_csv` was aligned to that of `DataFrame.to_csv`, and argument 'header' will change its default value from False to True: please pass an explicit value to suppress this warning.\n",
      "/home/kevin/anaconda3/lib/python3.7/site-packages/ipykernel_launcher.py:43: FutureWarning: The signature of `Series.to_csv` was aligned to that of `DataFrame.to_csv`, and argument 'header' will change its default value from False to True: please pass an explicit value to suppress this warning.\n",
      "/home/kevin/anaconda3/lib/python3.7/site-packages/ipykernel_launcher.py:44: FutureWarning: The signature of `Series.to_csv` was aligned to that of `DataFrame.to_csv`, and argument 'header' will change its default value from False to True: please pass an explicit value to suppress this warning.\n",
      "../../../py/gene_scatter.py:61: SettingWithCopyWarning: \n",
      "A value is trying to be set on a copy of a slice from a DataFrame\n",
      "\n",
      "See the caveats in the documentation: http://pandas.pydata.org/pandas-docs/stable/user_guide/indexing.html#returning-a-view-versus-a-copy\n",
      "  res.link[g] = links[g]\n",
      "/home/kevin/anaconda3/lib/python3.7/site-packages/scipy/optimize/minpack.py:795: OptimizeWarning: Covariance of the parameters could not be estimated\n",
      "  category=OptimizeWarning)\n",
      "/home/kevin/anaconda3/lib/python3.7/site-packages/ipykernel_launcher.py:34: FutureWarning: The signature of `Series.to_csv` was aligned to that of `DataFrame.to_csv`, and argument 'header' will change its default value from False to True: please pass an explicit value to suppress this warning.\n",
      "/home/kevin/anaconda3/lib/python3.7/site-packages/ipykernel_launcher.py:43: FutureWarning: The signature of `Series.to_csv` was aligned to that of `DataFrame.to_csv`, and argument 'header' will change its default value from False to True: please pass an explicit value to suppress this warning.\n",
      "/home/kevin/anaconda3/lib/python3.7/site-packages/ipykernel_launcher.py:44: FutureWarning: The signature of `Series.to_csv` was aligned to that of `DataFrame.to_csv`, and argument 'header' will change its default value from False to True: please pass an explicit value to suppress this warning.\n",
      "../../../py/gene_scatter.py:61: SettingWithCopyWarning: \n",
      "A value is trying to be set on a copy of a slice from a DataFrame\n",
      "\n",
      "See the caveats in the documentation: http://pandas.pydata.org/pandas-docs/stable/user_guide/indexing.html#returning-a-view-versus-a-copy\n",
      "  res.link[g] = links[g]\n",
      "/home/kevin/anaconda3/lib/python3.7/site-packages/scipy/optimize/minpack.py:795: OptimizeWarning: Covariance of the parameters could not be estimated\n",
      "  category=OptimizeWarning)\n",
      "/home/kevin/anaconda3/lib/python3.7/site-packages/ipykernel_launcher.py:34: FutureWarning: The signature of `Series.to_csv` was aligned to that of `DataFrame.to_csv`, and argument 'header' will change its default value from False to True: please pass an explicit value to suppress this warning.\n",
      "/home/kevin/anaconda3/lib/python3.7/site-packages/ipykernel_launcher.py:43: FutureWarning: The signature of `Series.to_csv` was aligned to that of `DataFrame.to_csv`, and argument 'header' will change its default value from False to True: please pass an explicit value to suppress this warning.\n",
      "/home/kevin/anaconda3/lib/python3.7/site-packages/ipykernel_launcher.py:44: FutureWarning: The signature of `Series.to_csv` was aligned to that of `DataFrame.to_csv`, and argument 'header' will change its default value from False to True: please pass an explicit value to suppress this warning.\n",
      "../../../py/gene_scatter.py:61: SettingWithCopyWarning: \n",
      "A value is trying to be set on a copy of a slice from a DataFrame\n",
      "\n",
      "See the caveats in the documentation: http://pandas.pydata.org/pandas-docs/stable/user_guide/indexing.html#returning-a-view-versus-a-copy\n",
      "  res.link[g] = links[g]\n",
      "/home/kevin/anaconda3/lib/python3.7/site-packages/scipy/optimize/minpack.py:795: OptimizeWarning: Covariance of the parameters could not be estimated\n",
      "  category=OptimizeWarning)\n",
      "/home/kevin/anaconda3/lib/python3.7/site-packages/ipykernel_launcher.py:34: FutureWarning: The signature of `Series.to_csv` was aligned to that of `DataFrame.to_csv`, and argument 'header' will change its default value from False to True: please pass an explicit value to suppress this warning.\n",
      "/home/kevin/anaconda3/lib/python3.7/site-packages/ipykernel_launcher.py:43: FutureWarning: The signature of `Series.to_csv` was aligned to that of `DataFrame.to_csv`, and argument 'header' will change its default value from False to True: please pass an explicit value to suppress this warning.\n",
      "/home/kevin/anaconda3/lib/python3.7/site-packages/ipykernel_launcher.py:44: FutureWarning: The signature of `Series.to_csv` was aligned to that of `DataFrame.to_csv`, and argument 'header' will change its default value from False to True: please pass an explicit value to suppress this warning.\n",
      "../../../py/gene_scatter.py:61: SettingWithCopyWarning: \n",
      "A value is trying to be set on a copy of a slice from a DataFrame\n",
      "\n",
      "See the caveats in the documentation: http://pandas.pydata.org/pandas-docs/stable/user_guide/indexing.html#returning-a-view-versus-a-copy\n",
      "  res.link[g] = links[g]\n",
      "/home/kevin/anaconda3/lib/python3.7/site-packages/scipy/optimize/minpack.py:795: OptimizeWarning: Covariance of the parameters could not be estimated\n",
      "  category=OptimizeWarning)\n",
      "/home/kevin/anaconda3/lib/python3.7/site-packages/ipykernel_launcher.py:34: FutureWarning: The signature of `Series.to_csv` was aligned to that of `DataFrame.to_csv`, and argument 'header' will change its default value from False to True: please pass an explicit value to suppress this warning.\n",
      "/home/kevin/anaconda3/lib/python3.7/site-packages/ipykernel_launcher.py:43: FutureWarning: The signature of `Series.to_csv` was aligned to that of `DataFrame.to_csv`, and argument 'header' will change its default value from False to True: please pass an explicit value to suppress this warning.\n",
      "/home/kevin/anaconda3/lib/python3.7/site-packages/ipykernel_launcher.py:44: FutureWarning: The signature of `Series.to_csv` was aligned to that of `DataFrame.to_csv`, and argument 'header' will change its default value from False to True: please pass an explicit value to suppress this warning.\n",
      "../../../py/gene_scatter.py:61: SettingWithCopyWarning: \n",
      "A value is trying to be set on a copy of a slice from a DataFrame\n",
      "\n",
      "See the caveats in the documentation: http://pandas.pydata.org/pandas-docs/stable/user_guide/indexing.html#returning-a-view-versus-a-copy\n",
      "  res.link[g] = links[g]\n",
      "/home/kevin/anaconda3/lib/python3.7/site-packages/scipy/optimize/minpack.py:795: OptimizeWarning: Covariance of the parameters could not be estimated\n",
      "  category=OptimizeWarning)\n",
      "/home/kevin/anaconda3/lib/python3.7/site-packages/ipykernel_launcher.py:34: FutureWarning: The signature of `Series.to_csv` was aligned to that of `DataFrame.to_csv`, and argument 'header' will change its default value from False to True: please pass an explicit value to suppress this warning.\n",
      "/home/kevin/anaconda3/lib/python3.7/site-packages/ipykernel_launcher.py:43: FutureWarning: The signature of `Series.to_csv` was aligned to that of `DataFrame.to_csv`, and argument 'header' will change its default value from False to True: please pass an explicit value to suppress this warning.\n",
      "/home/kevin/anaconda3/lib/python3.7/site-packages/ipykernel_launcher.py:44: FutureWarning: The signature of `Series.to_csv` was aligned to that of `DataFrame.to_csv`, and argument 'header' will change its default value from False to True: please pass an explicit value to suppress this warning.\n"
     ]
    }
   ],
   "source": [
    "for k, row in enrich.iterrows():\n",
    "    make_directory(ica_data, k, row, links, sample_meta)"
   ]
  },
  {
   "cell_type": "markdown",
   "metadata": {},
   "source": [
    "# Gene Files"
   ]
  },
  {
   "cell_type": "code",
   "execution_count": 30,
   "metadata": {},
   "outputs": [],
   "source": [
    "# Filter out genes with no ICA data\n",
    "reduced_gene_info = gene_info.copy()\n",
    "reduced_gene_info = reduced_gene_info[reduced_gene_info.index.isin(ica_data.X.index)]"
   ]
  },
  {
   "cell_type": "code",
   "execution_count": 43,
   "metadata": {},
   "outputs": [],
   "source": [
    "# Information for Gene Metadata\n",
    "\n",
    "def make_gene_files(ica_data, k, row, links, sample_meta):\n",
    "\n",
    "    # generate metadata df\n",
    "    res = pd.Series(index=['gene_id', 'name', 'operon', 'product',\n",
    "                           'cog', 'regulator(s)', 'link'])\n",
    "    res.loc['gene_id'] = k\n",
    "    res.loc['name'] = row.gene_name\n",
    "    res.loc['operon'] = row.operon\n",
    "    res.loc['product'] = row['product']\n",
    "    res.loc['cog'] = row.cog\n",
    "    res.loc['regulator(s)'] = \", \".join(trn[trn.gene_id == k].TF.to_list())\n",
    "    try:\n",
    "        res.loc['link'] = '<a href=\"' + str(links[k]) + '\">'+ 'AureoWiki' + '</a>'\n",
    "    except:\n",
    "        res.loc['link'] = None\n",
    "    res.fillna(value=\"<i> Not Available </i>\", inplace = True) \n",
    "    \n",
    "    # save output\n",
    "    folder = 'gene_page_files/'+str(k)+'/'\n",
    "    if not(os.path.isdir(folder)):\n",
    "        os.mkdir(folder)\n",
    "    res.to_csv(folder+str(k)+'_meta.csv')"
   ]
  },
  {
   "cell_type": "code",
   "execution_count": 44,
   "metadata": {},
   "outputs": [
    {
     "name": "stderr",
     "output_type": "stream",
     "text": [
      "/home/katherine/anaconda3/lib/python3.7/site-packages/ipykernel_launcher.py:7 \u001b[1;31mDeprecationWarning\u001b[0m: The default dtype for empty Series will be 'object' instead of 'float64' in a future version. Specify a dtype explicitly to silence this warning.\n"
     ]
    }
   ],
   "source": [
    "# generate metadata csv for each gene\n",
    "for k, row in reduced_gene_info.iterrows():\n",
    "    make_gene_files(ica_data, k, row, links, sample_meta)"
   ]
  },
  {
   "cell_type": "code",
   "execution_count": 33,
   "metadata": {},
   "outputs": [],
   "source": [
    "# activity plot + expression for each gene\n",
    "for gene_id in reduced_gene_info.index:\n",
    "    this_fig = gene_activity_bar_df(ica_data, gene_id, sample_meta)\n",
    "    folder = 'gene_page_files/'+str(gene_id)+'/'\n",
    "    this_fig.to_csv(folder + gene_id + '_activity_bar.csv')\n",
    "    ica_data.X.loc[gene_id].to_csv(folder+gene_id+'_expression.csv')"
   ]
  },
  {
   "cell_type": "code",
   "execution_count": 42,
   "metadata": {},
   "outputs": [],
   "source": [
    "# table for each gene\n",
    "\n",
    "# generate df with all iM genes indicated T/F \n",
    "im_genes= ica_data.S.T.copy()\n",
    "for k,row in ica_data.S.T.iterrows():\n",
    "    im_genes.loc[k,:] = abs(row) > abs(ica_data.thresholds[k])\n",
    "    \n",
    "# iM_table: start with main component of iM page\n",
    "im_table = enrich[['name', 'Regulator', 'Function', 'Category']]\n",
    "im_table = im_table.rename(columns={'name':'Name'})\n",
    "im_table.index.name = 'k'\n",
    "\n",
    "#loop through genes:\n",
    "for gene_id in reduced_gene_info.index:\n",
    "    perGene_table = im_table.copy()\n",
    "    perGene_table.insert(column ='in_iM', value = im_genes.loc[:, gene_id], loc = 1)\n",
    "    perGene_table.insert(column ='gene_weight', value = ica_data.S.loc[gene_id, :], loc = 2)\n",
    "\n",
    "    #sort\n",
    "    perGene_table = (perGene_table.assign(A=perGene_table['gene_weight'].abs())\n",
    "            .sort_values(['in_iM','A'],ascending=[False, False])\n",
    "            .drop('A', 1))\n",
    "    folder = 'gene_page_files/'+str(gene_id)+'/'\n",
    "    perGene_table.to_csv(folder + gene_id + '_perGene_table.csv')"
   ]
  },
  {
   "cell_type": "markdown",
   "metadata": {},
   "source": [
    "### make json file for Search"
   ]
  },
  {
   "cell_type": "code",
   "execution_count": 37,
   "metadata": {},
   "outputs": [],
   "source": [
    "# Get df in correct format\n",
    "gene_df = reduced_gene_info.copy()\n",
    "gene_df[\"gene_id\"] = reduced_gene_info.index\n",
    "gene_df = gene_df[['gene_name', \"gene_id\", \"product\"]]\n",
    "gene_df = gene_df.sort_values(by=\"gene_name\")\n",
    "gene_df[\"gene_name\"] = gene_df[\"gene_name\"].fillna(value = \"Unnamed Gene\")\n",
    "gene_df[\"product\"] = gene_df[\"product\"].fillna(value = \"not available\")\n",
    "\n",
    "#create gene info json\n",
    "gene_df.to_json('./gene_page_files/gene_list.json', orient=\"records\")"
   ]
  }
 ],
 "metadata": {
  "kernelspec": {
   "display_name": "Python 3",
   "language": "python",
   "name": "python3"
  },
  "language_info": {
   "codemirror_mode": {
    "name": "ipython",
    "version": 3
   },
   "file_extension": ".py",
   "mimetype": "text/x-python",
   "name": "python",
   "nbconvert_exporter": "python",
   "pygments_lexer": "ipython3",
   "version": "3.7.6"
  }
 },
 "nbformat": 4,
 "nbformat_minor": 2
}
